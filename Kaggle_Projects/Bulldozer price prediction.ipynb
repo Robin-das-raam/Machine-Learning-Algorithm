{
 "cells": [
  {
   "cell_type": "markdown",
   "id": "53a419fa",
   "metadata": {},
   "source": [
    "# Predicting the sale price of Bulldozers\n",
    "\n",
    "The goal of this project is to predicting the sales price of Bulldozers.."
   ]
  },
  {
   "cell_type": "markdown",
   "id": "5ede0e93",
   "metadata": {},
   "source": [
    "# Problem Definition\n",
    "\n",
    "> How well can we predict the future sale price of bulldozer, given its characteristics and previous examples of how much similar bulldozers have been sold for?  "
   ]
  },
  {
   "cell_type": "code",
   "execution_count": 1,
   "id": "0a37a6f1",
   "metadata": {},
   "outputs": [],
   "source": [
    "import numpy as np \n",
    "import pandas as pd\n",
    "import matplotlib.pyplot as plt\n",
    "import seaborn as sns\n",
    "import sklearn\n",
    "from datetime import datetime"
   ]
  },
  {
   "cell_type": "code",
   "execution_count": 2,
   "id": "512ec4a4",
   "metadata": {},
   "outputs": [],
   "source": [
    "df = pd.read_csv(\"TrainAndValid.csv\",low_memory = False)"
   ]
  },
  {
   "cell_type": "code",
   "execution_count": 4,
   "id": "b55f1d24",
   "metadata": {},
   "outputs": [
    {
     "data": {
      "text/html": [
       "<div>\n",
       "<style scoped>\n",
       "    .dataframe tbody tr th:only-of-type {\n",
       "        vertical-align: middle;\n",
       "    }\n",
       "\n",
       "    .dataframe tbody tr th {\n",
       "        vertical-align: top;\n",
       "    }\n",
       "\n",
       "    .dataframe thead th {\n",
       "        text-align: right;\n",
       "    }\n",
       "</style>\n",
       "<table border=\"1\" class=\"dataframe\">\n",
       "  <thead>\n",
       "    <tr style=\"text-align: right;\">\n",
       "      <th></th>\n",
       "      <th>SalesID</th>\n",
       "      <th>SalePrice</th>\n",
       "      <th>MachineID</th>\n",
       "      <th>ModelID</th>\n",
       "      <th>datasource</th>\n",
       "      <th>auctioneerID</th>\n",
       "      <th>YearMade</th>\n",
       "      <th>MachineHoursCurrentMeter</th>\n",
       "      <th>UsageBand</th>\n",
       "      <th>saledate</th>\n",
       "      <th>...</th>\n",
       "      <th>Undercarriage_Pad_Width</th>\n",
       "      <th>Stick_Length</th>\n",
       "      <th>Thumb</th>\n",
       "      <th>Pattern_Changer</th>\n",
       "      <th>Grouser_Type</th>\n",
       "      <th>Backhoe_Mounting</th>\n",
       "      <th>Blade_Type</th>\n",
       "      <th>Travel_Controls</th>\n",
       "      <th>Differential_Type</th>\n",
       "      <th>Steering_Controls</th>\n",
       "    </tr>\n",
       "  </thead>\n",
       "  <tbody>\n",
       "    <tr>\n",
       "      <th>0</th>\n",
       "      <td>1139246</td>\n",
       "      <td>66000.0</td>\n",
       "      <td>999089</td>\n",
       "      <td>3157</td>\n",
       "      <td>121</td>\n",
       "      <td>3.0</td>\n",
       "      <td>2004</td>\n",
       "      <td>68.0</td>\n",
       "      <td>Low</td>\n",
       "      <td>11/16/2006 0:00</td>\n",
       "      <td>...</td>\n",
       "      <td>NaN</td>\n",
       "      <td>NaN</td>\n",
       "      <td>NaN</td>\n",
       "      <td>NaN</td>\n",
       "      <td>NaN</td>\n",
       "      <td>NaN</td>\n",
       "      <td>NaN</td>\n",
       "      <td>NaN</td>\n",
       "      <td>Standard</td>\n",
       "      <td>Conventional</td>\n",
       "    </tr>\n",
       "    <tr>\n",
       "      <th>1</th>\n",
       "      <td>1139248</td>\n",
       "      <td>57000.0</td>\n",
       "      <td>117657</td>\n",
       "      <td>77</td>\n",
       "      <td>121</td>\n",
       "      <td>3.0</td>\n",
       "      <td>1996</td>\n",
       "      <td>4640.0</td>\n",
       "      <td>Low</td>\n",
       "      <td>3/26/2004 0:00</td>\n",
       "      <td>...</td>\n",
       "      <td>NaN</td>\n",
       "      <td>NaN</td>\n",
       "      <td>NaN</td>\n",
       "      <td>NaN</td>\n",
       "      <td>NaN</td>\n",
       "      <td>NaN</td>\n",
       "      <td>NaN</td>\n",
       "      <td>NaN</td>\n",
       "      <td>Standard</td>\n",
       "      <td>Conventional</td>\n",
       "    </tr>\n",
       "    <tr>\n",
       "      <th>2</th>\n",
       "      <td>1139249</td>\n",
       "      <td>10000.0</td>\n",
       "      <td>434808</td>\n",
       "      <td>7009</td>\n",
       "      <td>121</td>\n",
       "      <td>3.0</td>\n",
       "      <td>2001</td>\n",
       "      <td>2838.0</td>\n",
       "      <td>High</td>\n",
       "      <td>2/26/2004 0:00</td>\n",
       "      <td>...</td>\n",
       "      <td>NaN</td>\n",
       "      <td>NaN</td>\n",
       "      <td>NaN</td>\n",
       "      <td>NaN</td>\n",
       "      <td>NaN</td>\n",
       "      <td>NaN</td>\n",
       "      <td>NaN</td>\n",
       "      <td>NaN</td>\n",
       "      <td>NaN</td>\n",
       "      <td>NaN</td>\n",
       "    </tr>\n",
       "    <tr>\n",
       "      <th>3</th>\n",
       "      <td>1139251</td>\n",
       "      <td>38500.0</td>\n",
       "      <td>1026470</td>\n",
       "      <td>332</td>\n",
       "      <td>121</td>\n",
       "      <td>3.0</td>\n",
       "      <td>2001</td>\n",
       "      <td>3486.0</td>\n",
       "      <td>High</td>\n",
       "      <td>5/19/2011 0:00</td>\n",
       "      <td>...</td>\n",
       "      <td>NaN</td>\n",
       "      <td>NaN</td>\n",
       "      <td>NaN</td>\n",
       "      <td>NaN</td>\n",
       "      <td>NaN</td>\n",
       "      <td>NaN</td>\n",
       "      <td>NaN</td>\n",
       "      <td>NaN</td>\n",
       "      <td>NaN</td>\n",
       "      <td>NaN</td>\n",
       "    </tr>\n",
       "    <tr>\n",
       "      <th>4</th>\n",
       "      <td>1139253</td>\n",
       "      <td>11000.0</td>\n",
       "      <td>1057373</td>\n",
       "      <td>17311</td>\n",
       "      <td>121</td>\n",
       "      <td>3.0</td>\n",
       "      <td>2007</td>\n",
       "      <td>722.0</td>\n",
       "      <td>Medium</td>\n",
       "      <td>7/23/2009 0:00</td>\n",
       "      <td>...</td>\n",
       "      <td>NaN</td>\n",
       "      <td>NaN</td>\n",
       "      <td>NaN</td>\n",
       "      <td>NaN</td>\n",
       "      <td>NaN</td>\n",
       "      <td>NaN</td>\n",
       "      <td>NaN</td>\n",
       "      <td>NaN</td>\n",
       "      <td>NaN</td>\n",
       "      <td>NaN</td>\n",
       "    </tr>\n",
       "  </tbody>\n",
       "</table>\n",
       "<p>5 rows × 53 columns</p>\n",
       "</div>"
      ],
      "text/plain": [
       "   SalesID  SalePrice  MachineID  ModelID  datasource  auctioneerID  YearMade  \\\n",
       "0  1139246    66000.0     999089     3157         121           3.0      2004   \n",
       "1  1139248    57000.0     117657       77         121           3.0      1996   \n",
       "2  1139249    10000.0     434808     7009         121           3.0      2001   \n",
       "3  1139251    38500.0    1026470      332         121           3.0      2001   \n",
       "4  1139253    11000.0    1057373    17311         121           3.0      2007   \n",
       "\n",
       "   MachineHoursCurrentMeter UsageBand         saledate  ...  \\\n",
       "0                      68.0       Low  11/16/2006 0:00  ...   \n",
       "1                    4640.0       Low   3/26/2004 0:00  ...   \n",
       "2                    2838.0      High   2/26/2004 0:00  ...   \n",
       "3                    3486.0      High   5/19/2011 0:00  ...   \n",
       "4                     722.0    Medium   7/23/2009 0:00  ...   \n",
       "\n",
       "  Undercarriage_Pad_Width Stick_Length Thumb Pattern_Changer Grouser_Type  \\\n",
       "0                     NaN          NaN   NaN             NaN          NaN   \n",
       "1                     NaN          NaN   NaN             NaN          NaN   \n",
       "2                     NaN          NaN   NaN             NaN          NaN   \n",
       "3                     NaN          NaN   NaN             NaN          NaN   \n",
       "4                     NaN          NaN   NaN             NaN          NaN   \n",
       "\n",
       "  Backhoe_Mounting Blade_Type Travel_Controls Differential_Type  \\\n",
       "0              NaN        NaN             NaN          Standard   \n",
       "1              NaN        NaN             NaN          Standard   \n",
       "2              NaN        NaN             NaN               NaN   \n",
       "3              NaN        NaN             NaN               NaN   \n",
       "4              NaN        NaN             NaN               NaN   \n",
       "\n",
       "  Steering_Controls  \n",
       "0      Conventional  \n",
       "1      Conventional  \n",
       "2               NaN  \n",
       "3               NaN  \n",
       "4               NaN  \n",
       "\n",
       "[5 rows x 53 columns]"
      ]
     },
     "execution_count": 4,
     "metadata": {},
     "output_type": "execute_result"
    }
   ],
   "source": [
    "df.head(5)"
   ]
  },
  {
   "cell_type": "code",
   "execution_count": 5,
   "id": "23e2eedd",
   "metadata": {},
   "outputs": [
    {
     "name": "stdout",
     "output_type": "stream",
     "text": [
      "<class 'pandas.core.frame.DataFrame'>\n",
      "RangeIndex: 412698 entries, 0 to 412697\n",
      "Data columns (total 53 columns):\n",
      " #   Column                    Non-Null Count   Dtype  \n",
      "---  ------                    --------------   -----  \n",
      " 0   SalesID                   412698 non-null  int64  \n",
      " 1   SalePrice                 412698 non-null  float64\n",
      " 2   MachineID                 412698 non-null  int64  \n",
      " 3   ModelID                   412698 non-null  int64  \n",
      " 4   datasource                412698 non-null  int64  \n",
      " 5   auctioneerID              392562 non-null  float64\n",
      " 6   YearMade                  412698 non-null  int64  \n",
      " 7   MachineHoursCurrentMeter  147504 non-null  float64\n",
      " 8   UsageBand                 73670 non-null   object \n",
      " 9   saledate                  412698 non-null  object \n",
      " 10  fiModelDesc               412698 non-null  object \n",
      " 11  fiBaseModel               412698 non-null  object \n",
      " 12  fiSecondaryDesc           271971 non-null  object \n",
      " 13  fiModelSeries             58667 non-null   object \n",
      " 14  fiModelDescriptor         74816 non-null   object \n",
      " 15  ProductSize               196093 non-null  object \n",
      " 16  fiProductClassDesc        412698 non-null  object \n",
      " 17  state                     412698 non-null  object \n",
      " 18  ProductGroup              412698 non-null  object \n",
      " 19  ProductGroupDesc          412698 non-null  object \n",
      " 20  Drive_System              107087 non-null  object \n",
      " 21  Enclosure                 412364 non-null  object \n",
      " 22  Forks                     197715 non-null  object \n",
      " 23  Pad_Type                  81096 non-null   object \n",
      " 24  Ride_Control              152728 non-null  object \n",
      " 25  Stick                     81096 non-null   object \n",
      " 26  Transmission              188007 non-null  object \n",
      " 27  Turbocharged              81096 non-null   object \n",
      " 28  Blade_Extension           25983 non-null   object \n",
      " 29  Blade_Width               25983 non-null   object \n",
      " 30  Enclosure_Type            25983 non-null   object \n",
      " 31  Engine_Horsepower         25983 non-null   object \n",
      " 32  Hydraulics                330133 non-null  object \n",
      " 33  Pushblock                 25983 non-null   object \n",
      " 34  Ripper                    106945 non-null  object \n",
      " 35  Scarifier                 25994 non-null   object \n",
      " 36  Tip_Control               25983 non-null   object \n",
      " 37  Tire_Size                 97638 non-null   object \n",
      " 38  Coupler                   220679 non-null  object \n",
      " 39  Coupler_System            44974 non-null   object \n",
      " 40  Grouser_Tracks            44875 non-null   object \n",
      " 41  Hydraulics_Flow           44875 non-null   object \n",
      " 42  Track_Type                102193 non-null  object \n",
      " 43  Undercarriage_Pad_Width   102916 non-null  object \n",
      " 44  Stick_Length              102261 non-null  object \n",
      " 45  Thumb                     102332 non-null  object \n",
      " 46  Pattern_Changer           102261 non-null  object \n",
      " 47  Grouser_Type              102193 non-null  object \n",
      " 48  Backhoe_Mounting          80712 non-null   object \n",
      " 49  Blade_Type                81875 non-null   object \n",
      " 50  Travel_Controls           81877 non-null   object \n",
      " 51  Differential_Type         71564 non-null   object \n",
      " 52  Steering_Controls         71522 non-null   object \n",
      "dtypes: float64(3), int64(5), object(45)\n",
      "memory usage: 166.9+ MB\n"
     ]
    }
   ],
   "source": [
    "df.info()"
   ]
  },
  {
   "cell_type": "code",
   "execution_count": 6,
   "id": "e942f400",
   "metadata": {},
   "outputs": [
    {
     "data": {
      "text/plain": [
       "SalesID                          0\n",
       "SalePrice                        0\n",
       "MachineID                        0\n",
       "ModelID                          0\n",
       "datasource                       0\n",
       "auctioneerID                 20136\n",
       "YearMade                         0\n",
       "MachineHoursCurrentMeter    265194\n",
       "UsageBand                   339028\n",
       "saledate                         0\n",
       "fiModelDesc                      0\n",
       "fiBaseModel                      0\n",
       "fiSecondaryDesc             140727\n",
       "fiModelSeries               354031\n",
       "fiModelDescriptor           337882\n",
       "ProductSize                 216605\n",
       "fiProductClassDesc               0\n",
       "state                            0\n",
       "ProductGroup                     0\n",
       "ProductGroupDesc                 0\n",
       "Drive_System                305611\n",
       "Enclosure                      334\n",
       "Forks                       214983\n",
       "Pad_Type                    331602\n",
       "Ride_Control                259970\n",
       "Stick                       331602\n",
       "Transmission                224691\n",
       "Turbocharged                331602\n",
       "Blade_Extension             386715\n",
       "Blade_Width                 386715\n",
       "Enclosure_Type              386715\n",
       "Engine_Horsepower           386715\n",
       "Hydraulics                   82565\n",
       "Pushblock                   386715\n",
       "Ripper                      305753\n",
       "Scarifier                   386704\n",
       "Tip_Control                 386715\n",
       "Tire_Size                   315060\n",
       "Coupler                     192019\n",
       "Coupler_System              367724\n",
       "Grouser_Tracks              367823\n",
       "Hydraulics_Flow             367823\n",
       "Track_Type                  310505\n",
       "Undercarriage_Pad_Width     309782\n",
       "Stick_Length                310437\n",
       "Thumb                       310366\n",
       "Pattern_Changer             310437\n",
       "Grouser_Type                310505\n",
       "Backhoe_Mounting            331986\n",
       "Blade_Type                  330823\n",
       "Travel_Controls             330821\n",
       "Differential_Type           341134\n",
       "Steering_Controls           341176\n",
       "dtype: int64"
      ]
     },
     "execution_count": 6,
     "metadata": {},
     "output_type": "execute_result"
    }
   ],
   "source": [
    "#checking for the missing values\n",
    "df.isna().sum()"
   ]
  },
  {
   "cell_type": "markdown",
   "id": "f0105491",
   "metadata": {},
   "source": [
    "# Parsing Dates"
   ]
  },
  {
   "cell_type": "code",
   "execution_count": 7,
   "id": "fc365be3",
   "metadata": {},
   "outputs": [
    {
     "name": "stderr",
     "output_type": "stream",
     "text": [
      "/home/robin/.local/lib/python3.7/site-packages/IPython/core/interactiveshell.py:3441: DtypeWarning: Columns (13,39,40,41) have mixed types.Specify dtype option on import or set low_memory=False.\n",
      "  exec(code_obj, self.user_global_ns, self.user_ns)\n"
     ]
    },
    {
     "data": {
      "text/html": [
       "<div>\n",
       "<style scoped>\n",
       "    .dataframe tbody tr th:only-of-type {\n",
       "        vertical-align: middle;\n",
       "    }\n",
       "\n",
       "    .dataframe tbody tr th {\n",
       "        vertical-align: top;\n",
       "    }\n",
       "\n",
       "    .dataframe thead th {\n",
       "        text-align: right;\n",
       "    }\n",
       "</style>\n",
       "<table border=\"1\" class=\"dataframe\">\n",
       "  <thead>\n",
       "    <tr style=\"text-align: right;\">\n",
       "      <th></th>\n",
       "      <th>SalesID</th>\n",
       "      <th>SalePrice</th>\n",
       "      <th>MachineID</th>\n",
       "      <th>ModelID</th>\n",
       "      <th>datasource</th>\n",
       "      <th>auctioneerID</th>\n",
       "      <th>YearMade</th>\n",
       "      <th>MachineHoursCurrentMeter</th>\n",
       "      <th>UsageBand</th>\n",
       "      <th>saledate</th>\n",
       "      <th>...</th>\n",
       "      <th>Undercarriage_Pad_Width</th>\n",
       "      <th>Stick_Length</th>\n",
       "      <th>Thumb</th>\n",
       "      <th>Pattern_Changer</th>\n",
       "      <th>Grouser_Type</th>\n",
       "      <th>Backhoe_Mounting</th>\n",
       "      <th>Blade_Type</th>\n",
       "      <th>Travel_Controls</th>\n",
       "      <th>Differential_Type</th>\n",
       "      <th>Steering_Controls</th>\n",
       "    </tr>\n",
       "  </thead>\n",
       "  <tbody>\n",
       "    <tr>\n",
       "      <th>0</th>\n",
       "      <td>1139246</td>\n",
       "      <td>66000.0</td>\n",
       "      <td>999089</td>\n",
       "      <td>3157</td>\n",
       "      <td>121</td>\n",
       "      <td>3.0</td>\n",
       "      <td>2004</td>\n",
       "      <td>68.0</td>\n",
       "      <td>Low</td>\n",
       "      <td>2006-11-16</td>\n",
       "      <td>...</td>\n",
       "      <td>NaN</td>\n",
       "      <td>NaN</td>\n",
       "      <td>NaN</td>\n",
       "      <td>NaN</td>\n",
       "      <td>NaN</td>\n",
       "      <td>NaN</td>\n",
       "      <td>NaN</td>\n",
       "      <td>NaN</td>\n",
       "      <td>Standard</td>\n",
       "      <td>Conventional</td>\n",
       "    </tr>\n",
       "    <tr>\n",
       "      <th>1</th>\n",
       "      <td>1139248</td>\n",
       "      <td>57000.0</td>\n",
       "      <td>117657</td>\n",
       "      <td>77</td>\n",
       "      <td>121</td>\n",
       "      <td>3.0</td>\n",
       "      <td>1996</td>\n",
       "      <td>4640.0</td>\n",
       "      <td>Low</td>\n",
       "      <td>2004-03-26</td>\n",
       "      <td>...</td>\n",
       "      <td>NaN</td>\n",
       "      <td>NaN</td>\n",
       "      <td>NaN</td>\n",
       "      <td>NaN</td>\n",
       "      <td>NaN</td>\n",
       "      <td>NaN</td>\n",
       "      <td>NaN</td>\n",
       "      <td>NaN</td>\n",
       "      <td>Standard</td>\n",
       "      <td>Conventional</td>\n",
       "    </tr>\n",
       "    <tr>\n",
       "      <th>2</th>\n",
       "      <td>1139249</td>\n",
       "      <td>10000.0</td>\n",
       "      <td>434808</td>\n",
       "      <td>7009</td>\n",
       "      <td>121</td>\n",
       "      <td>3.0</td>\n",
       "      <td>2001</td>\n",
       "      <td>2838.0</td>\n",
       "      <td>High</td>\n",
       "      <td>2004-02-26</td>\n",
       "      <td>...</td>\n",
       "      <td>NaN</td>\n",
       "      <td>NaN</td>\n",
       "      <td>NaN</td>\n",
       "      <td>NaN</td>\n",
       "      <td>NaN</td>\n",
       "      <td>NaN</td>\n",
       "      <td>NaN</td>\n",
       "      <td>NaN</td>\n",
       "      <td>NaN</td>\n",
       "      <td>NaN</td>\n",
       "    </tr>\n",
       "    <tr>\n",
       "      <th>3</th>\n",
       "      <td>1139251</td>\n",
       "      <td>38500.0</td>\n",
       "      <td>1026470</td>\n",
       "      <td>332</td>\n",
       "      <td>121</td>\n",
       "      <td>3.0</td>\n",
       "      <td>2001</td>\n",
       "      <td>3486.0</td>\n",
       "      <td>High</td>\n",
       "      <td>2011-05-19</td>\n",
       "      <td>...</td>\n",
       "      <td>NaN</td>\n",
       "      <td>NaN</td>\n",
       "      <td>NaN</td>\n",
       "      <td>NaN</td>\n",
       "      <td>NaN</td>\n",
       "      <td>NaN</td>\n",
       "      <td>NaN</td>\n",
       "      <td>NaN</td>\n",
       "      <td>NaN</td>\n",
       "      <td>NaN</td>\n",
       "    </tr>\n",
       "    <tr>\n",
       "      <th>4</th>\n",
       "      <td>1139253</td>\n",
       "      <td>11000.0</td>\n",
       "      <td>1057373</td>\n",
       "      <td>17311</td>\n",
       "      <td>121</td>\n",
       "      <td>3.0</td>\n",
       "      <td>2007</td>\n",
       "      <td>722.0</td>\n",
       "      <td>Medium</td>\n",
       "      <td>2009-07-23</td>\n",
       "      <td>...</td>\n",
       "      <td>NaN</td>\n",
       "      <td>NaN</td>\n",
       "      <td>NaN</td>\n",
       "      <td>NaN</td>\n",
       "      <td>NaN</td>\n",
       "      <td>NaN</td>\n",
       "      <td>NaN</td>\n",
       "      <td>NaN</td>\n",
       "      <td>NaN</td>\n",
       "      <td>NaN</td>\n",
       "    </tr>\n",
       "    <tr>\n",
       "      <th>...</th>\n",
       "      <td>...</td>\n",
       "      <td>...</td>\n",
       "      <td>...</td>\n",
       "      <td>...</td>\n",
       "      <td>...</td>\n",
       "      <td>...</td>\n",
       "      <td>...</td>\n",
       "      <td>...</td>\n",
       "      <td>...</td>\n",
       "      <td>...</td>\n",
       "      <td>...</td>\n",
       "      <td>...</td>\n",
       "      <td>...</td>\n",
       "      <td>...</td>\n",
       "      <td>...</td>\n",
       "      <td>...</td>\n",
       "      <td>...</td>\n",
       "      <td>...</td>\n",
       "      <td>...</td>\n",
       "      <td>...</td>\n",
       "      <td>...</td>\n",
       "    </tr>\n",
       "    <tr>\n",
       "      <th>412693</th>\n",
       "      <td>6333344</td>\n",
       "      <td>10000.0</td>\n",
       "      <td>1919201</td>\n",
       "      <td>21435</td>\n",
       "      <td>149</td>\n",
       "      <td>2.0</td>\n",
       "      <td>2005</td>\n",
       "      <td>NaN</td>\n",
       "      <td>NaN</td>\n",
       "      <td>2012-03-07</td>\n",
       "      <td>...</td>\n",
       "      <td>None or Unspecified</td>\n",
       "      <td>None or Unspecified</td>\n",
       "      <td>None or Unspecified</td>\n",
       "      <td>None or Unspecified</td>\n",
       "      <td>Double</td>\n",
       "      <td>NaN</td>\n",
       "      <td>NaN</td>\n",
       "      <td>NaN</td>\n",
       "      <td>NaN</td>\n",
       "      <td>NaN</td>\n",
       "    </tr>\n",
       "    <tr>\n",
       "      <th>412694</th>\n",
       "      <td>6333345</td>\n",
       "      <td>10500.0</td>\n",
       "      <td>1882122</td>\n",
       "      <td>21436</td>\n",
       "      <td>149</td>\n",
       "      <td>2.0</td>\n",
       "      <td>2005</td>\n",
       "      <td>NaN</td>\n",
       "      <td>NaN</td>\n",
       "      <td>2012-01-28</td>\n",
       "      <td>...</td>\n",
       "      <td>None or Unspecified</td>\n",
       "      <td>None or Unspecified</td>\n",
       "      <td>None or Unspecified</td>\n",
       "      <td>None or Unspecified</td>\n",
       "      <td>Double</td>\n",
       "      <td>NaN</td>\n",
       "      <td>NaN</td>\n",
       "      <td>NaN</td>\n",
       "      <td>NaN</td>\n",
       "      <td>NaN</td>\n",
       "    </tr>\n",
       "    <tr>\n",
       "      <th>412695</th>\n",
       "      <td>6333347</td>\n",
       "      <td>12500.0</td>\n",
       "      <td>1944213</td>\n",
       "      <td>21435</td>\n",
       "      <td>149</td>\n",
       "      <td>2.0</td>\n",
       "      <td>2005</td>\n",
       "      <td>NaN</td>\n",
       "      <td>NaN</td>\n",
       "      <td>2012-01-28</td>\n",
       "      <td>...</td>\n",
       "      <td>None or Unspecified</td>\n",
       "      <td>None or Unspecified</td>\n",
       "      <td>None or Unspecified</td>\n",
       "      <td>None or Unspecified</td>\n",
       "      <td>Double</td>\n",
       "      <td>NaN</td>\n",
       "      <td>NaN</td>\n",
       "      <td>NaN</td>\n",
       "      <td>NaN</td>\n",
       "      <td>NaN</td>\n",
       "    </tr>\n",
       "    <tr>\n",
       "      <th>412696</th>\n",
       "      <td>6333348</td>\n",
       "      <td>10000.0</td>\n",
       "      <td>1794518</td>\n",
       "      <td>21435</td>\n",
       "      <td>149</td>\n",
       "      <td>2.0</td>\n",
       "      <td>2006</td>\n",
       "      <td>NaN</td>\n",
       "      <td>NaN</td>\n",
       "      <td>2012-03-07</td>\n",
       "      <td>...</td>\n",
       "      <td>None or Unspecified</td>\n",
       "      <td>None or Unspecified</td>\n",
       "      <td>None or Unspecified</td>\n",
       "      <td>None or Unspecified</td>\n",
       "      <td>Double</td>\n",
       "      <td>NaN</td>\n",
       "      <td>NaN</td>\n",
       "      <td>NaN</td>\n",
       "      <td>NaN</td>\n",
       "      <td>NaN</td>\n",
       "    </tr>\n",
       "    <tr>\n",
       "      <th>412697</th>\n",
       "      <td>6333349</td>\n",
       "      <td>13000.0</td>\n",
       "      <td>1944743</td>\n",
       "      <td>21436</td>\n",
       "      <td>149</td>\n",
       "      <td>2.0</td>\n",
       "      <td>2006</td>\n",
       "      <td>NaN</td>\n",
       "      <td>NaN</td>\n",
       "      <td>2012-01-28</td>\n",
       "      <td>...</td>\n",
       "      <td>None or Unspecified</td>\n",
       "      <td>None or Unspecified</td>\n",
       "      <td>None or Unspecified</td>\n",
       "      <td>None or Unspecified</td>\n",
       "      <td>Double</td>\n",
       "      <td>NaN</td>\n",
       "      <td>NaN</td>\n",
       "      <td>NaN</td>\n",
       "      <td>NaN</td>\n",
       "      <td>NaN</td>\n",
       "    </tr>\n",
       "  </tbody>\n",
       "</table>\n",
       "<p>412698 rows × 53 columns</p>\n",
       "</div>"
      ],
      "text/plain": [
       "        SalesID  SalePrice  MachineID  ModelID  datasource  auctioneerID  \\\n",
       "0       1139246    66000.0     999089     3157         121           3.0   \n",
       "1       1139248    57000.0     117657       77         121           3.0   \n",
       "2       1139249    10000.0     434808     7009         121           3.0   \n",
       "3       1139251    38500.0    1026470      332         121           3.0   \n",
       "4       1139253    11000.0    1057373    17311         121           3.0   \n",
       "...         ...        ...        ...      ...         ...           ...   \n",
       "412693  6333344    10000.0    1919201    21435         149           2.0   \n",
       "412694  6333345    10500.0    1882122    21436         149           2.0   \n",
       "412695  6333347    12500.0    1944213    21435         149           2.0   \n",
       "412696  6333348    10000.0    1794518    21435         149           2.0   \n",
       "412697  6333349    13000.0    1944743    21436         149           2.0   \n",
       "\n",
       "        YearMade  MachineHoursCurrentMeter UsageBand   saledate  ...  \\\n",
       "0           2004                      68.0       Low 2006-11-16  ...   \n",
       "1           1996                    4640.0       Low 2004-03-26  ...   \n",
       "2           2001                    2838.0      High 2004-02-26  ...   \n",
       "3           2001                    3486.0      High 2011-05-19  ...   \n",
       "4           2007                     722.0    Medium 2009-07-23  ...   \n",
       "...          ...                       ...       ...        ...  ...   \n",
       "412693      2005                       NaN       NaN 2012-03-07  ...   \n",
       "412694      2005                       NaN       NaN 2012-01-28  ...   \n",
       "412695      2005                       NaN       NaN 2012-01-28  ...   \n",
       "412696      2006                       NaN       NaN 2012-03-07  ...   \n",
       "412697      2006                       NaN       NaN 2012-01-28  ...   \n",
       "\n",
       "       Undercarriage_Pad_Width         Stick_Length                Thumb  \\\n",
       "0                          NaN                  NaN                  NaN   \n",
       "1                          NaN                  NaN                  NaN   \n",
       "2                          NaN                  NaN                  NaN   \n",
       "3                          NaN                  NaN                  NaN   \n",
       "4                          NaN                  NaN                  NaN   \n",
       "...                        ...                  ...                  ...   \n",
       "412693     None or Unspecified  None or Unspecified  None or Unspecified   \n",
       "412694     None or Unspecified  None or Unspecified  None or Unspecified   \n",
       "412695     None or Unspecified  None or Unspecified  None or Unspecified   \n",
       "412696     None or Unspecified  None or Unspecified  None or Unspecified   \n",
       "412697     None or Unspecified  None or Unspecified  None or Unspecified   \n",
       "\n",
       "            Pattern_Changer Grouser_Type Backhoe_Mounting Blade_Type  \\\n",
       "0                       NaN          NaN              NaN        NaN   \n",
       "1                       NaN          NaN              NaN        NaN   \n",
       "2                       NaN          NaN              NaN        NaN   \n",
       "3                       NaN          NaN              NaN        NaN   \n",
       "4                       NaN          NaN              NaN        NaN   \n",
       "...                     ...          ...              ...        ...   \n",
       "412693  None or Unspecified       Double              NaN        NaN   \n",
       "412694  None or Unspecified       Double              NaN        NaN   \n",
       "412695  None or Unspecified       Double              NaN        NaN   \n",
       "412696  None or Unspecified       Double              NaN        NaN   \n",
       "412697  None or Unspecified       Double              NaN        NaN   \n",
       "\n",
       "       Travel_Controls Differential_Type Steering_Controls  \n",
       "0                  NaN          Standard      Conventional  \n",
       "1                  NaN          Standard      Conventional  \n",
       "2                  NaN               NaN               NaN  \n",
       "3                  NaN               NaN               NaN  \n",
       "4                  NaN               NaN               NaN  \n",
       "...                ...               ...               ...  \n",
       "412693             NaN               NaN               NaN  \n",
       "412694             NaN               NaN               NaN  \n",
       "412695             NaN               NaN               NaN  \n",
       "412696             NaN               NaN               NaN  \n",
       "412697             NaN               NaN               NaN  \n",
       "\n",
       "[412698 rows x 53 columns]"
      ]
     },
     "execution_count": 7,
     "metadata": {},
     "output_type": "execute_result"
    }
   ],
   "source": [
    "bull_df = pd.read_csv(\"TrainAndValid.csv\",parse_dates = [\"saledate\"])\n",
    "bull_df"
   ]
  },
  {
   "cell_type": "code",
   "execution_count": 21,
   "id": "76008249",
   "metadata": {},
   "outputs": [
    {
     "data": {
      "text/plain": [
       "0        2006-11-16\n",
       "1        2004-03-26\n",
       "2        2004-02-26\n",
       "3        2011-05-19\n",
       "4        2009-07-23\n",
       "            ...    \n",
       "412693   2012-03-07\n",
       "412694   2012-01-28\n",
       "412695   2012-01-28\n",
       "412696   2012-03-07\n",
       "412697   2012-01-28\n",
       "Name: saledate, Length: 412698, dtype: datetime64[ns]"
      ]
     },
     "execution_count": 21,
     "metadata": {},
     "output_type": "execute_result"
    }
   ],
   "source": [
    "bull_df[\"saledate\"]"
   ]
  },
  {
   "cell_type": "markdown",
   "id": "70615014",
   "metadata": {},
   "source": [
    "# Sorting DataFrame by saledate\n",
    "\n",
    "**we are working with time series data..so sorting the dates is a good idea**\n",
    "\n"
   ]
  },
  {
   "cell_type": "code",
   "execution_count": 24,
   "id": "d54dca86",
   "metadata": {},
   "outputs": [],
   "source": [
    "# Sorting Dataframe in Datetime order\n",
    "\n",
    "bull_df.sort_values(by = [\"saledate\"], inplace = True,ascending = True)"
   ]
  },
  {
   "cell_type": "code",
   "execution_count": 26,
   "id": "4dabdd18",
   "metadata": {},
   "outputs": [
    {
     "data": {
      "text/plain": [
       "205615   1989-01-17\n",
       "274835   1989-01-31\n",
       "141296   1989-01-31\n",
       "212552   1989-01-31\n",
       "62755    1989-01-31\n",
       "54653    1989-01-31\n",
       "81383    1989-01-31\n",
       "204924   1989-01-31\n",
       "135376   1989-01-31\n",
       "113390   1989-01-31\n",
       "113394   1989-01-31\n",
       "116419   1989-01-31\n",
       "32138    1989-01-31\n",
       "127610   1989-01-31\n",
       "76171    1989-01-31\n",
       "127000   1989-01-31\n",
       "128130   1989-01-31\n",
       "127626   1989-01-31\n",
       "55455    1989-01-31\n",
       "55454    1989-01-31\n",
       "Name: saledate, dtype: datetime64[ns]"
      ]
     },
     "execution_count": 26,
     "metadata": {},
     "output_type": "execute_result"
    }
   ],
   "source": [
    "bull_df.saledate.head(20)"
   ]
  },
  {
   "cell_type": "markdown",
   "id": "74790513",
   "metadata": {},
   "source": [
    "# Making a Copy of original DataFrame"
   ]
  },
  {
   "cell_type": "code",
   "execution_count": 27,
   "id": "59eca362",
   "metadata": {},
   "outputs": [],
   "source": [
    "bull_cpy = bull_df.copy()"
   ]
  },
  {
   "cell_type": "markdown",
   "id": "e533f5b4",
   "metadata": {},
   "source": [
    "# Add datetime parameters for saledate column"
   ]
  },
  {
   "cell_type": "code",
   "execution_count": 28,
   "id": "db09445e",
   "metadata": {},
   "outputs": [],
   "source": [
    "bull_cpy[\"saleYear\"] = bull_cpy.saledate.dt.year\n",
    "bull_cpy[\"saleMonth\"] = bull_cpy.saledate.dt.month\n",
    "bull_cpy[\"saleDay\"] = bull_cpy.saledate.dt.day\n",
    "bull_cpy[\"saleDayofWeek\"] = bull_cpy.saledate.dt.dayofweek\n",
    "bull_cpy[\"saleDayofYear\"] = bull_cpy.saledate.dt.dayofyear"
   ]
  },
  {
   "cell_type": "code",
   "execution_count": 30,
   "id": "a5074460",
   "metadata": {},
   "outputs": [
    {
     "data": {
      "text/plain": [
       "Index(['SalesID', 'SalePrice', 'MachineID', 'ModelID', 'datasource',\n",
       "       'auctioneerID', 'YearMade', 'MachineHoursCurrentMeter', 'UsageBand',\n",
       "       'saledate', 'fiModelDesc', 'fiBaseModel', 'fiSecondaryDesc',\n",
       "       'fiModelSeries', 'fiModelDescriptor', 'ProductSize',\n",
       "       'fiProductClassDesc', 'state', 'ProductGroup', 'ProductGroupDesc',\n",
       "       'Drive_System', 'Enclosure', 'Forks', 'Pad_Type', 'Ride_Control',\n",
       "       'Stick', 'Transmission', 'Turbocharged', 'Blade_Extension',\n",
       "       'Blade_Width', 'Enclosure_Type', 'Engine_Horsepower', 'Hydraulics',\n",
       "       'Pushblock', 'Ripper', 'Scarifier', 'Tip_Control', 'Tire_Size',\n",
       "       'Coupler', 'Coupler_System', 'Grouser_Tracks', 'Hydraulics_Flow',\n",
       "       'Track_Type', 'Undercarriage_Pad_Width', 'Stick_Length', 'Thumb',\n",
       "       'Pattern_Changer', 'Grouser_Type', 'Backhoe_Mounting', 'Blade_Type',\n",
       "       'Travel_Controls', 'Differential_Type', 'Steering_Controls', 'saleYear',\n",
       "       'saleMonth', 'saleDay', 'saleDayofWeek', 'saleDayofYear'],\n",
       "      dtype='object')"
      ]
     },
     "execution_count": 30,
     "metadata": {},
     "output_type": "execute_result"
    }
   ],
   "source": [
    "bull_cpy.columns\n"
   ]
  },
  {
   "cell_type": "code",
   "execution_count": 31,
   "id": "2cf399dd",
   "metadata": {},
   "outputs": [],
   "source": [
    "# we dont need the saledate column\n",
    "\n",
    "bull_cpy.drop(\"saledate\",axis = 1, inplace = True)"
   ]
  },
  {
   "cell_type": "markdown",
   "id": "c98c67dc",
   "metadata": {},
   "source": [
    "# Convert String to Category"
   ]
  },
  {
   "cell_type": "code",
   "execution_count": 32,
   "id": "cf371b2b",
   "metadata": {},
   "outputs": [
    {
     "data": {
      "text/plain": [
       "True"
      ]
     },
     "execution_count": 32,
     "metadata": {},
     "output_type": "execute_result"
    }
   ],
   "source": [
    "pd.api.types.is_string_dtype(bull_cpy[\"Blade_Type\"])"
   ]
  },
  {
   "cell_type": "code",
   "execution_count": 33,
   "id": "4672b23f",
   "metadata": {},
   "outputs": [
    {
     "data": {
      "text/plain": [
       "True"
      ]
     },
     "execution_count": 33,
     "metadata": {},
     "output_type": "execute_result"
    }
   ],
   "source": [
    "pd.api.types.is_string_dtype(bull_cpy[\"Hydraulics\"])"
   ]
  },
  {
   "cell_type": "code",
   "execution_count": 34,
   "id": "477468cd",
   "metadata": {},
   "outputs": [
    {
     "name": "stdout",
     "output_type": "stream",
     "text": [
      "UsageBand\n",
      "fiModelDesc\n",
      "fiBaseModel\n",
      "fiSecondaryDesc\n",
      "fiModelSeries\n",
      "fiModelDescriptor\n",
      "ProductSize\n",
      "fiProductClassDesc\n",
      "state\n",
      "ProductGroup\n",
      "ProductGroupDesc\n",
      "Drive_System\n",
      "Enclosure\n",
      "Forks\n",
      "Pad_Type\n",
      "Ride_Control\n",
      "Stick\n",
      "Transmission\n",
      "Turbocharged\n",
      "Blade_Extension\n",
      "Blade_Width\n",
      "Enclosure_Type\n",
      "Engine_Horsepower\n",
      "Hydraulics\n",
      "Pushblock\n",
      "Ripper\n",
      "Scarifier\n",
      "Tip_Control\n",
      "Tire_Size\n",
      "Coupler\n",
      "Coupler_System\n",
      "Grouser_Tracks\n",
      "Hydraulics_Flow\n",
      "Track_Type\n",
      "Undercarriage_Pad_Width\n",
      "Stick_Length\n",
      "Thumb\n",
      "Pattern_Changer\n",
      "Grouser_Type\n",
      "Backhoe_Mounting\n",
      "Blade_Type\n",
      "Travel_Controls\n",
      "Differential_Type\n",
      "Steering_Controls\n"
     ]
    }
   ],
   "source": [
    "# Find the columns which contains string dtype\n",
    "\n",
    "for label,content in bull_cpy.items():\n",
    "    if pd.api.types.is_string_dtype(content):\n",
    "        print(label)"
   ]
  },
  {
   "cell_type": "code",
   "execution_count": 35,
   "id": "155021f3",
   "metadata": {},
   "outputs": [],
   "source": [
    "# This will turn all of the string value into category values\n",
    "\n",
    "for label, content in bull_cpy.items():\n",
    "    if pd.api.types.is_string_dtype(content):\n",
    "        bull_cpy[label] = content.astype(\"category\").cat.as_ordered()"
   ]
  },
  {
   "cell_type": "code",
   "execution_count": 36,
   "id": "c59d1f41",
   "metadata": {},
   "outputs": [
    {
     "name": "stdout",
     "output_type": "stream",
     "text": [
      "<class 'pandas.core.frame.DataFrame'>\n",
      "Int64Index: 412698 entries, 205615 to 409203\n",
      "Data columns (total 57 columns):\n",
      " #   Column                    Non-Null Count   Dtype   \n",
      "---  ------                    --------------   -----   \n",
      " 0   SalesID                   412698 non-null  int64   \n",
      " 1   SalePrice                 412698 non-null  float64 \n",
      " 2   MachineID                 412698 non-null  int64   \n",
      " 3   ModelID                   412698 non-null  int64   \n",
      " 4   datasource                412698 non-null  int64   \n",
      " 5   auctioneerID              392562 non-null  float64 \n",
      " 6   YearMade                  412698 non-null  int64   \n",
      " 7   MachineHoursCurrentMeter  147504 non-null  float64 \n",
      " 8   UsageBand                 73670 non-null   category\n",
      " 9   fiModelDesc               412698 non-null  category\n",
      " 10  fiBaseModel               412698 non-null  category\n",
      " 11  fiSecondaryDesc           271971 non-null  category\n",
      " 12  fiModelSeries             58667 non-null   category\n",
      " 13  fiModelDescriptor         74816 non-null   category\n",
      " 14  ProductSize               196093 non-null  category\n",
      " 15  fiProductClassDesc        412698 non-null  category\n",
      " 16  state                     412698 non-null  category\n",
      " 17  ProductGroup              412698 non-null  category\n",
      " 18  ProductGroupDesc          412698 non-null  category\n",
      " 19  Drive_System              107087 non-null  category\n",
      " 20  Enclosure                 412364 non-null  category\n",
      " 21  Forks                     197715 non-null  category\n",
      " 22  Pad_Type                  81096 non-null   category\n",
      " 23  Ride_Control              152728 non-null  category\n",
      " 24  Stick                     81096 non-null   category\n",
      " 25  Transmission              188007 non-null  category\n",
      " 26  Turbocharged              81096 non-null   category\n",
      " 27  Blade_Extension           25983 non-null   category\n",
      " 28  Blade_Width               25983 non-null   category\n",
      " 29  Enclosure_Type            25983 non-null   category\n",
      " 30  Engine_Horsepower         25983 non-null   category\n",
      " 31  Hydraulics                330133 non-null  category\n",
      " 32  Pushblock                 25983 non-null   category\n",
      " 33  Ripper                    106945 non-null  category\n",
      " 34  Scarifier                 25994 non-null   category\n",
      " 35  Tip_Control               25983 non-null   category\n",
      " 36  Tire_Size                 97638 non-null   category\n",
      " 37  Coupler                   220679 non-null  category\n",
      " 38  Coupler_System            44974 non-null   category\n",
      " 39  Grouser_Tracks            44875 non-null   category\n",
      " 40  Hydraulics_Flow           44875 non-null   category\n",
      " 41  Track_Type                102193 non-null  category\n",
      " 42  Undercarriage_Pad_Width   102916 non-null  category\n",
      " 43  Stick_Length              102261 non-null  category\n",
      " 44  Thumb                     102332 non-null  category\n",
      " 45  Pattern_Changer           102261 non-null  category\n",
      " 46  Grouser_Type              102193 non-null  category\n",
      " 47  Backhoe_Mounting          80712 non-null   category\n",
      " 48  Blade_Type                81875 non-null   category\n",
      " 49  Travel_Controls           81877 non-null   category\n",
      " 50  Differential_Type         71564 non-null   category\n",
      " 51  Steering_Controls         71522 non-null   category\n",
      " 52  saleYear                  412698 non-null  int64   \n",
      " 53  saleMonth                 412698 non-null  int64   \n",
      " 54  saleDay                   412698 non-null  int64   \n",
      " 55  saleDayofWeek             412698 non-null  int64   \n",
      " 56  saleDayofYear             412698 non-null  int64   \n",
      "dtypes: category(44), float64(3), int64(10)\n",
      "memory usage: 63.6 MB\n"
     ]
    }
   ],
   "source": [
    "bull_cpy.info()"
   ]
  },
  {
   "cell_type": "code",
   "execution_count": 37,
   "id": "5a305437",
   "metadata": {},
   "outputs": [
    {
     "data": {
      "text/plain": [
       "Index(['Alabama', 'Alaska', 'Arizona', 'Arkansas', 'California', 'Colorado',\n",
       "       'Connecticut', 'Delaware', 'Florida', 'Georgia', 'Hawaii', 'Idaho',\n",
       "       'Illinois', 'Indiana', 'Iowa', 'Kansas', 'Kentucky', 'Louisiana',\n",
       "       'Maine', 'Maryland', 'Massachusetts', 'Michigan', 'Minnesota',\n",
       "       'Mississippi', 'Missouri', 'Montana', 'Nebraska', 'Nevada',\n",
       "       'New Hampshire', 'New Jersey', 'New Mexico', 'New York',\n",
       "       'North Carolina', 'North Dakota', 'Ohio', 'Oklahoma', 'Oregon',\n",
       "       'Pennsylvania', 'Puerto Rico', 'Rhode Island', 'South Carolina',\n",
       "       'South Dakota', 'Tennessee', 'Texas', 'Unspecified', 'Utah', 'Vermont',\n",
       "       'Virginia', 'Washington', 'Washington DC', 'West Virginia', 'Wisconsin',\n",
       "       'Wyoming'],\n",
       "      dtype='object')"
      ]
     },
     "execution_count": 37,
     "metadata": {},
     "output_type": "execute_result"
    }
   ],
   "source": [
    "bull_cpy.state.cat.categories"
   ]
  },
  {
   "cell_type": "code",
   "execution_count": 38,
   "id": "b17f062f",
   "metadata": {},
   "outputs": [
    {
     "data": {
      "text/plain": [
       "Florida           67320\n",
       "Texas             53110\n",
       "California        29761\n",
       "Washington        16222\n",
       "Georgia           14633\n",
       "Maryland          13322\n",
       "Mississippi       13240\n",
       "Ohio              12369\n",
       "Illinois          11540\n",
       "Colorado          11529\n",
       "New Jersey        11156\n",
       "North Carolina    10636\n",
       "Tennessee         10298\n",
       "Alabama           10292\n",
       "Pennsylvania      10234\n",
       "South Carolina     9951\n",
       "Arizona            9364\n",
       "New York           8639\n",
       "Connecticut        8276\n",
       "Minnesota          7885\n",
       "Missouri           7178\n",
       "Nevada             6932\n",
       "Louisiana          6627\n",
       "Kentucky           5351\n",
       "Maine              5096\n",
       "Indiana            4124\n",
       "Arkansas           3933\n",
       "New Mexico         3631\n",
       "Utah               3046\n",
       "Unspecified        2801\n",
       "Wisconsin          2745\n",
       "New Hampshire      2738\n",
       "Virginia           2353\n",
       "Idaho              2025\n",
       "Oregon             1911\n",
       "Michigan           1831\n",
       "Wyoming            1672\n",
       "Montana            1336\n",
       "Iowa               1336\n",
       "Oklahoma           1326\n",
       "Nebraska            866\n",
       "West Virginia       840\n",
       "Kansas              667\n",
       "Delaware            510\n",
       "North Dakota        480\n",
       "Alaska              430\n",
       "Massachusetts       347\n",
       "Vermont             300\n",
       "South Dakota        244\n",
       "Hawaii              118\n",
       "Rhode Island         83\n",
       "Puerto Rico          42\n",
       "Washington DC         2\n",
       "Name: state, dtype: int64"
      ]
     },
     "execution_count": 38,
     "metadata": {},
     "output_type": "execute_result"
    }
   ],
   "source": [
    "bull_cpy.state.value_counts()"
   ]
  },
  {
   "cell_type": "code",
   "execution_count": 39,
   "id": "2e0a8cdf",
   "metadata": {},
   "outputs": [
    {
     "data": {
      "text/plain": [
       "205615    43\n",
       "274835     8\n",
       "141296     8\n",
       "212552     8\n",
       "62755      8\n",
       "          ..\n",
       "410879     4\n",
       "412476     4\n",
       "411927     4\n",
       "407124     4\n",
       "409203     4\n",
       "Length: 412698, dtype: int8"
      ]
     },
     "execution_count": 39,
     "metadata": {},
     "output_type": "execute_result"
    }
   ],
   "source": [
    "bull_cpy.state.cat.codes"
   ]
  },
  {
   "cell_type": "code",
   "execution_count": 40,
   "id": "60c9b859",
   "metadata": {},
   "outputs": [
    {
     "data": {
      "text/plain": [
       "SalesID                          0\n",
       "SalePrice                        0\n",
       "MachineID                        0\n",
       "ModelID                          0\n",
       "datasource                       0\n",
       "auctioneerID                 20136\n",
       "YearMade                         0\n",
       "MachineHoursCurrentMeter    265194\n",
       "UsageBand                   339028\n",
       "fiModelDesc                      0\n",
       "fiBaseModel                      0\n",
       "fiSecondaryDesc             140727\n",
       "fiModelSeries               354031\n",
       "fiModelDescriptor           337882\n",
       "ProductSize                 216605\n",
       "fiProductClassDesc               0\n",
       "state                            0\n",
       "ProductGroup                     0\n",
       "ProductGroupDesc                 0\n",
       "Drive_System                305611\n",
       "Enclosure                      334\n",
       "Forks                       214983\n",
       "Pad_Type                    331602\n",
       "Ride_Control                259970\n",
       "Stick                       331602\n",
       "Transmission                224691\n",
       "Turbocharged                331602\n",
       "Blade_Extension             386715\n",
       "Blade_Width                 386715\n",
       "Enclosure_Type              386715\n",
       "Engine_Horsepower           386715\n",
       "Hydraulics                   82565\n",
       "Pushblock                   386715\n",
       "Ripper                      305753\n",
       "Scarifier                   386704\n",
       "Tip_Control                 386715\n",
       "Tire_Size                   315060\n",
       "Coupler                     192019\n",
       "Coupler_System              367724\n",
       "Grouser_Tracks              367823\n",
       "Hydraulics_Flow             367823\n",
       "Track_Type                  310505\n",
       "Undercarriage_Pad_Width     309782\n",
       "Stick_Length                310437\n",
       "Thumb                       310366\n",
       "Pattern_Changer             310437\n",
       "Grouser_Type                310505\n",
       "Backhoe_Mounting            331986\n",
       "Blade_Type                  330823\n",
       "Travel_Controls             330821\n",
       "Differential_Type           341134\n",
       "Steering_Controls           341176\n",
       "saleYear                         0\n",
       "saleMonth                        0\n",
       "saleDay                          0\n",
       "saleDayofWeek                    0\n",
       "saleDayofYear                    0\n",
       "dtype: int64"
      ]
     },
     "execution_count": 40,
     "metadata": {},
     "output_type": "execute_result"
    }
   ],
   "source": [
    "# check the missing value\n",
    "\n",
    "bull_cpy.isna().sum()"
   ]
  },
  {
   "cell_type": "code",
   "execution_count": 41,
   "id": "f27b2909",
   "metadata": {},
   "outputs": [
    {
     "data": {
      "text/plain": [
       "SalesID                     0.000000\n",
       "SalePrice                   0.000000\n",
       "MachineID                   0.000000\n",
       "ModelID                     0.000000\n",
       "datasource                  0.000000\n",
       "auctioneerID                0.048791\n",
       "YearMade                    0.000000\n",
       "MachineHoursCurrentMeter    0.642586\n",
       "UsageBand                   0.821492\n",
       "fiModelDesc                 0.000000\n",
       "fiBaseModel                 0.000000\n",
       "fiSecondaryDesc             0.340993\n",
       "fiModelSeries               0.857845\n",
       "fiModelDescriptor           0.818715\n",
       "ProductSize                 0.524851\n",
       "fiProductClassDesc          0.000000\n",
       "state                       0.000000\n",
       "ProductGroup                0.000000\n",
       "ProductGroupDesc            0.000000\n",
       "Drive_System                0.740520\n",
       "Enclosure                   0.000809\n",
       "Forks                       0.520921\n",
       "Pad_Type                    0.803498\n",
       "Ride_Control                0.629928\n",
       "Stick                       0.803498\n",
       "Transmission                0.544444\n",
       "Turbocharged                0.803498\n",
       "Blade_Extension             0.937041\n",
       "Blade_Width                 0.937041\n",
       "Enclosure_Type              0.937041\n",
       "Engine_Horsepower           0.937041\n",
       "Hydraulics                  0.200062\n",
       "Pushblock                   0.937041\n",
       "Ripper                      0.740864\n",
       "Scarifier                   0.937014\n",
       "Tip_Control                 0.937041\n",
       "Tire_Size                   0.763415\n",
       "Coupler                     0.465277\n",
       "Coupler_System              0.891024\n",
       "Grouser_Tracks              0.891264\n",
       "Hydraulics_Flow             0.891264\n",
       "Track_Type                  0.752378\n",
       "Undercarriage_Pad_Width     0.750626\n",
       "Stick_Length                0.752213\n",
       "Thumb                       0.752041\n",
       "Pattern_Changer             0.752213\n",
       "Grouser_Type                0.752378\n",
       "Backhoe_Mounting            0.804428\n",
       "Blade_Type                  0.801610\n",
       "Travel_Controls             0.801606\n",
       "Differential_Type           0.826595\n",
       "Steering_Controls           0.826697\n",
       "saleYear                    0.000000\n",
       "saleMonth                   0.000000\n",
       "saleDay                     0.000000\n",
       "saleDayofWeek               0.000000\n",
       "saleDayofYear               0.000000\n",
       "dtype: float64"
      ]
     },
     "execution_count": 41,
     "metadata": {},
     "output_type": "execute_result"
    }
   ],
   "source": [
    "#find the ratio of missing values \n",
    "\n",
    "bull_cpy.isna().sum()/len(bull_cpy)"
   ]
  },
  {
   "cell_type": "markdown",
   "id": "f862eb69",
   "metadata": {},
   "source": [
    "**We can see some column data are fully missing**"
   ]
  },
  {
   "cell_type": "markdown",
   "id": "2872628b",
   "metadata": {},
   "source": [
    "# Save Preprocessed Data"
   ]
  },
  {
   "cell_type": "code",
   "execution_count": 42,
   "id": "9f454270",
   "metadata": {},
   "outputs": [],
   "source": [
    "# Export current bull_cpy dataframe\n",
    " \n",
    "bull_cpy.to_csv(\"Train_tmp.csv\", index = False)"
   ]
  },
  {
   "cell_type": "code",
   "execution_count": 3,
   "id": "0d2124ed",
   "metadata": {},
   "outputs": [],
   "source": [
    "# import Preprocessed Data\n",
    "bull_cpy = pd.read_csv(\"Train_tmp.csv\", low_memory = False)"
   ]
  },
  {
   "cell_type": "markdown",
   "id": "0a520c9b",
   "metadata": {},
   "source": [
    "# Fill Missing Values"
   ]
  },
  {
   "cell_type": "code",
   "execution_count": 4,
   "id": "ea5cca79",
   "metadata": {},
   "outputs": [
    {
     "name": "stdout",
     "output_type": "stream",
     "text": [
      "SalesID\n",
      "SalePrice\n",
      "MachineID\n",
      "ModelID\n",
      "datasource\n",
      "auctioneerID\n",
      "YearMade\n",
      "MachineHoursCurrentMeter\n",
      "saleYear\n",
      "saleMonth\n",
      "saleDay\n",
      "saleDayofWeek\n",
      "saleDayofYear\n"
     ]
    }
   ],
   "source": [
    "#Fill Numerical missing value first\n",
    "\n",
    "for label, content in bull_cpy.items():\n",
    "    if pd.api.types.is_numeric_dtype(content):\n",
    "        print(label)"
   ]
  },
  {
   "cell_type": "code",
   "execution_count": 5,
   "id": "1f8ba688",
   "metadata": {},
   "outputs": [
    {
     "name": "stdout",
     "output_type": "stream",
     "text": [
      "auctioneerID\n",
      "MachineHoursCurrentMeter\n"
     ]
    }
   ],
   "source": [
    "# check for which numeric column have null value\n",
    "\n",
    "for label, content in bull_cpy.items():\n",
    "    if pd.api.types.is_numeric_dtype(content):\n",
    "        if pd.isnull(content).sum():\n",
    "            print(label)"
   ]
  },
  {
   "cell_type": "markdown",
   "id": "8d27f526",
   "metadata": {},
   "source": [
    "**These two column have null values**"
   ]
  },
  {
   "cell_type": "code",
   "execution_count": 6,
   "id": "9a599a18",
   "metadata": {},
   "outputs": [],
   "source": [
    "# fill numeric rows with Median\n",
    "\n",
    "for label, content in bull_cpy.items():\n",
    "    if pd.api.types.is_numeric_dtype(content):\n",
    "        if pd.isnull(content).sum():\n",
    "            #add a binary col which tells us if the data was missing\n",
    "            bull_cpy[label + \"_is_missing\"] = pd.isnull(content)\n",
    "            \n",
    "            #fill missing numeric value with median\n",
    "            bull_cpy[label] = content.fillna(content.median())"
   ]
  },
  {
   "cell_type": "code",
   "execution_count": 7,
   "id": "c529da9c",
   "metadata": {},
   "outputs": [
    {
     "name": "stdout",
     "output_type": "stream",
     "text": [
      "SalesID has No null numeric values\n",
      "SalePrice has No null numeric values\n",
      "MachineID has No null numeric values\n",
      "ModelID has No null numeric values\n",
      "datasource has No null numeric values\n",
      "auctioneerID has No null numeric values\n",
      "YearMade has No null numeric values\n",
      "MachineHoursCurrentMeter has No null numeric values\n",
      "saleYear has No null numeric values\n",
      "saleMonth has No null numeric values\n",
      "saleDay has No null numeric values\n",
      "saleDayofWeek has No null numeric values\n",
      "saleDayofYear has No null numeric values\n",
      "auctioneerID_is_missing has No null numeric values\n",
      "MachineHoursCurrentMeter_is_missing has No null numeric values\n"
     ]
    }
   ],
   "source": [
    "# Check if there's any null numeric values\n",
    "\n",
    "for label, content in bull_cpy.items():\n",
    "    if pd.api.types.is_numeric_dtype(content):\n",
    "        if pd.isnull(content).sum():\n",
    "            print(label)\n",
    "        else:\n",
    "            print(label +\" has No null numeric values\")"
   ]
  },
  {
   "cell_type": "code",
   "execution_count": 8,
   "id": "addae497",
   "metadata": {},
   "outputs": [
    {
     "data": {
      "text/plain": [
       "False    392562\n",
       "True      20136\n",
       "Name: auctioneerID_is_missing, dtype: int64"
      ]
     },
     "execution_count": 8,
     "metadata": {},
     "output_type": "execute_result"
    }
   ],
   "source": [
    "# Check how many  examples were missing \n",
    "\n",
    "bull_cpy.auctioneerID_is_missing.value_counts()"
   ]
  },
  {
   "cell_type": "code",
   "execution_count": 9,
   "id": "e36a3261",
   "metadata": {},
   "outputs": [
    {
     "name": "stdout",
     "output_type": "stream",
     "text": [
      "UsageBand\n",
      "fiModelDesc\n",
      "fiBaseModel\n",
      "fiSecondaryDesc\n",
      "fiModelSeries\n",
      "fiModelDescriptor\n",
      "ProductSize\n",
      "fiProductClassDesc\n",
      "state\n",
      "ProductGroup\n",
      "ProductGroupDesc\n",
      "Drive_System\n",
      "Enclosure\n",
      "Forks\n",
      "Pad_Type\n",
      "Ride_Control\n",
      "Stick\n",
      "Transmission\n",
      "Turbocharged\n",
      "Blade_Extension\n",
      "Blade_Width\n",
      "Enclosure_Type\n",
      "Engine_Horsepower\n",
      "Hydraulics\n",
      "Pushblock\n",
      "Ripper\n",
      "Scarifier\n",
      "Tip_Control\n",
      "Tire_Size\n",
      "Coupler\n",
      "Coupler_System\n",
      "Grouser_Tracks\n",
      "Hydraulics_Flow\n",
      "Track_Type\n",
      "Undercarriage_Pad_Width\n",
      "Stick_Length\n",
      "Thumb\n",
      "Pattern_Changer\n",
      "Grouser_Type\n",
      "Backhoe_Mounting\n",
      "Blade_Type\n",
      "Travel_Controls\n",
      "Differential_Type\n",
      "Steering_Controls\n"
     ]
    }
   ],
   "source": [
    "# check which column have categorical data\n",
    "\n",
    "for label,content in bull_cpy.items():\n",
    "    if not pd.api.types.is_numeric_dtype(content):\n",
    "        print(label)"
   ]
  },
  {
   "cell_type": "code",
   "execution_count": 10,
   "id": "d95f5639",
   "metadata": {},
   "outputs": [],
   "source": [
    "# Trun categorical variables into numbers and fill missing\n",
    "for label, content in bull_cpy.items():\n",
    "    if not pd.api.types.is_numeric_dtype(content):\n",
    "        #add binary col to indicate wheater sample had missing values\n",
    "        bull_cpy[label + \"_is_missing\"] = pd.isnull(content)\n",
    "        \n",
    "        #turn categories into number and add +1\n",
    "        bull_cpy[label] = pd.Categorical(content).codes + 1"
   ]
  },
  {
   "cell_type": "code",
   "execution_count": 11,
   "id": "e241f39a",
   "metadata": {},
   "outputs": [
    {
     "name": "stdout",
     "output_type": "stream",
     "text": [
      "<class 'pandas.core.frame.DataFrame'>\n",
      "RangeIndex: 412698 entries, 0 to 412697\n",
      "Columns: 103 entries, SalesID to Steering_Controls_is_missing\n",
      "dtypes: bool(46), float64(3), int16(5), int64(10), int8(39)\n",
      "memory usage: 78.3 MB\n"
     ]
    }
   ],
   "source": [
    "bull_cpy.info()"
   ]
  },
  {
   "cell_type": "code",
   "execution_count": 12,
   "id": "223b4cbd",
   "metadata": {},
   "outputs": [
    {
     "data": {
      "text/html": [
       "<div>\n",
       "<style scoped>\n",
       "    .dataframe tbody tr th:only-of-type {\n",
       "        vertical-align: middle;\n",
       "    }\n",
       "\n",
       "    .dataframe tbody tr th {\n",
       "        vertical-align: top;\n",
       "    }\n",
       "\n",
       "    .dataframe thead th {\n",
       "        text-align: right;\n",
       "    }\n",
       "</style>\n",
       "<table border=\"1\" class=\"dataframe\">\n",
       "  <thead>\n",
       "    <tr style=\"text-align: right;\">\n",
       "      <th></th>\n",
       "      <th>0</th>\n",
       "      <th>1</th>\n",
       "      <th>2</th>\n",
       "      <th>3</th>\n",
       "      <th>4</th>\n",
       "    </tr>\n",
       "  </thead>\n",
       "  <tbody>\n",
       "    <tr>\n",
       "      <th>SalesID</th>\n",
       "      <td>1646770</td>\n",
       "      <td>1821514</td>\n",
       "      <td>1505138</td>\n",
       "      <td>1671174</td>\n",
       "      <td>1329056</td>\n",
       "    </tr>\n",
       "    <tr>\n",
       "      <th>SalePrice</th>\n",
       "      <td>9500.0</td>\n",
       "      <td>14000.0</td>\n",
       "      <td>50000.0</td>\n",
       "      <td>16000.0</td>\n",
       "      <td>22000.0</td>\n",
       "    </tr>\n",
       "    <tr>\n",
       "      <th>MachineID</th>\n",
       "      <td>1126363</td>\n",
       "      <td>1194089</td>\n",
       "      <td>1473654</td>\n",
       "      <td>1327630</td>\n",
       "      <td>1336053</td>\n",
       "    </tr>\n",
       "    <tr>\n",
       "      <th>ModelID</th>\n",
       "      <td>8434</td>\n",
       "      <td>10150</td>\n",
       "      <td>4139</td>\n",
       "      <td>8591</td>\n",
       "      <td>4089</td>\n",
       "    </tr>\n",
       "    <tr>\n",
       "      <th>datasource</th>\n",
       "      <td>132</td>\n",
       "      <td>132</td>\n",
       "      <td>132</td>\n",
       "      <td>132</td>\n",
       "      <td>132</td>\n",
       "    </tr>\n",
       "    <tr>\n",
       "      <th>...</th>\n",
       "      <td>...</td>\n",
       "      <td>...</td>\n",
       "      <td>...</td>\n",
       "      <td>...</td>\n",
       "      <td>...</td>\n",
       "    </tr>\n",
       "    <tr>\n",
       "      <th>Backhoe_Mounting_is_missing</th>\n",
       "      <td>False</td>\n",
       "      <td>True</td>\n",
       "      <td>False</td>\n",
       "      <td>True</td>\n",
       "      <td>False</td>\n",
       "    </tr>\n",
       "    <tr>\n",
       "      <th>Blade_Type_is_missing</th>\n",
       "      <td>False</td>\n",
       "      <td>True</td>\n",
       "      <td>False</td>\n",
       "      <td>True</td>\n",
       "      <td>False</td>\n",
       "    </tr>\n",
       "    <tr>\n",
       "      <th>Travel_Controls_is_missing</th>\n",
       "      <td>False</td>\n",
       "      <td>True</td>\n",
       "      <td>False</td>\n",
       "      <td>True</td>\n",
       "      <td>False</td>\n",
       "    </tr>\n",
       "    <tr>\n",
       "      <th>Differential_Type_is_missing</th>\n",
       "      <td>True</td>\n",
       "      <td>False</td>\n",
       "      <td>True</td>\n",
       "      <td>False</td>\n",
       "      <td>True</td>\n",
       "    </tr>\n",
       "    <tr>\n",
       "      <th>Steering_Controls_is_missing</th>\n",
       "      <td>True</td>\n",
       "      <td>False</td>\n",
       "      <td>True</td>\n",
       "      <td>False</td>\n",
       "      <td>True</td>\n",
       "    </tr>\n",
       "  </tbody>\n",
       "</table>\n",
       "<p>103 rows × 5 columns</p>\n",
       "</div>"
      ],
      "text/plain": [
       "                                    0        1        2        3        4\n",
       "SalesID                       1646770  1821514  1505138  1671174  1329056\n",
       "SalePrice                      9500.0  14000.0  50000.0  16000.0  22000.0\n",
       "MachineID                     1126363  1194089  1473654  1327630  1336053\n",
       "ModelID                          8434    10150     4139     8591     4089\n",
       "datasource                        132      132      132      132      132\n",
       "...                               ...      ...      ...      ...      ...\n",
       "Backhoe_Mounting_is_missing     False     True    False     True    False\n",
       "Blade_Type_is_missing           False     True    False     True    False\n",
       "Travel_Controls_is_missing      False     True    False     True    False\n",
       "Differential_Type_is_missing     True    False     True    False     True\n",
       "Steering_Controls_is_missing     True    False     True    False     True\n",
       "\n",
       "[103 rows x 5 columns]"
      ]
     },
     "execution_count": 12,
     "metadata": {},
     "output_type": "execute_result"
    }
   ],
   "source": [
    "bull_cpy.head().T"
   ]
  },
  {
   "cell_type": "code",
   "execution_count": 11,
   "id": "1e0444e9",
   "metadata": {},
   "outputs": [
    {
     "data": {
      "text/plain": [
       "SalesID                         0\n",
       "SalePrice                       0\n",
       "MachineID                       0\n",
       "ModelID                         0\n",
       "datasource                      0\n",
       "                               ..\n",
       "Backhoe_Mounting_is_missing     0\n",
       "Blade_Type_is_missing           0\n",
       "Travel_Controls_is_missing      0\n",
       "Differential_Type_is_missing    0\n",
       "Steering_Controls_is_missing    0\n",
       "Length: 103, dtype: int64"
      ]
     },
     "execution_count": 11,
     "metadata": {},
     "output_type": "execute_result"
    }
   ],
   "source": [
    "bull_cpy.isna().sum()"
   ]
  },
  {
   "cell_type": "markdown",
   "id": "924f1d0e",
   "metadata": {},
   "source": [
    "**We have converted data into numeric and our dataframe has no missing value..so we are good to go for modeling**"
   ]
  },
  {
   "cell_type": "markdown",
   "id": "eeddda61",
   "metadata": {},
   "source": [
    "# Modeling"
   ]
  },
  {
   "cell_type": "code",
   "execution_count": 13,
   "id": "d1993446",
   "metadata": {},
   "outputs": [
    {
     "data": {
      "text/plain": [
       "RandomForestRegressor(n_jobs=-1, random_state=15)"
      ]
     },
     "execution_count": 13,
     "metadata": {},
     "output_type": "execute_result"
    }
   ],
   "source": [
    "from sklearn.ensemble import RandomForestRegressor\n",
    "\n",
    "#Instantiate model\n",
    "model = RandomForestRegressor(n_jobs = -1,\n",
    "                              random_state = 15)\n",
    "\n",
    "#Fit the model\n",
    "model.fit(bull_cpy.drop(\"SalePrice\", axis = 1), bull_cpy[\"SalePrice\"])"
   ]
  },
  {
   "cell_type": "code",
   "execution_count": 23,
   "id": "a7a874aa",
   "metadata": {},
   "outputs": [
    {
     "data": {
      "text/plain": [
       "0.9876176526692111"
      ]
     },
     "execution_count": 23,
     "metadata": {},
     "output_type": "execute_result"
    }
   ],
   "source": [
    "# Score the model\n",
    "\n",
    "model.score(bull_cpy.drop(\"SalePrice\", axis = 1),bull_cpy[\"SalePrice\"])"
   ]
  },
  {
   "cell_type": "markdown",
   "id": "84731aa6",
   "metadata": {},
   "source": [
    "**Above model evaluation score is not fully reliable**"
   ]
  },
  {
   "cell_type": "markdown",
   "id": "ee352ec8",
   "metadata": {},
   "source": [
    "# Spliting the data"
   ]
  },
  {
   "cell_type": "code",
   "execution_count": 15,
   "id": "c1b12023",
   "metadata": {},
   "outputs": [
    {
     "data": {
      "text/plain": [
       "0         1989\n",
       "1         1989\n",
       "2         1989\n",
       "3         1989\n",
       "4         1989\n",
       "          ... \n",
       "412693    2012\n",
       "412694    2012\n",
       "412695    2012\n",
       "412696    2012\n",
       "412697    2012\n",
       "Name: saleYear, Length: 412698, dtype: int64"
      ]
     },
     "execution_count": 15,
     "metadata": {},
     "output_type": "execute_result"
    }
   ],
   "source": [
    "bull_cpy.saleYear"
   ]
  },
  {
   "cell_type": "code",
   "execution_count": 16,
   "id": "32e47a1a",
   "metadata": {},
   "outputs": [
    {
     "data": {
      "text/plain": [
       "2009    43849\n",
       "2008    39767\n",
       "2011    35197\n",
       "2010    33390\n",
       "2007    32208\n",
       "2006    21685\n",
       "2005    20463\n",
       "2004    19879\n",
       "2001    17594\n",
       "2000    17415\n",
       "2002    17246\n",
       "2003    15254\n",
       "1998    13046\n",
       "1999    12793\n",
       "2012    11573\n",
       "1997     9785\n",
       "1996     8829\n",
       "1995     8530\n",
       "1994     7929\n",
       "1993     6303\n",
       "1992     5519\n",
       "1991     5109\n",
       "1989     4806\n",
       "1990     4529\n",
       "Name: saleYear, dtype: int64"
      ]
     },
     "execution_count": 16,
     "metadata": {},
     "output_type": "execute_result"
    }
   ],
   "source": [
    "bull_cpy.saleYear.value_counts()"
   ]
  },
  {
   "cell_type": "code",
   "execution_count": 17,
   "id": "5f85c4dd",
   "metadata": {},
   "outputs": [],
   "source": [
    "# Spliting data into training and testing set\n",
    "\n",
    "bull_val = bull_cpy[bull_cpy.saleYear == 2012]\n",
    "bull_train = bull_cpy[bull_cpy.saleYear != 2012]"
   ]
  },
  {
   "cell_type": "code",
   "execution_count": 18,
   "id": "f3f99f64",
   "metadata": {},
   "outputs": [
    {
     "name": "stdout",
     "output_type": "stream",
     "text": [
      "Length of validation data :  11573\n",
      "Length of training data :  401125\n"
     ]
    }
   ],
   "source": [
    "print(\"Length of validation data : \", len(bull_val))\n",
    "print(\"Length of training data : \", len(bull_train))"
   ]
  },
  {
   "cell_type": "code",
   "execution_count": 19,
   "id": "78380ddb",
   "metadata": {},
   "outputs": [],
   "source": [
    "# Split data into X & Y\n",
    "\n",
    "X_train, y_train = bull_train.drop(\"SalePrice\", axis = 1),bull_train.SalePrice\n",
    "\n",
    "X_valid, y_valid = bull_val.drop(\"SalePrice\",axis = 1),bull_val.SalePrice"
   ]
  },
  {
   "cell_type": "code",
   "execution_count": 39,
   "id": "52e66937",
   "metadata": {},
   "outputs": [
    {
     "name": "stdout",
     "output_type": "stream",
     "text": [
      "X_train Shape :  (401125, 102)\n",
      "Y train Shape :  (401125,)\n",
      "X_valid Shape :  (11573, 102)\n",
      "Y_valid Shape :  (11573,)\n"
     ]
    }
   ],
   "source": [
    "print(\"X_train Shape : \",X_train.shape)\n",
    "print(\"Y train Shape : \",y_train.shape)\n",
    "print(\"X_valid Shape : \",X_valid.shape)\n",
    "print(\"Y_valid Shape : \",y_valid.shape)"
   ]
  },
  {
   "cell_type": "markdown",
   "id": "d46cbd29",
   "metadata": {},
   "source": [
    "# Creating Custom evaluation Function"
   ]
  },
  {
   "cell_type": "markdown",
   "id": "a33d72e1",
   "metadata": {},
   "source": [
    "**In this project we are gonna evaluate our model based on ROOT Mean Squared Log Error**"
   ]
  },
  {
   "cell_type": "code",
   "execution_count": 40,
   "id": "9612d8e1",
   "metadata": {},
   "outputs": [],
   "source": [
    "#creating evaluation function(rmsle)\n",
    "\n",
    "from sklearn.metrics import mean_squared_log_error, mean_absolute_error,r2_score"
   ]
  },
  {
   "cell_type": "code",
   "execution_count": 41,
   "id": "566ae688",
   "metadata": {},
   "outputs": [],
   "source": [
    "def rmsle(y_test,y_preds):\n",
    "    \n",
    "    return np.sqrt(mean_squared_log_error(y_test, y_preds))\n",
    "\n",
    "#create function to evaluate model on a few different level\n",
    "\n",
    "def show_scores(model):\n",
    "    \n",
    "    train_preds = model.predict(X_train)\n",
    "    val_preds = model.predict(X_valid)\n",
    "    \n",
    "    scores = {\"Training MAE\":mean_absolute_error(y_train,train_preds),\n",
    "              \"Validation MAE\":mean_absolute_error(y_valid,val_preds),\n",
    "              \"Training RMSLE\":rmsle(y_train,train_preds),\n",
    "              \"Validation RMSLE\":rmsle(y_valid, val_preds),\n",
    "              \"Training R^2\":r2_score(y_train, train_preds),\n",
    "              \"Validation R^2\":r2_score(y_valid, val_preds)}\n",
    "    return scores"
   ]
  },
  {
   "cell_type": "markdown",
   "id": "3143f21c",
   "metadata": {},
   "source": [
    "# Testing our model on a small subset"
   ]
  },
  {
   "cell_type": "code",
   "execution_count": 42,
   "id": "17420cc1",
   "metadata": {},
   "outputs": [],
   "source": [
    "from sklearn.ensemble import RandomForestRegressor"
   ]
  },
  {
   "cell_type": "code",
   "execution_count": 43,
   "id": "71046bd2",
   "metadata": {},
   "outputs": [
    {
     "data": {
      "text/plain": [
       "401125"
      ]
     },
     "execution_count": 43,
     "metadata": {},
     "output_type": "execute_result"
    }
   ],
   "source": [
    "len(X_train)"
   ]
  },
  {
   "cell_type": "code",
   "execution_count": 23,
   "id": "75870811",
   "metadata": {},
   "outputs": [],
   "source": [
    "#Changing max samples \n",
    "\n",
    "model = RandomForestRegressor(n_jobs = -1,\n",
    "                              max_samples = 30000,\n",
    "                              random_state = 16)"
   ]
  },
  {
   "cell_type": "code",
   "execution_count": 24,
   "id": "4b0643e8",
   "metadata": {},
   "outputs": [
    {
     "name": "stdout",
     "output_type": "stream",
     "text": [
      "CPU times: user 2min 58s, sys: 2.06 s, total: 3min\n",
      "Wall time: 58 s\n"
     ]
    },
    {
     "data": {
      "text/plain": [
       "RandomForestRegressor(max_samples=30000, n_jobs=-1, random_state=16)"
      ]
     },
     "execution_count": 24,
     "metadata": {},
     "output_type": "execute_result"
    }
   ],
   "source": [
    "%%time\n",
    "\n",
    "model.fit(X_train, y_train)"
   ]
  },
  {
   "cell_type": "code",
   "execution_count": 28,
   "id": "6c8f107a",
   "metadata": {},
   "outputs": [
    {
     "data": {
      "text/plain": [
       "{'Training MAE': 4722.592492614522,\n",
       " 'Validation MAE': 6540.845171519917,\n",
       " 'Training RMSLE': 0.22374076534456785,\n",
       " 'Validation RMSLE': 0.270280263924408,\n",
       " 'Training R^2': 0.8971024749714283,\n",
       " 'Validation R^2': 0.8592588156364382}"
      ]
     },
     "execution_count": 28,
     "metadata": {},
     "output_type": "execute_result"
    }
   ],
   "source": [
    "show_scores(model)"
   ]
  },
  {
   "cell_type": "markdown",
   "id": "0cde6d6b",
   "metadata": {},
   "source": [
    "# Hyperparameter Tuning with RandomizedCV"
   ]
  },
  {
   "cell_type": "code",
   "execution_count": 30,
   "id": "f5438d87",
   "metadata": {},
   "outputs": [
    {
     "name": "stdout",
     "output_type": "stream",
     "text": [
      "Fitting 5 folds for each of 3 candidates, totalling 15 fits\n"
     ]
    },
    {
     "data": {
      "text/plain": [
       "RandomizedSearchCV(cv=5,\n",
       "                   estimator=RandomForestRegressor(n_jobs=-1, random_state=16),\n",
       "                   n_iter=3,\n",
       "                   param_distributions={'max_depth': [None, 3, 5, 8],\n",
       "                                        'max_features': [0.5, 1, 'sqrt',\n",
       "                                                         'auto'],\n",
       "                                        'max_samples': [20000],\n",
       "                                        'min_samples_leaf': array([ 1,  2,  3,  4,  5,  6,  7,  8,  9, 10, 11, 12, 13, 14, 15, 16, 17,\n",
       "       18, 19]),\n",
       "                                        'min_samples_split': array([ 2,  4,  6,  8, 10, 12, 14, 16, 18]),\n",
       "                                        'n_estimators': array([10, 20, 30, 40, 50, 60, 70, 80, 90])},\n",
       "                   verbose=True)"
      ]
     },
     "execution_count": 30,
     "metadata": {},
     "output_type": "execute_result"
    }
   ],
   "source": [
    "from sklearn.model_selection import RandomizedSearchCV\n",
    "\n",
    "rf_grid = {\"n_estimators\":np.arange(10,100,10),\n",
    "           \"max_depth\":[None,3,5,8],\n",
    "           \"min_samples_split\":np.arange(2,20,2),\n",
    "           \"min_samples_leaf\":np.arange(1,20,1),\n",
    "           \"max_features\":[0.5,1,\"sqrt\", \"auto\"],\n",
    "           \"max_samples\":[20000]}\n",
    "\n",
    "# Instantiate RandomizedSearchCV model\n",
    "\n",
    "ran_cv = RandomizedSearchCV(RandomForestRegressor(n_jobs = -1,\n",
    "                                                  random_state = 16),\n",
    "                            param_distributions = rf_grid,\n",
    "                            n_iter = 3,\n",
    "                            cv = 5,\n",
    "                            verbose = True)\n",
    "\n",
    "ran_cv.fit(X_train, y_train)"
   ]
  },
  {
   "cell_type": "code",
   "execution_count": 31,
   "id": "0e568ae0",
   "metadata": {},
   "outputs": [
    {
     "data": {
      "text/plain": [
       "{'n_estimators': 60,\n",
       " 'min_samples_split': 2,\n",
       " 'min_samples_leaf': 15,\n",
       " 'max_samples': 20000,\n",
       " 'max_features': 'sqrt',\n",
       " 'max_depth': 8}"
      ]
     },
     "execution_count": 31,
     "metadata": {},
     "output_type": "execute_result"
    }
   ],
   "source": [
    "#find the best model hyperparameter\n",
    "\n",
    "ran_cv.best_params_"
   ]
  },
  {
   "cell_type": "code",
   "execution_count": 32,
   "id": "4bdc6b04",
   "metadata": {},
   "outputs": [
    {
     "data": {
      "text/plain": [
       "{'Training MAE': 9964.563225526443,\n",
       " 'Validation MAE': 11495.244683125355,\n",
       " 'Training RMSLE': 0.4348126229787238,\n",
       " 'Validation RMSLE': 0.4499910420556928,\n",
       " 'Training R^2': 0.6165984688046025,\n",
       " 'Validation R^2': 0.6244965303968826}"
      ]
     },
     "execution_count": 32,
     "metadata": {},
     "output_type": "execute_result"
    }
   ],
   "source": [
    "#evaluate model\n",
    "\n",
    "show_scores(ran_cv)"
   ]
  },
  {
   "cell_type": "code",
   "execution_count": 33,
   "id": "fa9abb56",
   "metadata": {},
   "outputs": [
    {
     "data": {
      "text/plain": [
       "RandomForestRegressor(max_depth=8, max_features='sqrt', max_samples=20000,\n",
       "                      min_samples_leaf=15, n_estimators=60, n_jobs=-1)"
      ]
     },
     "execution_count": 33,
     "metadata": {},
     "output_type": "execute_result"
    }
   ],
   "source": [
    "tune_model = RandomForestRegressor(n_jobs = -1,\n",
    "                                   n_estimators = 60,\n",
    "                                   min_samples_split = 2,\n",
    "                                   min_samples_leaf = 15,\n",
    "                                   max_samples = 20000,\n",
    "                                   max_features = \"sqrt\",\n",
    "                                   max_depth = 8)\n",
    "\n",
    "tune_model.fit(X_train, y_train)"
   ]
  },
  {
   "cell_type": "code",
   "execution_count": 34,
   "id": "cdc9482b",
   "metadata": {},
   "outputs": [
    {
     "data": {
      "text/plain": [
       "{'Training MAE': 9770.471018449858,\n",
       " 'Validation MAE': 11265.679101772306,\n",
       " 'Training RMSLE': 0.4271136446810609,\n",
       " 'Validation RMSLE': 0.4427979522054713,\n",
       " 'Training R^2': 0.6303635293913332,\n",
       " 'Validation R^2': 0.6399230118767267}"
      ]
     },
     "execution_count": 34,
     "metadata": {},
     "output_type": "execute_result"
    }
   ],
   "source": [
    "show_scores(tune_model)"
   ]
  },
  {
   "cell_type": "markdown",
   "id": "ca383bc1",
   "metadata": {},
   "source": [
    "# Training The model with best hyperparameter"
   ]
  },
  {
   "cell_type": "code",
   "execution_count": 20,
   "id": "d6a1bc3a",
   "metadata": {},
   "outputs": [
    {
     "data": {
      "text/plain": [
       "RandomForestRegressor(max_features=0.5, min_samples_split=14, n_estimators=40,\n",
       "                      n_jobs=-1, random_state=16)"
      ]
     },
     "execution_count": 20,
     "metadata": {},
     "output_type": "execute_result"
    }
   ],
   "source": [
    "final_model = RandomForestRegressor(n_jobs = -1,\n",
    "                                    n_estimators = 40,\n",
    "                                    min_samples_split = 14,\n",
    "                                    min_samples_leaf = 1,\n",
    "                                    max_samples = None,\n",
    "                                    max_features = 0.5,\n",
    "                                    random_state = 16)\n",
    "\n",
    "\n",
    "#Fit the Final model\n",
    "final_model.fit(X_train,y_train)"
   ]
  },
  {
   "cell_type": "code",
   "execution_count": 48,
   "id": "9876aa08",
   "metadata": {},
   "outputs": [
    {
     "data": {
      "text/plain": [
       "{'Training MAE': 2950.1886752610235,\n",
       " 'Validation MAE': 5941.52562466434,\n",
       " 'Training RMSLE': 0.1444509676197296,\n",
       " 'Validation RMSLE': 0.2452833505953281,\n",
       " 'Training R^2': 0.9589761832914397,\n",
       " 'Validation R^2': 0.8827276032213306}"
      ]
     },
     "execution_count": 48,
     "metadata": {},
     "output_type": "execute_result"
    }
   ],
   "source": [
    "#score for final model\n",
    "\n",
    "show_scores(final_model)"
   ]
  },
  {
   "cell_type": "markdown",
   "id": "647d495b",
   "metadata": {},
   "source": [
    "# Test the model on TEST Dataset"
   ]
  },
  {
   "cell_type": "code",
   "execution_count": 22,
   "id": "ac1fea45",
   "metadata": {},
   "outputs": [
    {
     "data": {
      "text/html": [
       "<div>\n",
       "<style scoped>\n",
       "    .dataframe tbody tr th:only-of-type {\n",
       "        vertical-align: middle;\n",
       "    }\n",
       "\n",
       "    .dataframe tbody tr th {\n",
       "        vertical-align: top;\n",
       "    }\n",
       "\n",
       "    .dataframe thead th {\n",
       "        text-align: right;\n",
       "    }\n",
       "</style>\n",
       "<table border=\"1\" class=\"dataframe\">\n",
       "  <thead>\n",
       "    <tr style=\"text-align: right;\">\n",
       "      <th></th>\n",
       "      <th>SalesID</th>\n",
       "      <th>MachineID</th>\n",
       "      <th>ModelID</th>\n",
       "      <th>datasource</th>\n",
       "      <th>auctioneerID</th>\n",
       "      <th>YearMade</th>\n",
       "      <th>MachineHoursCurrentMeter</th>\n",
       "      <th>UsageBand</th>\n",
       "      <th>saledate</th>\n",
       "      <th>fiModelDesc</th>\n",
       "      <th>...</th>\n",
       "      <th>Undercarriage_Pad_Width</th>\n",
       "      <th>Stick_Length</th>\n",
       "      <th>Thumb</th>\n",
       "      <th>Pattern_Changer</th>\n",
       "      <th>Grouser_Type</th>\n",
       "      <th>Backhoe_Mounting</th>\n",
       "      <th>Blade_Type</th>\n",
       "      <th>Travel_Controls</th>\n",
       "      <th>Differential_Type</th>\n",
       "      <th>Steering_Controls</th>\n",
       "    </tr>\n",
       "  </thead>\n",
       "  <tbody>\n",
       "    <tr>\n",
       "      <th>0</th>\n",
       "      <td>1227829</td>\n",
       "      <td>1006309</td>\n",
       "      <td>3168</td>\n",
       "      <td>121</td>\n",
       "      <td>3</td>\n",
       "      <td>1999</td>\n",
       "      <td>3688.0</td>\n",
       "      <td>Low</td>\n",
       "      <td>2012-05-03</td>\n",
       "      <td>580G</td>\n",
       "      <td>...</td>\n",
       "      <td>NaN</td>\n",
       "      <td>NaN</td>\n",
       "      <td>NaN</td>\n",
       "      <td>NaN</td>\n",
       "      <td>NaN</td>\n",
       "      <td>NaN</td>\n",
       "      <td>NaN</td>\n",
       "      <td>NaN</td>\n",
       "      <td>NaN</td>\n",
       "      <td>NaN</td>\n",
       "    </tr>\n",
       "    <tr>\n",
       "      <th>1</th>\n",
       "      <td>1227844</td>\n",
       "      <td>1022817</td>\n",
       "      <td>7271</td>\n",
       "      <td>121</td>\n",
       "      <td>3</td>\n",
       "      <td>1000</td>\n",
       "      <td>28555.0</td>\n",
       "      <td>High</td>\n",
       "      <td>2012-05-10</td>\n",
       "      <td>936</td>\n",
       "      <td>...</td>\n",
       "      <td>NaN</td>\n",
       "      <td>NaN</td>\n",
       "      <td>NaN</td>\n",
       "      <td>NaN</td>\n",
       "      <td>NaN</td>\n",
       "      <td>NaN</td>\n",
       "      <td>NaN</td>\n",
       "      <td>NaN</td>\n",
       "      <td>Standard</td>\n",
       "      <td>Conventional</td>\n",
       "    </tr>\n",
       "    <tr>\n",
       "      <th>2</th>\n",
       "      <td>1227847</td>\n",
       "      <td>1031560</td>\n",
       "      <td>22805</td>\n",
       "      <td>121</td>\n",
       "      <td>3</td>\n",
       "      <td>2004</td>\n",
       "      <td>6038.0</td>\n",
       "      <td>Medium</td>\n",
       "      <td>2012-05-10</td>\n",
       "      <td>EC210BLC</td>\n",
       "      <td>...</td>\n",
       "      <td>None or Unspecified</td>\n",
       "      <td>9' 6\"</td>\n",
       "      <td>Manual</td>\n",
       "      <td>None or Unspecified</td>\n",
       "      <td>Double</td>\n",
       "      <td>NaN</td>\n",
       "      <td>NaN</td>\n",
       "      <td>NaN</td>\n",
       "      <td>NaN</td>\n",
       "      <td>NaN</td>\n",
       "    </tr>\n",
       "    <tr>\n",
       "      <th>3</th>\n",
       "      <td>1227848</td>\n",
       "      <td>56204</td>\n",
       "      <td>1269</td>\n",
       "      <td>121</td>\n",
       "      <td>3</td>\n",
       "      <td>2006</td>\n",
       "      <td>8940.0</td>\n",
       "      <td>High</td>\n",
       "      <td>2012-05-10</td>\n",
       "      <td>330CL</td>\n",
       "      <td>...</td>\n",
       "      <td>None or Unspecified</td>\n",
       "      <td>None or Unspecified</td>\n",
       "      <td>Manual</td>\n",
       "      <td>Yes</td>\n",
       "      <td>Triple</td>\n",
       "      <td>NaN</td>\n",
       "      <td>NaN</td>\n",
       "      <td>NaN</td>\n",
       "      <td>NaN</td>\n",
       "      <td>NaN</td>\n",
       "    </tr>\n",
       "    <tr>\n",
       "      <th>4</th>\n",
       "      <td>1227863</td>\n",
       "      <td>1053887</td>\n",
       "      <td>22312</td>\n",
       "      <td>121</td>\n",
       "      <td>3</td>\n",
       "      <td>2005</td>\n",
       "      <td>2286.0</td>\n",
       "      <td>Low</td>\n",
       "      <td>2012-05-10</td>\n",
       "      <td>650K</td>\n",
       "      <td>...</td>\n",
       "      <td>NaN</td>\n",
       "      <td>NaN</td>\n",
       "      <td>NaN</td>\n",
       "      <td>NaN</td>\n",
       "      <td>NaN</td>\n",
       "      <td>None or Unspecified</td>\n",
       "      <td>PAT</td>\n",
       "      <td>None or Unspecified</td>\n",
       "      <td>NaN</td>\n",
       "      <td>NaN</td>\n",
       "    </tr>\n",
       "    <tr>\n",
       "      <th>...</th>\n",
       "      <td>...</td>\n",
       "      <td>...</td>\n",
       "      <td>...</td>\n",
       "      <td>...</td>\n",
       "      <td>...</td>\n",
       "      <td>...</td>\n",
       "      <td>...</td>\n",
       "      <td>...</td>\n",
       "      <td>...</td>\n",
       "      <td>...</td>\n",
       "      <td>...</td>\n",
       "      <td>...</td>\n",
       "      <td>...</td>\n",
       "      <td>...</td>\n",
       "      <td>...</td>\n",
       "      <td>...</td>\n",
       "      <td>...</td>\n",
       "      <td>...</td>\n",
       "      <td>...</td>\n",
       "      <td>...</td>\n",
       "      <td>...</td>\n",
       "    </tr>\n",
       "    <tr>\n",
       "      <th>12452</th>\n",
       "      <td>6643171</td>\n",
       "      <td>2558317</td>\n",
       "      <td>21450</td>\n",
       "      <td>149</td>\n",
       "      <td>2</td>\n",
       "      <td>2008</td>\n",
       "      <td>NaN</td>\n",
       "      <td>NaN</td>\n",
       "      <td>2012-10-24</td>\n",
       "      <td>80NX3</td>\n",
       "      <td>...</td>\n",
       "      <td>None or Unspecified</td>\n",
       "      <td>None or Unspecified</td>\n",
       "      <td>None or Unspecified</td>\n",
       "      <td>None or Unspecified</td>\n",
       "      <td>Double</td>\n",
       "      <td>NaN</td>\n",
       "      <td>NaN</td>\n",
       "      <td>NaN</td>\n",
       "      <td>NaN</td>\n",
       "      <td>NaN</td>\n",
       "    </tr>\n",
       "    <tr>\n",
       "      <th>12453</th>\n",
       "      <td>6643173</td>\n",
       "      <td>2558332</td>\n",
       "      <td>21434</td>\n",
       "      <td>149</td>\n",
       "      <td>2</td>\n",
       "      <td>2005</td>\n",
       "      <td>NaN</td>\n",
       "      <td>NaN</td>\n",
       "      <td>2012-10-24</td>\n",
       "      <td>28N</td>\n",
       "      <td>...</td>\n",
       "      <td>None or Unspecified</td>\n",
       "      <td>None or Unspecified</td>\n",
       "      <td>None or Unspecified</td>\n",
       "      <td>None or Unspecified</td>\n",
       "      <td>Double</td>\n",
       "      <td>NaN</td>\n",
       "      <td>NaN</td>\n",
       "      <td>NaN</td>\n",
       "      <td>NaN</td>\n",
       "      <td>NaN</td>\n",
       "    </tr>\n",
       "    <tr>\n",
       "      <th>12454</th>\n",
       "      <td>6643184</td>\n",
       "      <td>2558342</td>\n",
       "      <td>21437</td>\n",
       "      <td>149</td>\n",
       "      <td>2</td>\n",
       "      <td>1000</td>\n",
       "      <td>NaN</td>\n",
       "      <td>NaN</td>\n",
       "      <td>2012-10-24</td>\n",
       "      <td>35N</td>\n",
       "      <td>...</td>\n",
       "      <td>None or Unspecified</td>\n",
       "      <td>None or Unspecified</td>\n",
       "      <td>None or Unspecified</td>\n",
       "      <td>None or Unspecified</td>\n",
       "      <td>Double</td>\n",
       "      <td>NaN</td>\n",
       "      <td>NaN</td>\n",
       "      <td>NaN</td>\n",
       "      <td>NaN</td>\n",
       "      <td>NaN</td>\n",
       "    </tr>\n",
       "    <tr>\n",
       "      <th>12455</th>\n",
       "      <td>6643186</td>\n",
       "      <td>2558343</td>\n",
       "      <td>21437</td>\n",
       "      <td>149</td>\n",
       "      <td>2</td>\n",
       "      <td>2006</td>\n",
       "      <td>NaN</td>\n",
       "      <td>NaN</td>\n",
       "      <td>2012-10-24</td>\n",
       "      <td>35N</td>\n",
       "      <td>...</td>\n",
       "      <td>None or Unspecified</td>\n",
       "      <td>None or Unspecified</td>\n",
       "      <td>None or Unspecified</td>\n",
       "      <td>None or Unspecified</td>\n",
       "      <td>Double</td>\n",
       "      <td>NaN</td>\n",
       "      <td>NaN</td>\n",
       "      <td>NaN</td>\n",
       "      <td>NaN</td>\n",
       "      <td>NaN</td>\n",
       "    </tr>\n",
       "    <tr>\n",
       "      <th>12456</th>\n",
       "      <td>6643196</td>\n",
       "      <td>2558346</td>\n",
       "      <td>21446</td>\n",
       "      <td>149</td>\n",
       "      <td>2</td>\n",
       "      <td>2008</td>\n",
       "      <td>NaN</td>\n",
       "      <td>NaN</td>\n",
       "      <td>2012-09-19</td>\n",
       "      <td>55N2</td>\n",
       "      <td>...</td>\n",
       "      <td>None or Unspecified</td>\n",
       "      <td>None or Unspecified</td>\n",
       "      <td>None or Unspecified</td>\n",
       "      <td>None or Unspecified</td>\n",
       "      <td>Double</td>\n",
       "      <td>NaN</td>\n",
       "      <td>NaN</td>\n",
       "      <td>NaN</td>\n",
       "      <td>NaN</td>\n",
       "      <td>NaN</td>\n",
       "    </tr>\n",
       "  </tbody>\n",
       "</table>\n",
       "<p>12457 rows × 52 columns</p>\n",
       "</div>"
      ],
      "text/plain": [
       "       SalesID  MachineID  ModelID  datasource  auctioneerID  YearMade  \\\n",
       "0      1227829    1006309     3168         121             3      1999   \n",
       "1      1227844    1022817     7271         121             3      1000   \n",
       "2      1227847    1031560    22805         121             3      2004   \n",
       "3      1227848      56204     1269         121             3      2006   \n",
       "4      1227863    1053887    22312         121             3      2005   \n",
       "...        ...        ...      ...         ...           ...       ...   \n",
       "12452  6643171    2558317    21450         149             2      2008   \n",
       "12453  6643173    2558332    21434         149             2      2005   \n",
       "12454  6643184    2558342    21437         149             2      1000   \n",
       "12455  6643186    2558343    21437         149             2      2006   \n",
       "12456  6643196    2558346    21446         149             2      2008   \n",
       "\n",
       "       MachineHoursCurrentMeter UsageBand   saledate fiModelDesc  ...  \\\n",
       "0                        3688.0       Low 2012-05-03        580G  ...   \n",
       "1                       28555.0      High 2012-05-10         936  ...   \n",
       "2                        6038.0    Medium 2012-05-10    EC210BLC  ...   \n",
       "3                        8940.0      High 2012-05-10       330CL  ...   \n",
       "4                        2286.0       Low 2012-05-10        650K  ...   \n",
       "...                         ...       ...        ...         ...  ...   \n",
       "12452                       NaN       NaN 2012-10-24       80NX3  ...   \n",
       "12453                       NaN       NaN 2012-10-24         28N  ...   \n",
       "12454                       NaN       NaN 2012-10-24         35N  ...   \n",
       "12455                       NaN       NaN 2012-10-24         35N  ...   \n",
       "12456                       NaN       NaN 2012-09-19        55N2  ...   \n",
       "\n",
       "      Undercarriage_Pad_Width         Stick_Length                Thumb  \\\n",
       "0                         NaN                  NaN                  NaN   \n",
       "1                         NaN                  NaN                  NaN   \n",
       "2         None or Unspecified                9' 6\"               Manual   \n",
       "3         None or Unspecified  None or Unspecified               Manual   \n",
       "4                         NaN                  NaN                  NaN   \n",
       "...                       ...                  ...                  ...   \n",
       "12452     None or Unspecified  None or Unspecified  None or Unspecified   \n",
       "12453     None or Unspecified  None or Unspecified  None or Unspecified   \n",
       "12454     None or Unspecified  None or Unspecified  None or Unspecified   \n",
       "12455     None or Unspecified  None or Unspecified  None or Unspecified   \n",
       "12456     None or Unspecified  None or Unspecified  None or Unspecified   \n",
       "\n",
       "           Pattern_Changer Grouser_Type     Backhoe_Mounting Blade_Type  \\\n",
       "0                      NaN          NaN                  NaN        NaN   \n",
       "1                      NaN          NaN                  NaN        NaN   \n",
       "2      None or Unspecified       Double                  NaN        NaN   \n",
       "3                      Yes       Triple                  NaN        NaN   \n",
       "4                      NaN          NaN  None or Unspecified        PAT   \n",
       "...                    ...          ...                  ...        ...   \n",
       "12452  None or Unspecified       Double                  NaN        NaN   \n",
       "12453  None or Unspecified       Double                  NaN        NaN   \n",
       "12454  None or Unspecified       Double                  NaN        NaN   \n",
       "12455  None or Unspecified       Double                  NaN        NaN   \n",
       "12456  None or Unspecified       Double                  NaN        NaN   \n",
       "\n",
       "           Travel_Controls Differential_Type Steering_Controls  \n",
       "0                      NaN               NaN               NaN  \n",
       "1                      NaN          Standard      Conventional  \n",
       "2                      NaN               NaN               NaN  \n",
       "3                      NaN               NaN               NaN  \n",
       "4      None or Unspecified               NaN               NaN  \n",
       "...                    ...               ...               ...  \n",
       "12452                  NaN               NaN               NaN  \n",
       "12453                  NaN               NaN               NaN  \n",
       "12454                  NaN               NaN               NaN  \n",
       "12455                  NaN               NaN               NaN  \n",
       "12456                  NaN               NaN               NaN  \n",
       "\n",
       "[12457 rows x 52 columns]"
      ]
     },
     "execution_count": 22,
     "metadata": {},
     "output_type": "execute_result"
    }
   ],
   "source": [
    "bull_test = pd.read_csv(\"Test.csv\",parse_dates = [\"saledate\"])\n",
    "bull_test"
   ]
  },
  {
   "cell_type": "code",
   "execution_count": 23,
   "id": "009ada6f",
   "metadata": {},
   "outputs": [
    {
     "data": {
      "text/plain": [
       "SalesID                         0\n",
       "MachineID                       0\n",
       "ModelID                         0\n",
       "datasource                      0\n",
       "auctioneerID                    0\n",
       "YearMade                        0\n",
       "MachineHoursCurrentMeter    10328\n",
       "UsageBand                   10623\n",
       "saledate                        0\n",
       "fiModelDesc                     0\n",
       "fiBaseModel                     0\n",
       "fiSecondaryDesc              3975\n",
       "fiModelSeries               10451\n",
       "fiModelDescriptor            9433\n",
       "ProductSize                  6409\n",
       "fiProductClassDesc              0\n",
       "state                           0\n",
       "ProductGroup                    0\n",
       "ProductGroupDesc                0\n",
       "Drive_System                 9698\n",
       "Enclosure                       2\n",
       "Forks                        6149\n",
       "Pad_Type                    10349\n",
       "Ride_Control                 8216\n",
       "Stick                       10349\n",
       "Transmission                 7639\n",
       "Turbocharged                10349\n",
       "Blade_Extension             11806\n",
       "Blade_Width                 11806\n",
       "Enclosure_Type              11806\n",
       "Engine_Horsepower           11806\n",
       "Hydraulics                   2142\n",
       "Pushblock                   11806\n",
       "Ripper                       9753\n",
       "Scarifier                   11806\n",
       "Tip_Control                 11806\n",
       "Tire_Size                    9679\n",
       "Coupler                      4856\n",
       "Coupler_System              10391\n",
       "Grouser_Tracks              10391\n",
       "Hydraulics_Flow             10391\n",
       "Track_Type                   9063\n",
       "Undercarriage_Pad_Width      9059\n",
       "Stick_Length                 9063\n",
       "Thumb                        9062\n",
       "Pattern_Changer              9063\n",
       "Grouser_Type                 9063\n",
       "Backhoe_Mounting            10406\n",
       "Blade_Type                  10399\n",
       "Travel_Controls             10399\n",
       "Differential_Type           10328\n",
       "Steering_Controls           10328\n",
       "dtype: int64"
      ]
     },
     "execution_count": 23,
     "metadata": {},
     "output_type": "execute_result"
    }
   ],
   "source": [
    "bull_test.isna().sum()"
   ]
  },
  {
   "cell_type": "markdown",
   "id": "fee52c76",
   "metadata": {},
   "source": [
    "**Our test dataset also contain missing values and all the data are not in numeric dtype..we need preprocess test dataset as Train and Valid dataset**"
   ]
  },
  {
   "cell_type": "markdown",
   "id": "e6fc75cb",
   "metadata": {},
   "source": [
    "# Preprocessing the test dataset in the same format as trin dataset"
   ]
  },
  {
   "cell_type": "code",
   "execution_count": 24,
   "id": "bd78a4d7",
   "metadata": {},
   "outputs": [],
   "source": [
    "def preprocess_data(ds):\n",
    "    \n",
    "    ds[\"saleYear\"] = ds.saledate.dt.year\n",
    "    ds[\"saleMonth\"] = ds.saledate.dt.month\n",
    "    ds[\"saleDay\"] = ds.saledate.dt.day\n",
    "    ds[\"saleDayofWeek\"] = ds.saledate.dt.dayofweek\n",
    "    ds[\"saleDayofYear\"] = ds.saledate.dt.dayofyear\n",
    "    \n",
    "    ds.drop(\"saledate\",axis = 1, inplace = True)\n",
    "    \n",
    "    #fill the numeric missing rows with median\n",
    "    for label,content in ds.items():\n",
    "        if pd.api.types.is_numeric_dtype(content):\n",
    "            if pd.isnull(content).sum():\n",
    "                #add a binary col which tell if the data was missing or not\n",
    "                ds[label +\"_is_missing\"] = pd.isnull(content)\n",
    "                \n",
    "                #fill missing numeric value with median\n",
    "                ds[label] = content.fillna(content.median())\n",
    "                \n",
    "        #filled the category missing data and turn categories into numeric value\n",
    "        if not pd.api.types.is_numeric_dtype(content):\n",
    "            ds[label+\"_is_missing\"] = pd.isnull(content)\n",
    "            ds[label] = pd.Categorical(content).codes +1\n",
    "\n",
    "    return ds"
   ]
  },
  {
   "cell_type": "code",
   "execution_count": 25,
   "id": "38fc3aac",
   "metadata": {},
   "outputs": [
    {
     "data": {
      "text/html": [
       "<div>\n",
       "<style scoped>\n",
       "    .dataframe tbody tr th:only-of-type {\n",
       "        vertical-align: middle;\n",
       "    }\n",
       "\n",
       "    .dataframe tbody tr th {\n",
       "        vertical-align: top;\n",
       "    }\n",
       "\n",
       "    .dataframe thead th {\n",
       "        text-align: right;\n",
       "    }\n",
       "</style>\n",
       "<table border=\"1\" class=\"dataframe\">\n",
       "  <thead>\n",
       "    <tr style=\"text-align: right;\">\n",
       "      <th></th>\n",
       "      <th>SalesID</th>\n",
       "      <th>MachineID</th>\n",
       "      <th>ModelID</th>\n",
       "      <th>datasource</th>\n",
       "      <th>auctioneerID</th>\n",
       "      <th>YearMade</th>\n",
       "      <th>MachineHoursCurrentMeter</th>\n",
       "      <th>UsageBand</th>\n",
       "      <th>fiModelDesc</th>\n",
       "      <th>fiBaseModel</th>\n",
       "      <th>...</th>\n",
       "      <th>Undercarriage_Pad_Width_is_missing</th>\n",
       "      <th>Stick_Length_is_missing</th>\n",
       "      <th>Thumb_is_missing</th>\n",
       "      <th>Pattern_Changer_is_missing</th>\n",
       "      <th>Grouser_Type_is_missing</th>\n",
       "      <th>Backhoe_Mounting_is_missing</th>\n",
       "      <th>Blade_Type_is_missing</th>\n",
       "      <th>Travel_Controls_is_missing</th>\n",
       "      <th>Differential_Type_is_missing</th>\n",
       "      <th>Steering_Controls_is_missing</th>\n",
       "    </tr>\n",
       "  </thead>\n",
       "  <tbody>\n",
       "    <tr>\n",
       "      <th>0</th>\n",
       "      <td>1227829</td>\n",
       "      <td>1006309</td>\n",
       "      <td>3168</td>\n",
       "      <td>121</td>\n",
       "      <td>3</td>\n",
       "      <td>1999</td>\n",
       "      <td>3688.0</td>\n",
       "      <td>2</td>\n",
       "      <td>499</td>\n",
       "      <td>180</td>\n",
       "      <td>...</td>\n",
       "      <td>True</td>\n",
       "      <td>True</td>\n",
       "      <td>True</td>\n",
       "      <td>True</td>\n",
       "      <td>True</td>\n",
       "      <td>True</td>\n",
       "      <td>True</td>\n",
       "      <td>True</td>\n",
       "      <td>True</td>\n",
       "      <td>True</td>\n",
       "    </tr>\n",
       "    <tr>\n",
       "      <th>1</th>\n",
       "      <td>1227844</td>\n",
       "      <td>1022817</td>\n",
       "      <td>7271</td>\n",
       "      <td>121</td>\n",
       "      <td>3</td>\n",
       "      <td>1000</td>\n",
       "      <td>28555.0</td>\n",
       "      <td>1</td>\n",
       "      <td>831</td>\n",
       "      <td>292</td>\n",
       "      <td>...</td>\n",
       "      <td>True</td>\n",
       "      <td>True</td>\n",
       "      <td>True</td>\n",
       "      <td>True</td>\n",
       "      <td>True</td>\n",
       "      <td>True</td>\n",
       "      <td>True</td>\n",
       "      <td>True</td>\n",
       "      <td>False</td>\n",
       "      <td>False</td>\n",
       "    </tr>\n",
       "    <tr>\n",
       "      <th>2</th>\n",
       "      <td>1227847</td>\n",
       "      <td>1031560</td>\n",
       "      <td>22805</td>\n",
       "      <td>121</td>\n",
       "      <td>3</td>\n",
       "      <td>2004</td>\n",
       "      <td>6038.0</td>\n",
       "      <td>3</td>\n",
       "      <td>1177</td>\n",
       "      <td>404</td>\n",
       "      <td>...</td>\n",
       "      <td>False</td>\n",
       "      <td>False</td>\n",
       "      <td>False</td>\n",
       "      <td>False</td>\n",
       "      <td>False</td>\n",
       "      <td>True</td>\n",
       "      <td>True</td>\n",
       "      <td>True</td>\n",
       "      <td>True</td>\n",
       "      <td>True</td>\n",
       "    </tr>\n",
       "    <tr>\n",
       "      <th>3</th>\n",
       "      <td>1227848</td>\n",
       "      <td>56204</td>\n",
       "      <td>1269</td>\n",
       "      <td>121</td>\n",
       "      <td>3</td>\n",
       "      <td>2006</td>\n",
       "      <td>8940.0</td>\n",
       "      <td>1</td>\n",
       "      <td>287</td>\n",
       "      <td>113</td>\n",
       "      <td>...</td>\n",
       "      <td>False</td>\n",
       "      <td>False</td>\n",
       "      <td>False</td>\n",
       "      <td>False</td>\n",
       "      <td>False</td>\n",
       "      <td>True</td>\n",
       "      <td>True</td>\n",
       "      <td>True</td>\n",
       "      <td>True</td>\n",
       "      <td>True</td>\n",
       "    </tr>\n",
       "    <tr>\n",
       "      <th>4</th>\n",
       "      <td>1227863</td>\n",
       "      <td>1053887</td>\n",
       "      <td>22312</td>\n",
       "      <td>121</td>\n",
       "      <td>3</td>\n",
       "      <td>2005</td>\n",
       "      <td>2286.0</td>\n",
       "      <td>2</td>\n",
       "      <td>566</td>\n",
       "      <td>196</td>\n",
       "      <td>...</td>\n",
       "      <td>True</td>\n",
       "      <td>True</td>\n",
       "      <td>True</td>\n",
       "      <td>True</td>\n",
       "      <td>True</td>\n",
       "      <td>False</td>\n",
       "      <td>False</td>\n",
       "      <td>False</td>\n",
       "      <td>True</td>\n",
       "      <td>True</td>\n",
       "    </tr>\n",
       "  </tbody>\n",
       "</table>\n",
       "<p>5 rows × 101 columns</p>\n",
       "</div>"
      ],
      "text/plain": [
       "   SalesID  MachineID  ModelID  datasource  auctioneerID  YearMade  \\\n",
       "0  1227829    1006309     3168         121             3      1999   \n",
       "1  1227844    1022817     7271         121             3      1000   \n",
       "2  1227847    1031560    22805         121             3      2004   \n",
       "3  1227848      56204     1269         121             3      2006   \n",
       "4  1227863    1053887    22312         121             3      2005   \n",
       "\n",
       "   MachineHoursCurrentMeter  UsageBand  fiModelDesc  fiBaseModel  ...  \\\n",
       "0                    3688.0          2          499          180  ...   \n",
       "1                   28555.0          1          831          292  ...   \n",
       "2                    6038.0          3         1177          404  ...   \n",
       "3                    8940.0          1          287          113  ...   \n",
       "4                    2286.0          2          566          196  ...   \n",
       "\n",
       "   Undercarriage_Pad_Width_is_missing  Stick_Length_is_missing  \\\n",
       "0                                True                     True   \n",
       "1                                True                     True   \n",
       "2                               False                    False   \n",
       "3                               False                    False   \n",
       "4                                True                     True   \n",
       "\n",
       "   Thumb_is_missing  Pattern_Changer_is_missing  Grouser_Type_is_missing  \\\n",
       "0              True                        True                     True   \n",
       "1              True                        True                     True   \n",
       "2             False                       False                    False   \n",
       "3             False                       False                    False   \n",
       "4              True                        True                     True   \n",
       "\n",
       "   Backhoe_Mounting_is_missing  Blade_Type_is_missing  \\\n",
       "0                         True                   True   \n",
       "1                         True                   True   \n",
       "2                         True                   True   \n",
       "3                         True                   True   \n",
       "4                        False                  False   \n",
       "\n",
       "   Travel_Controls_is_missing  Differential_Type_is_missing  \\\n",
       "0                        True                          True   \n",
       "1                        True                         False   \n",
       "2                        True                          True   \n",
       "3                        True                          True   \n",
       "4                       False                          True   \n",
       "\n",
       "   Steering_Controls_is_missing  \n",
       "0                          True  \n",
       "1                         False  \n",
       "2                          True  \n",
       "3                          True  \n",
       "4                          True  \n",
       "\n",
       "[5 rows x 101 columns]"
      ]
     },
     "execution_count": 25,
     "metadata": {},
     "output_type": "execute_result"
    }
   ],
   "source": [
    "#process the test data\n",
    "\n",
    "bull_test = preprocess_data(bull_test)\n",
    "bull_test.head()"
   ]
  },
  {
   "cell_type": "code",
   "execution_count": 44,
   "id": "6f6fa89d",
   "metadata": {},
   "outputs": [
    {
     "data": {
      "text/plain": [
       "{'auctioneerID_is_missing'}"
      ]
     },
     "execution_count": 44,
     "metadata": {},
     "output_type": "execute_result"
    }
   ],
   "source": [
    "#check col difference between train and test dataset\n",
    "\n",
    "set(X_train.columns) - set(bull_test.columns)"
   ]
  },
  {
   "cell_type": "code",
   "execution_count": 45,
   "id": "cebc8e28",
   "metadata": {},
   "outputs": [
    {
     "data": {
      "text/plain": [
       "102"
      ]
     },
     "execution_count": 45,
     "metadata": {},
     "output_type": "execute_result"
    }
   ],
   "source": [
    "bull_test[\"auctioneerID_is_missing\"] = False\n",
    "len(bull_test.columns)"
   ]
  },
  {
   "cell_type": "code",
   "execution_count": 49,
   "id": "55f57cfe",
   "metadata": {},
   "outputs": [],
   "source": [
    "#Make prediction on Test Data\n",
    "\n",
    "test_preds = final_model.predict(bull_test)"
   ]
  },
  {
   "cell_type": "code",
   "execution_count": 50,
   "id": "59634b99",
   "metadata": {},
   "outputs": [
    {
     "data": {
      "text/plain": [
       "array([20126.73984164, 22801.72216674, 49498.07445197, ...,\n",
       "       13839.23634253, 20097.58299197, 28988.9045748 ])"
      ]
     },
     "execution_count": 50,
     "metadata": {},
     "output_type": "execute_result"
    }
   ],
   "source": [
    "test_preds"
   ]
  },
  {
   "cell_type": "code",
   "execution_count": 51,
   "id": "9aa04e8f",
   "metadata": {},
   "outputs": [
    {
     "data": {
      "text/html": [
       "<div>\n",
       "<style scoped>\n",
       "    .dataframe tbody tr th:only-of-type {\n",
       "        vertical-align: middle;\n",
       "    }\n",
       "\n",
       "    .dataframe tbody tr th {\n",
       "        vertical-align: top;\n",
       "    }\n",
       "\n",
       "    .dataframe thead th {\n",
       "        text-align: right;\n",
       "    }\n",
       "</style>\n",
       "<table border=\"1\" class=\"dataframe\">\n",
       "  <thead>\n",
       "    <tr style=\"text-align: right;\">\n",
       "      <th></th>\n",
       "      <th>SalesID</th>\n",
       "      <th>SalesPrice</th>\n",
       "    </tr>\n",
       "  </thead>\n",
       "  <tbody>\n",
       "    <tr>\n",
       "      <th>0</th>\n",
       "      <td>1227829</td>\n",
       "      <td>20126.739842</td>\n",
       "    </tr>\n",
       "    <tr>\n",
       "      <th>1</th>\n",
       "      <td>1227844</td>\n",
       "      <td>22801.722167</td>\n",
       "    </tr>\n",
       "    <tr>\n",
       "      <th>2</th>\n",
       "      <td>1227847</td>\n",
       "      <td>49498.074452</td>\n",
       "    </tr>\n",
       "    <tr>\n",
       "      <th>3</th>\n",
       "      <td>1227848</td>\n",
       "      <td>58647.478323</td>\n",
       "    </tr>\n",
       "    <tr>\n",
       "      <th>4</th>\n",
       "      <td>1227863</td>\n",
       "      <td>41464.421595</td>\n",
       "    </tr>\n",
       "    <tr>\n",
       "      <th>...</th>\n",
       "      <td>...</td>\n",
       "      <td>...</td>\n",
       "    </tr>\n",
       "    <tr>\n",
       "      <th>12452</th>\n",
       "      <td>6643171</td>\n",
       "      <td>45918.484775</td>\n",
       "    </tr>\n",
       "    <tr>\n",
       "      <th>12453</th>\n",
       "      <td>6643173</td>\n",
       "      <td>19204.810124</td>\n",
       "    </tr>\n",
       "    <tr>\n",
       "      <th>12454</th>\n",
       "      <td>6643184</td>\n",
       "      <td>13839.236343</td>\n",
       "    </tr>\n",
       "    <tr>\n",
       "      <th>12455</th>\n",
       "      <td>6643186</td>\n",
       "      <td>20097.582992</td>\n",
       "    </tr>\n",
       "    <tr>\n",
       "      <th>12456</th>\n",
       "      <td>6643196</td>\n",
       "      <td>28988.904575</td>\n",
       "    </tr>\n",
       "  </tbody>\n",
       "</table>\n",
       "<p>12457 rows × 2 columns</p>\n",
       "</div>"
      ],
      "text/plain": [
       "       SalesID    SalesPrice\n",
       "0      1227829  20126.739842\n",
       "1      1227844  22801.722167\n",
       "2      1227847  49498.074452\n",
       "3      1227848  58647.478323\n",
       "4      1227863  41464.421595\n",
       "...        ...           ...\n",
       "12452  6643171  45918.484775\n",
       "12453  6643173  19204.810124\n",
       "12454  6643184  13839.236343\n",
       "12455  6643186  20097.582992\n",
       "12456  6643196  28988.904575\n",
       "\n",
       "[12457 rows x 2 columns]"
      ]
     },
     "execution_count": 51,
     "metadata": {},
     "output_type": "execute_result"
    }
   ],
   "source": [
    "#Formatting test prediction\n",
    "\n",
    "bull_preds = pd.DataFrame()\n",
    "bull_preds[\"SalesID\"] = bull_test[\"SalesID\"]\n",
    "bull_preds[\"SalesPrice\"] = test_preds\n",
    "bull_preds"
   ]
  },
  {
   "cell_type": "code",
   "execution_count": 52,
   "id": "28d26aa2",
   "metadata": {},
   "outputs": [],
   "source": [
    "# Export Prediction data\n",
    "\n",
    "bull_preds.to_csv(\"Bull_test_prediction.csv\", index = False)"
   ]
  },
  {
   "cell_type": "markdown",
   "id": "fb27a0b1",
   "metadata": {},
   "source": [
    "# Feature Importance"
   ]
  },
  {
   "cell_type": "code",
   "execution_count": 46,
   "id": "645e2786",
   "metadata": {},
   "outputs": [],
   "source": [
    "#find the best 20 features \n",
    "\n",
    "def features_plot(columns,importance, n = 20):\n",
    "    \n",
    "    df = (pd.DataFrame({\"Features\":columns,\"Features_importance\":importance})\n",
    "          .sort_values(\"Features_importance\",ascending = False)\n",
    "          .reset_index(drop = True))\n",
    "    \n",
    "    #plot the DataFrame\n",
    "    fig,ax = plt.subplots(figsize = (10,10))\n",
    "    ax.barh(df[\"Features\"][:n], df[\"Features_importance\"][:n])\n",
    "    ax.set_ylabel(\"Features\",fontsize = 16)\n",
    "    ax.set_xlabel(\"Features Importance\", fontsize = 16)\n",
    "    ax.invert_yaxis()"
   ]
  },
  {
   "cell_type": "code",
   "execution_count": 47,
   "id": "d310dc53",
   "metadata": {},
   "outputs": [
    {
     "data": {
      "image/png": "[encoded data removed]",
      "text/plain": [
       "<Figure size 720x720 with 1 Axes>"
      ]
     },
     "metadata": {
      "needs_background": "light"
     },
     "output_type": "display_data"
    }
   ],
   "source": [
    "features_plot(X_train.columns,final_model.feature_importances_)"
   ]
  },
  {
   "cell_type": "code",
   "execution_count": null,
   "id": "c54fbe3a",
   "metadata": {},
   "outputs": [],
   "source": []
  }
 ],
 "metadata": {
  "kernelspec": {
   "display_name": "robin",
   "language": "python",
   "name": "robin"
  },
  "language_info": {
   "codemirror_mode": {
    "name": "ipython",
    "version": 3
   },
   "file_extension": ".py",
   "mimetype": "text/x-python",
   "name": "python",
   "nbconvert_exporter": "python",
   "pygments_lexer": "ipython3",
   "version": "3.7.11"
  }
 },
 "nbformat": 4,
 "nbformat_minor": 5
}

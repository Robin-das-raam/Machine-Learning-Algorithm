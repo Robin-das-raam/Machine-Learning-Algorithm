{
 "cells": [
  {
   "cell_type": "markdown",
   "metadata": {},
   "source": [
    "# Decision Tree :Income Prediction\n",
    "\n",
    "\n",
    "In this case study will build a decision tree to predict the income of a given population..The income is labeled as <=50K or >50K.. "
   ]
  },
  {
   "cell_type": "markdown",
   "metadata": {},
   "source": [
    "## Understanding and Clearing data"
   ]
  },
  {
   "cell_type": "code",
   "execution_count": 88,
   "metadata": {},
   "outputs": [],
   "source": [
    "import numpy as np\n",
    "import pandas as pd\n",
    "import matplotlib.pyplot as plt\n",
    "import seaborn as sns\n",
    "%matplotlib inline\n",
    "\n",
    "\n",
    "#to ignore warnings \n",
    "import warnings\n",
    "warnings.filterwarnings(\"ignore\")"
   ]
  },
  {
   "cell_type": "code",
   "execution_count": 89,
   "metadata": {},
   "outputs": [
    {
     "data": {
      "text/html": [
       "<div>\n",
       "<style scoped>\n",
       "    .dataframe tbody tr th:only-of-type {\n",
       "        vertical-align: middle;\n",
       "    }\n",
       "\n",
       "    .dataframe tbody tr th {\n",
       "        vertical-align: top;\n",
       "    }\n",
       "\n",
       "    .dataframe thead th {\n",
       "        text-align: right;\n",
       "    }\n",
       "</style>\n",
       "<table border=\"1\" class=\"dataframe\">\n",
       "  <thead>\n",
       "    <tr style=\"text-align: right;\">\n",
       "      <th></th>\n",
       "      <th>age</th>\n",
       "      <th>workclass</th>\n",
       "      <th>fnlwgt</th>\n",
       "      <th>education</th>\n",
       "      <th>education.num</th>\n",
       "      <th>marital.status</th>\n",
       "      <th>occupation</th>\n",
       "      <th>relationship</th>\n",
       "      <th>race</th>\n",
       "      <th>sex</th>\n",
       "      <th>capital.gain</th>\n",
       "      <th>capital.loss</th>\n",
       "      <th>hours.per.week</th>\n",
       "      <th>native.country</th>\n",
       "      <th>income</th>\n",
       "    </tr>\n",
       "  </thead>\n",
       "  <tbody>\n",
       "    <tr>\n",
       "      <th>0</th>\n",
       "      <td>90</td>\n",
       "      <td>?</td>\n",
       "      <td>77053</td>\n",
       "      <td>HS-grad</td>\n",
       "      <td>9</td>\n",
       "      <td>Widowed</td>\n",
       "      <td>?</td>\n",
       "      <td>Not-in-family</td>\n",
       "      <td>White</td>\n",
       "      <td>Female</td>\n",
       "      <td>0</td>\n",
       "      <td>4356</td>\n",
       "      <td>40</td>\n",
       "      <td>United-States</td>\n",
       "      <td>&lt;=50K</td>\n",
       "    </tr>\n",
       "    <tr>\n",
       "      <th>1</th>\n",
       "      <td>82</td>\n",
       "      <td>Private</td>\n",
       "      <td>132870</td>\n",
       "      <td>HS-grad</td>\n",
       "      <td>9</td>\n",
       "      <td>Widowed</td>\n",
       "      <td>Exec-managerial</td>\n",
       "      <td>Not-in-family</td>\n",
       "      <td>White</td>\n",
       "      <td>Female</td>\n",
       "      <td>0</td>\n",
       "      <td>4356</td>\n",
       "      <td>18</td>\n",
       "      <td>United-States</td>\n",
       "      <td>&lt;=50K</td>\n",
       "    </tr>\n",
       "    <tr>\n",
       "      <th>2</th>\n",
       "      <td>66</td>\n",
       "      <td>?</td>\n",
       "      <td>186061</td>\n",
       "      <td>Some-college</td>\n",
       "      <td>10</td>\n",
       "      <td>Widowed</td>\n",
       "      <td>?</td>\n",
       "      <td>Unmarried</td>\n",
       "      <td>Black</td>\n",
       "      <td>Female</td>\n",
       "      <td>0</td>\n",
       "      <td>4356</td>\n",
       "      <td>40</td>\n",
       "      <td>United-States</td>\n",
       "      <td>&lt;=50K</td>\n",
       "    </tr>\n",
       "    <tr>\n",
       "      <th>3</th>\n",
       "      <td>54</td>\n",
       "      <td>Private</td>\n",
       "      <td>140359</td>\n",
       "      <td>7th-8th</td>\n",
       "      <td>4</td>\n",
       "      <td>Divorced</td>\n",
       "      <td>Machine-op-inspct</td>\n",
       "      <td>Unmarried</td>\n",
       "      <td>White</td>\n",
       "      <td>Female</td>\n",
       "      <td>0</td>\n",
       "      <td>3900</td>\n",
       "      <td>40</td>\n",
       "      <td>United-States</td>\n",
       "      <td>&lt;=50K</td>\n",
       "    </tr>\n",
       "  </tbody>\n",
       "</table>\n",
       "</div>"
      ],
      "text/plain": [
       "   age workclass  fnlwgt     education  education.num marital.status  \\\n",
       "0   90         ?   77053       HS-grad              9        Widowed   \n",
       "1   82   Private  132870       HS-grad              9        Widowed   \n",
       "2   66         ?  186061  Some-college             10        Widowed   \n",
       "3   54   Private  140359       7th-8th              4       Divorced   \n",
       "\n",
       "          occupation   relationship   race     sex  capital.gain  \\\n",
       "0                  ?  Not-in-family  White  Female             0   \n",
       "1    Exec-managerial  Not-in-family  White  Female             0   \n",
       "2                  ?      Unmarried  Black  Female             0   \n",
       "3  Machine-op-inspct      Unmarried  White  Female             0   \n",
       "\n",
       "   capital.loss  hours.per.week native.country income  \n",
       "0          4356              40  United-States  <=50K  \n",
       "1          4356              18  United-States  <=50K  \n",
       "2          4356              40  United-States  <=50K  \n",
       "3          3900              40  United-States  <=50K  "
      ]
     },
     "execution_count": 89,
     "metadata": {},
     "output_type": "execute_result"
    }
   ],
   "source": [
    "df = pd.read_csv(\"adult_dataset.csv\")\n",
    "df.head(4)"
   ]
  },
  {
   "cell_type": "code",
   "execution_count": 90,
   "metadata": {},
   "outputs": [
    {
     "name": "stdout",
     "output_type": "stream",
     "text": [
      "<class 'pandas.core.frame.DataFrame'>\n",
      "RangeIndex: 32561 entries, 0 to 32560\n",
      "Data columns (total 15 columns):\n",
      " #   Column          Non-Null Count  Dtype \n",
      "---  ------          --------------  ----- \n",
      " 0   age             32561 non-null  int64 \n",
      " 1   workclass       32561 non-null  object\n",
      " 2   fnlwgt          32561 non-null  int64 \n",
      " 3   education       32561 non-null  object\n",
      " 4   education.num   32561 non-null  int64 \n",
      " 5   marital.status  32561 non-null  object\n",
      " 6   occupation      32561 non-null  object\n",
      " 7   relationship    32561 non-null  object\n",
      " 8   race            32561 non-null  object\n",
      " 9   sex             32561 non-null  object\n",
      " 10  capital.gain    32561 non-null  int64 \n",
      " 11  capital.loss    32561 non-null  int64 \n",
      " 12  hours.per.week  32561 non-null  int64 \n",
      " 13  native.country  32561 non-null  object\n",
      " 14  income          32561 non-null  object\n",
      "dtypes: int64(6), object(9)\n",
      "memory usage: 3.7+ MB\n"
     ]
    }
   ],
   "source": [
    "df.info()"
   ]
  },
  {
   "cell_type": "code",
   "execution_count": 91,
   "metadata": {},
   "outputs": [
    {
     "data": {
      "text/html": [
       "<div>\n",
       "<style scoped>\n",
       "    .dataframe tbody tr th:only-of-type {\n",
       "        vertical-align: middle;\n",
       "    }\n",
       "\n",
       "    .dataframe tbody tr th {\n",
       "        vertical-align: top;\n",
       "    }\n",
       "\n",
       "    .dataframe thead th {\n",
       "        text-align: right;\n",
       "    }\n",
       "</style>\n",
       "<table border=\"1\" class=\"dataframe\">\n",
       "  <thead>\n",
       "    <tr style=\"text-align: right;\">\n",
       "      <th></th>\n",
       "      <th>age</th>\n",
       "      <th>fnlwgt</th>\n",
       "      <th>education.num</th>\n",
       "      <th>capital.gain</th>\n",
       "      <th>capital.loss</th>\n",
       "      <th>hours.per.week</th>\n",
       "    </tr>\n",
       "  </thead>\n",
       "  <tbody>\n",
       "    <tr>\n",
       "      <th>count</th>\n",
       "      <td>32561.000000</td>\n",
       "      <td>3.256100e+04</td>\n",
       "      <td>32561.000000</td>\n",
       "      <td>32561.000000</td>\n",
       "      <td>32561.000000</td>\n",
       "      <td>32561.000000</td>\n",
       "    </tr>\n",
       "    <tr>\n",
       "      <th>mean</th>\n",
       "      <td>38.581647</td>\n",
       "      <td>1.897784e+05</td>\n",
       "      <td>10.080679</td>\n",
       "      <td>1077.648844</td>\n",
       "      <td>87.303830</td>\n",
       "      <td>40.437456</td>\n",
       "    </tr>\n",
       "    <tr>\n",
       "      <th>std</th>\n",
       "      <td>13.640433</td>\n",
       "      <td>1.055500e+05</td>\n",
       "      <td>2.572720</td>\n",
       "      <td>7385.292085</td>\n",
       "      <td>402.960219</td>\n",
       "      <td>12.347429</td>\n",
       "    </tr>\n",
       "    <tr>\n",
       "      <th>min</th>\n",
       "      <td>17.000000</td>\n",
       "      <td>1.228500e+04</td>\n",
       "      <td>1.000000</td>\n",
       "      <td>0.000000</td>\n",
       "      <td>0.000000</td>\n",
       "      <td>1.000000</td>\n",
       "    </tr>\n",
       "    <tr>\n",
       "      <th>25%</th>\n",
       "      <td>28.000000</td>\n",
       "      <td>1.178270e+05</td>\n",
       "      <td>9.000000</td>\n",
       "      <td>0.000000</td>\n",
       "      <td>0.000000</td>\n",
       "      <td>40.000000</td>\n",
       "    </tr>\n",
       "    <tr>\n",
       "      <th>50%</th>\n",
       "      <td>37.000000</td>\n",
       "      <td>1.783560e+05</td>\n",
       "      <td>10.000000</td>\n",
       "      <td>0.000000</td>\n",
       "      <td>0.000000</td>\n",
       "      <td>40.000000</td>\n",
       "    </tr>\n",
       "    <tr>\n",
       "      <th>75%</th>\n",
       "      <td>48.000000</td>\n",
       "      <td>2.370510e+05</td>\n",
       "      <td>12.000000</td>\n",
       "      <td>0.000000</td>\n",
       "      <td>0.000000</td>\n",
       "      <td>45.000000</td>\n",
       "    </tr>\n",
       "    <tr>\n",
       "      <th>max</th>\n",
       "      <td>90.000000</td>\n",
       "      <td>1.484705e+06</td>\n",
       "      <td>16.000000</td>\n",
       "      <td>99999.000000</td>\n",
       "      <td>4356.000000</td>\n",
       "      <td>99.000000</td>\n",
       "    </tr>\n",
       "  </tbody>\n",
       "</table>\n",
       "</div>"
      ],
      "text/plain": [
       "                age        fnlwgt  education.num  capital.gain  capital.loss  \\\n",
       "count  32561.000000  3.256100e+04   32561.000000  32561.000000  32561.000000   \n",
       "mean      38.581647  1.897784e+05      10.080679   1077.648844     87.303830   \n",
       "std       13.640433  1.055500e+05       2.572720   7385.292085    402.960219   \n",
       "min       17.000000  1.228500e+04       1.000000      0.000000      0.000000   \n",
       "25%       28.000000  1.178270e+05       9.000000      0.000000      0.000000   \n",
       "50%       37.000000  1.783560e+05      10.000000      0.000000      0.000000   \n",
       "75%       48.000000  2.370510e+05      12.000000      0.000000      0.000000   \n",
       "max       90.000000  1.484705e+06      16.000000  99999.000000   4356.000000   \n",
       "\n",
       "       hours.per.week  \n",
       "count    32561.000000  \n",
       "mean        40.437456  \n",
       "std         12.347429  \n",
       "min          1.000000  \n",
       "25%         40.000000  \n",
       "50%         40.000000  \n",
       "75%         45.000000  \n",
       "max         99.000000  "
      ]
     },
     "execution_count": 91,
     "metadata": {},
     "output_type": "execute_result"
    }
   ],
   "source": [
    "df.describe()"
   ]
  },
  {
   "cell_type": "code",
   "execution_count": 92,
   "metadata": {},
   "outputs": [
    {
     "data": {
      "text/html": [
       "<div>\n",
       "<style scoped>\n",
       "    .dataframe tbody tr th:only-of-type {\n",
       "        vertical-align: middle;\n",
       "    }\n",
       "\n",
       "    .dataframe tbody tr th {\n",
       "        vertical-align: top;\n",
       "    }\n",
       "\n",
       "    .dataframe thead th {\n",
       "        text-align: right;\n",
       "    }\n",
       "</style>\n",
       "<table border=\"1\" class=\"dataframe\">\n",
       "  <thead>\n",
       "    <tr style=\"text-align: right;\">\n",
       "      <th></th>\n",
       "      <th>age</th>\n",
       "      <th>workclass</th>\n",
       "      <th>fnlwgt</th>\n",
       "      <th>education</th>\n",
       "      <th>education.num</th>\n",
       "      <th>marital.status</th>\n",
       "      <th>occupation</th>\n",
       "      <th>relationship</th>\n",
       "      <th>race</th>\n",
       "      <th>sex</th>\n",
       "      <th>capital.gain</th>\n",
       "      <th>capital.loss</th>\n",
       "      <th>hours.per.week</th>\n",
       "      <th>native.country</th>\n",
       "      <th>income</th>\n",
       "    </tr>\n",
       "  </thead>\n",
       "  <tbody>\n",
       "    <tr>\n",
       "      <th>0</th>\n",
       "      <td>90</td>\n",
       "      <td>?</td>\n",
       "      <td>77053</td>\n",
       "      <td>HS-grad</td>\n",
       "      <td>9</td>\n",
       "      <td>Widowed</td>\n",
       "      <td>?</td>\n",
       "      <td>Not-in-family</td>\n",
       "      <td>White</td>\n",
       "      <td>Female</td>\n",
       "      <td>0</td>\n",
       "      <td>4356</td>\n",
       "      <td>40</td>\n",
       "      <td>United-States</td>\n",
       "      <td>&lt;=50K</td>\n",
       "    </tr>\n",
       "    <tr>\n",
       "      <th>1</th>\n",
       "      <td>82</td>\n",
       "      <td>Private</td>\n",
       "      <td>132870</td>\n",
       "      <td>HS-grad</td>\n",
       "      <td>9</td>\n",
       "      <td>Widowed</td>\n",
       "      <td>Exec-managerial</td>\n",
       "      <td>Not-in-family</td>\n",
       "      <td>White</td>\n",
       "      <td>Female</td>\n",
       "      <td>0</td>\n",
       "      <td>4356</td>\n",
       "      <td>18</td>\n",
       "      <td>United-States</td>\n",
       "      <td>&lt;=50K</td>\n",
       "    </tr>\n",
       "    <tr>\n",
       "      <th>2</th>\n",
       "      <td>66</td>\n",
       "      <td>?</td>\n",
       "      <td>186061</td>\n",
       "      <td>Some-college</td>\n",
       "      <td>10</td>\n",
       "      <td>Widowed</td>\n",
       "      <td>?</td>\n",
       "      <td>Unmarried</td>\n",
       "      <td>Black</td>\n",
       "      <td>Female</td>\n",
       "      <td>0</td>\n",
       "      <td>4356</td>\n",
       "      <td>40</td>\n",
       "      <td>United-States</td>\n",
       "      <td>&lt;=50K</td>\n",
       "    </tr>\n",
       "  </tbody>\n",
       "</table>\n",
       "</div>"
      ],
      "text/plain": [
       "   age workclass  fnlwgt     education  education.num marital.status  \\\n",
       "0   90         ?   77053       HS-grad              9        Widowed   \n",
       "1   82   Private  132870       HS-grad              9        Widowed   \n",
       "2   66         ?  186061  Some-college             10        Widowed   \n",
       "\n",
       "        occupation   relationship   race     sex  capital.gain  capital.loss  \\\n",
       "0                ?  Not-in-family  White  Female             0          4356   \n",
       "1  Exec-managerial  Not-in-family  White  Female             0          4356   \n",
       "2                ?      Unmarried  Black  Female             0          4356   \n",
       "\n",
       "   hours.per.week native.country income  \n",
       "0              40  United-States  <=50K  \n",
       "1              18  United-States  <=50K  \n",
       "2              40  United-States  <=50K  "
      ]
     },
     "execution_count": 92,
     "metadata": {},
     "output_type": "execute_result"
    }
   ],
   "source": [
    "df.head(3)"
   ]
  },
  {
   "cell_type": "markdown",
   "metadata": {},
   "source": [
    "I can observe that the \"workclass\" and \"occupation\" columns contain missing value which are represented by \"?\".\n",
    "\n",
    "If we observe more closely we can see that when the \"workclass\" data is missing \"occupation\" column also missing data in that row..."
   ]
  },
  {
   "cell_type": "code",
   "execution_count": 93,
   "metadata": {},
   "outputs": [
    {
     "data": {
      "text/html": [
       "<div>\n",
       "<style scoped>\n",
       "    .dataframe tbody tr th:only-of-type {\n",
       "        vertical-align: middle;\n",
       "    }\n",
       "\n",
       "    .dataframe tbody tr th {\n",
       "        vertical-align: top;\n",
       "    }\n",
       "\n",
       "    .dataframe thead th {\n",
       "        text-align: right;\n",
       "    }\n",
       "</style>\n",
       "<table border=\"1\" class=\"dataframe\">\n",
       "  <thead>\n",
       "    <tr style=\"text-align: right;\">\n",
       "      <th></th>\n",
       "      <th>age</th>\n",
       "      <th>workclass</th>\n",
       "      <th>fnlwgt</th>\n",
       "      <th>education</th>\n",
       "      <th>education.num</th>\n",
       "      <th>marital.status</th>\n",
       "      <th>occupation</th>\n",
       "      <th>relationship</th>\n",
       "      <th>race</th>\n",
       "      <th>sex</th>\n",
       "      <th>capital.gain</th>\n",
       "      <th>capital.loss</th>\n",
       "      <th>hours.per.week</th>\n",
       "      <th>native.country</th>\n",
       "      <th>income</th>\n",
       "    </tr>\n",
       "  </thead>\n",
       "  <tbody>\n",
       "    <tr>\n",
       "      <th>0</th>\n",
       "      <td>90</td>\n",
       "      <td>?</td>\n",
       "      <td>77053</td>\n",
       "      <td>HS-grad</td>\n",
       "      <td>9</td>\n",
       "      <td>Widowed</td>\n",
       "      <td>?</td>\n",
       "      <td>Not-in-family</td>\n",
       "      <td>White</td>\n",
       "      <td>Female</td>\n",
       "      <td>0</td>\n",
       "      <td>4356</td>\n",
       "      <td>40</td>\n",
       "      <td>United-States</td>\n",
       "      <td>&lt;=50K</td>\n",
       "    </tr>\n",
       "    <tr>\n",
       "      <th>2</th>\n",
       "      <td>66</td>\n",
       "      <td>?</td>\n",
       "      <td>186061</td>\n",
       "      <td>Some-college</td>\n",
       "      <td>10</td>\n",
       "      <td>Widowed</td>\n",
       "      <td>?</td>\n",
       "      <td>Unmarried</td>\n",
       "      <td>Black</td>\n",
       "      <td>Female</td>\n",
       "      <td>0</td>\n",
       "      <td>4356</td>\n",
       "      <td>40</td>\n",
       "      <td>United-States</td>\n",
       "      <td>&lt;=50K</td>\n",
       "    </tr>\n",
       "    <tr>\n",
       "      <th>14</th>\n",
       "      <td>51</td>\n",
       "      <td>?</td>\n",
       "      <td>172175</td>\n",
       "      <td>Doctorate</td>\n",
       "      <td>16</td>\n",
       "      <td>Never-married</td>\n",
       "      <td>?</td>\n",
       "      <td>Not-in-family</td>\n",
       "      <td>White</td>\n",
       "      <td>Male</td>\n",
       "      <td>0</td>\n",
       "      <td>2824</td>\n",
       "      <td>40</td>\n",
       "      <td>United-States</td>\n",
       "      <td>&gt;50K</td>\n",
       "    </tr>\n",
       "    <tr>\n",
       "      <th>24</th>\n",
       "      <td>61</td>\n",
       "      <td>?</td>\n",
       "      <td>135285</td>\n",
       "      <td>HS-grad</td>\n",
       "      <td>9</td>\n",
       "      <td>Married-civ-spouse</td>\n",
       "      <td>?</td>\n",
       "      <td>Husband</td>\n",
       "      <td>White</td>\n",
       "      <td>Male</td>\n",
       "      <td>0</td>\n",
       "      <td>2603</td>\n",
       "      <td>32</td>\n",
       "      <td>United-States</td>\n",
       "      <td>&lt;=50K</td>\n",
       "    </tr>\n",
       "    <tr>\n",
       "      <th>44</th>\n",
       "      <td>71</td>\n",
       "      <td>?</td>\n",
       "      <td>100820</td>\n",
       "      <td>HS-grad</td>\n",
       "      <td>9</td>\n",
       "      <td>Married-civ-spouse</td>\n",
       "      <td>?</td>\n",
       "      <td>Husband</td>\n",
       "      <td>White</td>\n",
       "      <td>Male</td>\n",
       "      <td>0</td>\n",
       "      <td>2489</td>\n",
       "      <td>15</td>\n",
       "      <td>United-States</td>\n",
       "      <td>&lt;=50K</td>\n",
       "    </tr>\n",
       "    <tr>\n",
       "      <th>...</th>\n",
       "      <td>...</td>\n",
       "      <td>...</td>\n",
       "      <td>...</td>\n",
       "      <td>...</td>\n",
       "      <td>...</td>\n",
       "      <td>...</td>\n",
       "      <td>...</td>\n",
       "      <td>...</td>\n",
       "      <td>...</td>\n",
       "      <td>...</td>\n",
       "      <td>...</td>\n",
       "      <td>...</td>\n",
       "      <td>...</td>\n",
       "      <td>...</td>\n",
       "      <td>...</td>\n",
       "    </tr>\n",
       "    <tr>\n",
       "      <th>32533</th>\n",
       "      <td>35</td>\n",
       "      <td>?</td>\n",
       "      <td>320084</td>\n",
       "      <td>Bachelors</td>\n",
       "      <td>13</td>\n",
       "      <td>Married-civ-spouse</td>\n",
       "      <td>?</td>\n",
       "      <td>Wife</td>\n",
       "      <td>White</td>\n",
       "      <td>Female</td>\n",
       "      <td>0</td>\n",
       "      <td>0</td>\n",
       "      <td>55</td>\n",
       "      <td>United-States</td>\n",
       "      <td>&gt;50K</td>\n",
       "    </tr>\n",
       "    <tr>\n",
       "      <th>32534</th>\n",
       "      <td>30</td>\n",
       "      <td>?</td>\n",
       "      <td>33811</td>\n",
       "      <td>Bachelors</td>\n",
       "      <td>13</td>\n",
       "      <td>Never-married</td>\n",
       "      <td>?</td>\n",
       "      <td>Not-in-family</td>\n",
       "      <td>Asian-Pac-Islander</td>\n",
       "      <td>Female</td>\n",
       "      <td>0</td>\n",
       "      <td>0</td>\n",
       "      <td>99</td>\n",
       "      <td>United-States</td>\n",
       "      <td>&lt;=50K</td>\n",
       "    </tr>\n",
       "    <tr>\n",
       "      <th>32541</th>\n",
       "      <td>71</td>\n",
       "      <td>?</td>\n",
       "      <td>287372</td>\n",
       "      <td>Doctorate</td>\n",
       "      <td>16</td>\n",
       "      <td>Married-civ-spouse</td>\n",
       "      <td>?</td>\n",
       "      <td>Husband</td>\n",
       "      <td>White</td>\n",
       "      <td>Male</td>\n",
       "      <td>0</td>\n",
       "      <td>0</td>\n",
       "      <td>10</td>\n",
       "      <td>United-States</td>\n",
       "      <td>&gt;50K</td>\n",
       "    </tr>\n",
       "    <tr>\n",
       "      <th>32543</th>\n",
       "      <td>41</td>\n",
       "      <td>?</td>\n",
       "      <td>202822</td>\n",
       "      <td>HS-grad</td>\n",
       "      <td>9</td>\n",
       "      <td>Separated</td>\n",
       "      <td>?</td>\n",
       "      <td>Not-in-family</td>\n",
       "      <td>Black</td>\n",
       "      <td>Female</td>\n",
       "      <td>0</td>\n",
       "      <td>0</td>\n",
       "      <td>32</td>\n",
       "      <td>United-States</td>\n",
       "      <td>&lt;=50K</td>\n",
       "    </tr>\n",
       "    <tr>\n",
       "      <th>32544</th>\n",
       "      <td>72</td>\n",
       "      <td>?</td>\n",
       "      <td>129912</td>\n",
       "      <td>HS-grad</td>\n",
       "      <td>9</td>\n",
       "      <td>Married-civ-spouse</td>\n",
       "      <td>?</td>\n",
       "      <td>Husband</td>\n",
       "      <td>White</td>\n",
       "      <td>Male</td>\n",
       "      <td>0</td>\n",
       "      <td>0</td>\n",
       "      <td>25</td>\n",
       "      <td>United-States</td>\n",
       "      <td>&lt;=50K</td>\n",
       "    </tr>\n",
       "  </tbody>\n",
       "</table>\n",
       "<p>1836 rows × 15 columns</p>\n",
       "</div>"
      ],
      "text/plain": [
       "       age workclass  fnlwgt     education  education.num      marital.status  \\\n",
       "0       90         ?   77053       HS-grad              9             Widowed   \n",
       "2       66         ?  186061  Some-college             10             Widowed   \n",
       "14      51         ?  172175     Doctorate             16       Never-married   \n",
       "24      61         ?  135285       HS-grad              9  Married-civ-spouse   \n",
       "44      71         ?  100820       HS-grad              9  Married-civ-spouse   \n",
       "...    ...       ...     ...           ...            ...                 ...   \n",
       "32533   35         ?  320084     Bachelors             13  Married-civ-spouse   \n",
       "32534   30         ?   33811     Bachelors             13       Never-married   \n",
       "32541   71         ?  287372     Doctorate             16  Married-civ-spouse   \n",
       "32543   41         ?  202822       HS-grad              9           Separated   \n",
       "32544   72         ?  129912       HS-grad              9  Married-civ-spouse   \n",
       "\n",
       "      occupation   relationship                race     sex  capital.gain  \\\n",
       "0              ?  Not-in-family               White  Female             0   \n",
       "2              ?      Unmarried               Black  Female             0   \n",
       "14             ?  Not-in-family               White    Male             0   \n",
       "24             ?        Husband               White    Male             0   \n",
       "44             ?        Husband               White    Male             0   \n",
       "...          ...            ...                 ...     ...           ...   \n",
       "32533          ?           Wife               White  Female             0   \n",
       "32534          ?  Not-in-family  Asian-Pac-Islander  Female             0   \n",
       "32541          ?        Husband               White    Male             0   \n",
       "32543          ?  Not-in-family               Black  Female             0   \n",
       "32544          ?        Husband               White    Male             0   \n",
       "\n",
       "       capital.loss  hours.per.week native.country income  \n",
       "0              4356              40  United-States  <=50K  \n",
       "2              4356              40  United-States  <=50K  \n",
       "14             2824              40  United-States   >50K  \n",
       "24             2603              32  United-States  <=50K  \n",
       "44             2489              15  United-States  <=50K  \n",
       "...             ...             ...            ...    ...  \n",
       "32533             0              55  United-States   >50K  \n",
       "32534             0              99  United-States  <=50K  \n",
       "32541             0              10  United-States   >50K  \n",
       "32543             0              32  United-States  <=50K  \n",
       "32544             0              25  United-States  <=50K  \n",
       "\n",
       "[1836 rows x 15 columns]"
      ]
     },
     "execution_count": 93,
     "metadata": {},
     "output_type": "execute_result"
    }
   ],
   "source": [
    "# rows with missing values\n",
    "\n",
    "df_1 = df[df.workclass == \"?\"]\n",
    "df_1"
   ]
  },
  {
   "cell_type": "code",
   "execution_count": 94,
   "metadata": {},
   "outputs": [
    {
     "name": "stdout",
     "output_type": "stream",
     "text": [
      "(32561, 15)\n",
      "(1836, 15)\n"
     ]
    }
   ],
   "source": [
    "print(df.shape)\n",
    "print(df_1.shape)"
   ]
  },
  {
   "cell_type": "markdown",
   "metadata": {},
   "source": [
    "Our original is length of 32561 and the length of missing data is 1836..The amount of missing data is approximately 5% of the total data..so we can drop the rows containing missing values.."
   ]
  },
  {
   "cell_type": "code",
   "execution_count": 95,
   "metadata": {},
   "outputs": [
    {
     "data": {
      "text/html": [
       "<div>\n",
       "<style scoped>\n",
       "    .dataframe tbody tr th:only-of-type {\n",
       "        vertical-align: middle;\n",
       "    }\n",
       "\n",
       "    .dataframe tbody tr th {\n",
       "        vertical-align: top;\n",
       "    }\n",
       "\n",
       "    .dataframe thead th {\n",
       "        text-align: right;\n",
       "    }\n",
       "</style>\n",
       "<table border=\"1\" class=\"dataframe\">\n",
       "  <thead>\n",
       "    <tr style=\"text-align: right;\">\n",
       "      <th></th>\n",
       "      <th>age</th>\n",
       "      <th>workclass</th>\n",
       "      <th>fnlwgt</th>\n",
       "      <th>education</th>\n",
       "      <th>education.num</th>\n",
       "      <th>marital.status</th>\n",
       "      <th>occupation</th>\n",
       "      <th>relationship</th>\n",
       "      <th>race</th>\n",
       "      <th>sex</th>\n",
       "      <th>capital.gain</th>\n",
       "      <th>capital.loss</th>\n",
       "      <th>hours.per.week</th>\n",
       "      <th>native.country</th>\n",
       "      <th>income</th>\n",
       "    </tr>\n",
       "  </thead>\n",
       "  <tbody>\n",
       "    <tr>\n",
       "      <th>1</th>\n",
       "      <td>82</td>\n",
       "      <td>Private</td>\n",
       "      <td>132870</td>\n",
       "      <td>HS-grad</td>\n",
       "      <td>9</td>\n",
       "      <td>Widowed</td>\n",
       "      <td>Exec-managerial</td>\n",
       "      <td>Not-in-family</td>\n",
       "      <td>White</td>\n",
       "      <td>Female</td>\n",
       "      <td>0</td>\n",
       "      <td>4356</td>\n",
       "      <td>18</td>\n",
       "      <td>United-States</td>\n",
       "      <td>&lt;=50K</td>\n",
       "    </tr>\n",
       "    <tr>\n",
       "      <th>3</th>\n",
       "      <td>54</td>\n",
       "      <td>Private</td>\n",
       "      <td>140359</td>\n",
       "      <td>7th-8th</td>\n",
       "      <td>4</td>\n",
       "      <td>Divorced</td>\n",
       "      <td>Machine-op-inspct</td>\n",
       "      <td>Unmarried</td>\n",
       "      <td>White</td>\n",
       "      <td>Female</td>\n",
       "      <td>0</td>\n",
       "      <td>3900</td>\n",
       "      <td>40</td>\n",
       "      <td>United-States</td>\n",
       "      <td>&lt;=50K</td>\n",
       "    </tr>\n",
       "    <tr>\n",
       "      <th>4</th>\n",
       "      <td>41</td>\n",
       "      <td>Private</td>\n",
       "      <td>264663</td>\n",
       "      <td>Some-college</td>\n",
       "      <td>10</td>\n",
       "      <td>Separated</td>\n",
       "      <td>Prof-specialty</td>\n",
       "      <td>Own-child</td>\n",
       "      <td>White</td>\n",
       "      <td>Female</td>\n",
       "      <td>0</td>\n",
       "      <td>3900</td>\n",
       "      <td>40</td>\n",
       "      <td>United-States</td>\n",
       "      <td>&lt;=50K</td>\n",
       "    </tr>\n",
       "    <tr>\n",
       "      <th>5</th>\n",
       "      <td>34</td>\n",
       "      <td>Private</td>\n",
       "      <td>216864</td>\n",
       "      <td>HS-grad</td>\n",
       "      <td>9</td>\n",
       "      <td>Divorced</td>\n",
       "      <td>Other-service</td>\n",
       "      <td>Unmarried</td>\n",
       "      <td>White</td>\n",
       "      <td>Female</td>\n",
       "      <td>0</td>\n",
       "      <td>3770</td>\n",
       "      <td>45</td>\n",
       "      <td>United-States</td>\n",
       "      <td>&lt;=50K</td>\n",
       "    </tr>\n",
       "  </tbody>\n",
       "</table>\n",
       "</div>"
      ],
      "text/plain": [
       "   age workclass  fnlwgt     education  education.num marital.status  \\\n",
       "1   82   Private  132870       HS-grad              9        Widowed   \n",
       "3   54   Private  140359       7th-8th              4       Divorced   \n",
       "4   41   Private  264663  Some-college             10      Separated   \n",
       "5   34   Private  216864       HS-grad              9       Divorced   \n",
       "\n",
       "          occupation   relationship   race     sex  capital.gain  \\\n",
       "1    Exec-managerial  Not-in-family  White  Female             0   \n",
       "3  Machine-op-inspct      Unmarried  White  Female             0   \n",
       "4     Prof-specialty      Own-child  White  Female             0   \n",
       "5      Other-service      Unmarried  White  Female             0   \n",
       "\n",
       "   capital.loss  hours.per.week native.country income  \n",
       "1          4356              18  United-States  <=50K  \n",
       "3          3900              40  United-States  <=50K  \n",
       "4          3900              40  United-States  <=50K  \n",
       "5          3770              45  United-States  <=50K  "
      ]
     },
     "execution_count": 95,
     "metadata": {},
     "output_type": "execute_result"
    }
   ],
   "source": [
    "#drop the missing values\n",
    "\n",
    "df = df[df[\"workclass\"] != \"?\"]\n",
    "df.head(4)"
   ]
  },
  {
   "cell_type": "code",
   "execution_count": 96,
   "metadata": {},
   "outputs": [
    {
     "data": {
      "text/plain": [
       "(30725, 15)"
      ]
     },
     "execution_count": 96,
     "metadata": {},
     "output_type": "execute_result"
    }
   ],
   "source": [
    "df.shape"
   ]
  },
  {
   "cell_type": "code",
   "execution_count": 97,
   "metadata": {},
   "outputs": [
    {
     "name": "stdout",
     "output_type": "stream",
     "text": [
      "age\n",
      "fnlwgt\n",
      "education.num\n",
      "capital.gain\n",
      "capital.loss\n",
      "hours.per.week\n"
     ]
    }
   ],
   "source": [
    "# Lets check the numerical column with pandas..\n",
    "\n",
    "for label,data in df.items():\n",
    "    if pd.api.types.is_numeric_dtype(data):\n",
    "        print(label)\n",
    "    "
   ]
  },
  {
   "cell_type": "code",
   "execution_count": 98,
   "metadata": {},
   "outputs": [
    {
     "name": "stdout",
     "output_type": "stream",
     "text": [
      "workclass\n",
      "workclass 0 \n",
      "\n",
      "education\n",
      "education 0 \n",
      "\n",
      "marital.status\n",
      "marital.status 0 \n",
      "\n",
      "occupation\n",
      "occupation 0 \n",
      "\n",
      "relationship\n",
      "relationship 0 \n",
      "\n",
      "race\n",
      "race 0 \n",
      "\n",
      "sex\n",
      "sex 0 \n",
      "\n",
      "native.country\n",
      "native.country 0 \n",
      "\n",
      "income\n",
      "income 0 \n",
      "\n"
     ]
    }
   ],
   "source": [
    "#lets check the categorical columns and the missing values\n",
    "\n",
    "for label,data in df.items():\n",
    "    if  not pd.api.types.is_numeric_dtype(data):\n",
    "        print(label)\n",
    "        print(label,data.isna().sum(),\"\\n\")"
   ]
  },
  {
   "cell_type": "code",
   "execution_count": 99,
   "metadata": {},
   "outputs": [
    {
     "data": {
      "text/plain": [
       "workclass           0\n",
       "education           0\n",
       "marital.status      0\n",
       "occupation          7\n",
       "relationship        0\n",
       "race                0\n",
       "sex                 0\n",
       "native.country    556\n",
       "income              0\n",
       "dtype: int64"
      ]
     },
     "execution_count": 99,
     "metadata": {},
     "output_type": "execute_result"
    }
   ],
   "source": [
    "# Lets check any columns contain any \"?\" string \n",
    "\n",
    "df_categorical = df.select_dtypes(include= [\"object\"])\n",
    "\n",
    "df_categorical.apply(lambda x:x == \"?\",axis = 0).sum()"
   ]
  },
  {
   "cell_type": "code",
   "execution_count": 100,
   "metadata": {},
   "outputs": [],
   "source": [
    "df = df[df[\"occupation\"] != \"?\"]\n",
    "df = df[df[\"native.country\"] != \"?\"]"
   ]
  },
  {
   "cell_type": "code",
   "execution_count": 101,
   "metadata": {},
   "outputs": [
    {
     "name": "stdout",
     "output_type": "stream",
     "text": [
      "<class 'pandas.core.frame.DataFrame'>\n",
      "Int64Index: 30162 entries, 1 to 32560\n",
      "Data columns (total 15 columns):\n",
      " #   Column          Non-Null Count  Dtype \n",
      "---  ------          --------------  ----- \n",
      " 0   age             30162 non-null  int64 \n",
      " 1   workclass       30162 non-null  object\n",
      " 2   fnlwgt          30162 non-null  int64 \n",
      " 3   education       30162 non-null  object\n",
      " 4   education.num   30162 non-null  int64 \n",
      " 5   marital.status  30162 non-null  object\n",
      " 6   occupation      30162 non-null  object\n",
      " 7   relationship    30162 non-null  object\n",
      " 8   race            30162 non-null  object\n",
      " 9   sex             30162 non-null  object\n",
      " 10  capital.gain    30162 non-null  int64 \n",
      " 11  capital.loss    30162 non-null  int64 \n",
      " 12  hours.per.week  30162 non-null  int64 \n",
      " 13  native.country  30162 non-null  object\n",
      " 14  income          30162 non-null  object\n",
      "dtypes: int64(6), object(9)\n",
      "memory usage: 3.7+ MB\n"
     ]
    }
   ],
   "source": [
    "df.info()"
   ]
  },
  {
   "cell_type": "code",
   "execution_count": 102,
   "metadata": {},
   "outputs": [],
   "source": [
    "#lets turn the categorical columns into numerical value though Decision Tree can compute with categorical data\n",
    "\n",
    "for label,content in df.items():\n",
    "    if not pd.api.types.is_numeric_dtype(content):\n",
    "        df[label] = pd.Categorical(content).codes"
   ]
  },
  {
   "cell_type": "code",
   "execution_count": 103,
   "metadata": {},
   "outputs": [
    {
     "name": "stdout",
     "output_type": "stream",
     "text": [
      "<class 'pandas.core.frame.DataFrame'>\n",
      "Int64Index: 30162 entries, 1 to 32560\n",
      "Data columns (total 15 columns):\n",
      " #   Column          Non-Null Count  Dtype\n",
      "---  ------          --------------  -----\n",
      " 0   age             30162 non-null  int64\n",
      " 1   workclass       30162 non-null  int8 \n",
      " 2   fnlwgt          30162 non-null  int64\n",
      " 3   education       30162 non-null  int8 \n",
      " 4   education.num   30162 non-null  int64\n",
      " 5   marital.status  30162 non-null  int8 \n",
      " 6   occupation      30162 non-null  int8 \n",
      " 7   relationship    30162 non-null  int8 \n",
      " 8   race            30162 non-null  int8 \n",
      " 9   sex             30162 non-null  int8 \n",
      " 10  capital.gain    30162 non-null  int64\n",
      " 11  capital.loss    30162 non-null  int64\n",
      " 12  hours.per.week  30162 non-null  int64\n",
      " 13  native.country  30162 non-null  int8 \n",
      " 14  income          30162 non-null  int8 \n",
      "dtypes: int64(6), int8(9)\n",
      "memory usage: 1.9 MB\n"
     ]
    }
   ],
   "source": [
    "df.info()"
   ]
  },
  {
   "cell_type": "code",
   "execution_count": 104,
   "metadata": {},
   "outputs": [
    {
     "data": {
      "text/html": [
       "<div>\n",
       "<style scoped>\n",
       "    .dataframe tbody tr th:only-of-type {\n",
       "        vertical-align: middle;\n",
       "    }\n",
       "\n",
       "    .dataframe tbody tr th {\n",
       "        vertical-align: top;\n",
       "    }\n",
       "\n",
       "    .dataframe thead th {\n",
       "        text-align: right;\n",
       "    }\n",
       "</style>\n",
       "<table border=\"1\" class=\"dataframe\">\n",
       "  <thead>\n",
       "    <tr style=\"text-align: right;\">\n",
       "      <th></th>\n",
       "      <th>age</th>\n",
       "      <th>workclass</th>\n",
       "      <th>fnlwgt</th>\n",
       "      <th>education</th>\n",
       "      <th>education.num</th>\n",
       "      <th>marital.status</th>\n",
       "      <th>occupation</th>\n",
       "      <th>relationship</th>\n",
       "      <th>race</th>\n",
       "      <th>sex</th>\n",
       "      <th>capital.gain</th>\n",
       "      <th>capital.loss</th>\n",
       "      <th>hours.per.week</th>\n",
       "      <th>native.country</th>\n",
       "      <th>income</th>\n",
       "    </tr>\n",
       "  </thead>\n",
       "  <tbody>\n",
       "    <tr>\n",
       "      <th>1</th>\n",
       "      <td>82</td>\n",
       "      <td>2</td>\n",
       "      <td>132870</td>\n",
       "      <td>11</td>\n",
       "      <td>9</td>\n",
       "      <td>6</td>\n",
       "      <td>3</td>\n",
       "      <td>1</td>\n",
       "      <td>4</td>\n",
       "      <td>0</td>\n",
       "      <td>0</td>\n",
       "      <td>4356</td>\n",
       "      <td>18</td>\n",
       "      <td>38</td>\n",
       "      <td>0</td>\n",
       "    </tr>\n",
       "    <tr>\n",
       "      <th>3</th>\n",
       "      <td>54</td>\n",
       "      <td>2</td>\n",
       "      <td>140359</td>\n",
       "      <td>5</td>\n",
       "      <td>4</td>\n",
       "      <td>0</td>\n",
       "      <td>6</td>\n",
       "      <td>4</td>\n",
       "      <td>4</td>\n",
       "      <td>0</td>\n",
       "      <td>0</td>\n",
       "      <td>3900</td>\n",
       "      <td>40</td>\n",
       "      <td>38</td>\n",
       "      <td>0</td>\n",
       "    </tr>\n",
       "    <tr>\n",
       "      <th>4</th>\n",
       "      <td>41</td>\n",
       "      <td>2</td>\n",
       "      <td>264663</td>\n",
       "      <td>15</td>\n",
       "      <td>10</td>\n",
       "      <td>5</td>\n",
       "      <td>9</td>\n",
       "      <td>3</td>\n",
       "      <td>4</td>\n",
       "      <td>0</td>\n",
       "      <td>0</td>\n",
       "      <td>3900</td>\n",
       "      <td>40</td>\n",
       "      <td>38</td>\n",
       "      <td>0</td>\n",
       "    </tr>\n",
       "  </tbody>\n",
       "</table>\n",
       "</div>"
      ],
      "text/plain": [
       "   age  workclass  fnlwgt  education  education.num  marital.status  \\\n",
       "1   82          2  132870         11              9               6   \n",
       "3   54          2  140359          5              4               0   \n",
       "4   41          2  264663         15             10               5   \n",
       "\n",
       "   occupation  relationship  race  sex  capital.gain  capital.loss  \\\n",
       "1           3             1     4    0             0          4356   \n",
       "3           6             4     4    0             0          3900   \n",
       "4           9             3     4    0             0          3900   \n",
       "\n",
       "   hours.per.week  native.country  income  \n",
       "1              18              38       0  \n",
       "3              40              38       0  \n",
       "4              40              38       0  "
      ]
     },
     "execution_count": 104,
     "metadata": {},
     "output_type": "execute_result"
    }
   ],
   "source": [
    "df.head(3)"
   ]
  },
  {
   "cell_type": "code",
   "execution_count": 105,
   "metadata": {},
   "outputs": [
    {
     "data": {
      "text/plain": [
       "0    12463\n",
       "1     7726\n",
       "3     4466\n",
       "4     3212\n",
       "5     1406\n",
       "2      889\n",
       "Name: relationship, dtype: int64"
      ]
     },
     "execution_count": 105,
     "metadata": {},
     "output_type": "execute_result"
    }
   ],
   "source": [
    "df.relationship.value_counts()"
   ]
  },
  {
   "cell_type": "code",
   "execution_count": 106,
   "metadata": {},
   "outputs": [
    {
     "data": {
      "text/plain": [
       "0    22654\n",
       "1     7508\n",
       "Name: income, dtype: int64"
      ]
     },
     "execution_count": 106,
     "metadata": {},
     "output_type": "execute_result"
    }
   ],
   "source": [
    "df.income.value_counts()"
   ]
  },
  {
   "cell_type": "code",
   "execution_count": 107,
   "metadata": {},
   "outputs": [
    {
     "data": {
      "text/plain": [
       "<matplotlib.axes._subplots.AxesSubplot at 0x25907394f88>"
      ]
     },
     "execution_count": 107,
     "metadata": {},
     "output_type": "execute_result"
    },
    {
     "data": {
      "image/png": "[encoded data removed]",
      "text/plain": [
       "<Figure size 432x288 with 1 Axes>"
      ]
     },
     "metadata": {
      "needs_background": "light"
     },
     "output_type": "display_data"
    }
   ],
   "source": [
    "df.income.value_counts().plot(kind = \"bar\",color = [\"cyan\",\"black\"])"
   ]
  },
  {
   "cell_type": "code",
   "execution_count": 108,
   "metadata": {},
   "outputs": [
    {
     "data": {
      "text/plain": [
       "<matplotlib.axes._subplots.AxesSubplot at 0x259077d3648>"
      ]
     },
     "execution_count": 108,
     "metadata": {},
     "output_type": "execute_result"
    },
    {
     "data": {
      "image/png": "[encoded data removed]",
      "text/plain": [
       "<Figure size 432x288 with 1 Axes>"
      ]
     },
     "metadata": {
      "needs_background": "light"
     },
     "output_type": "display_data"
    }
   ],
   "source": [
    "df.sex.value_counts().plot(kind = \"bar\",color = [\"red\",\"orange\"])"
   ]
  },
  {
   "cell_type": "code",
   "execution_count": 109,
   "metadata": {},
   "outputs": [
    {
     "data": {
      "text/html": [
       "<div>\n",
       "<style scoped>\n",
       "    .dataframe tbody tr th:only-of-type {\n",
       "        vertical-align: middle;\n",
       "    }\n",
       "\n",
       "    .dataframe tbody tr th {\n",
       "        vertical-align: top;\n",
       "    }\n",
       "\n",
       "    .dataframe thead th {\n",
       "        text-align: right;\n",
       "    }\n",
       "</style>\n",
       "<table border=\"1\" class=\"dataframe\">\n",
       "  <thead>\n",
       "    <tr style=\"text-align: right;\">\n",
       "      <th>income</th>\n",
       "      <th>0</th>\n",
       "      <th>1</th>\n",
       "    </tr>\n",
       "    <tr>\n",
       "      <th>sex</th>\n",
       "      <th></th>\n",
       "      <th></th>\n",
       "    </tr>\n",
       "  </thead>\n",
       "  <tbody>\n",
       "    <tr>\n",
       "      <th>0</th>\n",
       "      <td>8670</td>\n",
       "      <td>1112</td>\n",
       "    </tr>\n",
       "    <tr>\n",
       "      <th>1</th>\n",
       "      <td>13984</td>\n",
       "      <td>6396</td>\n",
       "    </tr>\n",
       "  </tbody>\n",
       "</table>\n",
       "</div>"
      ],
      "text/plain": [
       "income      0     1\n",
       "sex                \n",
       "0        8670  1112\n",
       "1       13984  6396"
      ]
     },
     "execution_count": 109,
     "metadata": {},
     "output_type": "execute_result"
    }
   ],
   "source": [
    "pd.crosstab(df.sex,df.income)"
   ]
  },
  {
   "cell_type": "code",
   "execution_count": 110,
   "metadata": {},
   "outputs": [
    {
     "data": {
      "text/plain": [
       "Text(0.5, 0, '0 = Female, 1 = Male')"
      ]
     },
     "execution_count": 110,
     "metadata": {},
     "output_type": "execute_result"
    },
    {
     "data": {
      "image/png": "[encoded data removed]",
      "text/plain": [
       "<Figure size 360x360 with 1 Axes>"
      ]
     },
     "metadata": {
      "needs_background": "light"
     },
     "output_type": "display_data"
    }
   ],
   "source": [
    "pd.crosstab(df.sex,df.income).plot(kind = \"bar\",figsize = (5,5),color = [\"cyan\",\"black\"])\n",
    "plt.xlabel(\"0 = Female, 1 = Male\")"
   ]
  },
  {
   "cell_type": "code",
   "execution_count": 111,
   "metadata": {},
   "outputs": [
    {
     "data": {
      "text/plain": [
       "<matplotlib.axes._subplots.AxesSubplot at 0x259071d5908>"
      ]
     },
     "execution_count": 111,
     "metadata": {},
     "output_type": "execute_result"
    },
    {
     "data": {
      "image/png": "[encoded data removed]",
      "text/plain": [
       "<Figure size 432x288 with 1 Axes>"
      ]
     },
     "metadata": {},
     "output_type": "display_data"
    }
   ],
   "source": [
    "#check the age distribution\n",
    "plt.style.use(\"ggplot\")\n",
    "df.age.plot.hist(color = \"red\",edgecolor = \"black\")"
   ]
  },
  {
   "cell_type": "code",
   "execution_count": 112,
   "metadata": {},
   "outputs": [
    {
     "data": {
      "text/plain": [
       "0    12463\n",
       "1     7726\n",
       "3     4466\n",
       "4     3212\n",
       "5     1406\n",
       "2      889\n",
       "Name: relationship, dtype: int64"
      ]
     },
     "execution_count": 112,
     "metadata": {},
     "output_type": "execute_result"
    }
   ],
   "source": [
    "df.relationship.value_counts()"
   ]
  },
  {
   "cell_type": "code",
   "execution_count": 113,
   "metadata": {},
   "outputs": [
    {
     "data": {
      "text/plain": [
       "<matplotlib.axes._subplots.AxesSubplot at 0x259073b3148>"
      ]
     },
     "execution_count": 113,
     "metadata": {},
     "output_type": "execute_result"
    },
    {
     "data": {
      "image/png": "[encoded data removed]",
      "text/plain": [
       "<Figure size 1080x504 with 2 Axes>"
      ]
     },
     "metadata": {},
     "output_type": "display_data"
    }
   ],
   "source": [
    "plt.figure(figsize = (15,7))\n",
    "sns.heatmap(df.corr(),\n",
    "            annot = True,\n",
    "            fmt = \".2f\")"
   ]
  },
  {
   "cell_type": "markdown",
   "metadata": {},
   "source": [
    "## Model Building and Evaluation"
   ]
  },
  {
   "cell_type": "code",
   "execution_count": 114,
   "metadata": {},
   "outputs": [],
   "source": [
    "from sklearn.model_selection import train_test_split"
   ]
  },
  {
   "cell_type": "code",
   "execution_count": 115,
   "metadata": {},
   "outputs": [],
   "source": [
    "X = df.drop([\"income\"],axis = 1)\n",
    "y = df[\"income\"]"
   ]
  },
  {
   "cell_type": "code",
   "execution_count": 116,
   "metadata": {},
   "outputs": [],
   "source": [
    "X_train,X_test,y_train,y_test = train_test_split(X,y,test_size = 0.30,random_state = 12)"
   ]
  },
  {
   "cell_type": "code",
   "execution_count": 117,
   "metadata": {},
   "outputs": [
    {
     "data": {
      "text/plain": [
       "DecisionTreeClassifier(ccp_alpha=0.0, class_weight=None, criterion='gini',\n",
       "                       max_depth=5, max_features=None, max_leaf_nodes=None,\n",
       "                       min_impurity_decrease=0.0, min_impurity_split=None,\n",
       "                       min_samples_leaf=1, min_samples_split=2,\n",
       "                       min_weight_fraction_leaf=0.0, presort='deprecated',\n",
       "                       random_state=None, splitter='best')"
      ]
     },
     "execution_count": 117,
     "metadata": {},
     "output_type": "execute_result"
    }
   ],
   "source": [
    "from sklearn.tree import DecisionTreeClassifier\n",
    "\n",
    "default_dt = DecisionTreeClassifier(max_depth = 5)\n",
    "default_dt.fit(X_train,y_train)"
   ]
  },
  {
   "cell_type": "code",
   "execution_count": 118,
   "metadata": {},
   "outputs": [
    {
     "data": {
      "text/plain": [
       "0.8493756216156482"
      ]
     },
     "execution_count": 118,
     "metadata": {},
     "output_type": "execute_result"
    }
   ],
   "source": [
    "default_dt.score(X_test,y_test)"
   ]
  },
  {
   "cell_type": "code",
   "execution_count": 119,
   "metadata": {},
   "outputs": [],
   "source": [
    "from sklearn.metrics import classification_report,confusion_matrix"
   ]
  },
  {
   "cell_type": "code",
   "execution_count": 120,
   "metadata": {},
   "outputs": [],
   "source": [
    "y_pred_dt = default_dt.predict(X_test)"
   ]
  },
  {
   "cell_type": "code",
   "execution_count": 121,
   "metadata": {},
   "outputs": [
    {
     "name": "stdout",
     "output_type": "stream",
     "text": [
      "              precision    recall  f1-score   support\n",
      "\n",
      "           0       0.86      0.95      0.91      6858\n",
      "           1       0.78      0.52      0.63      2191\n",
      "\n",
      "    accuracy                           0.85      9049\n",
      "   macro avg       0.82      0.74      0.77      9049\n",
      "weighted avg       0.84      0.85      0.84      9049\n",
      "\n"
     ]
    }
   ],
   "source": [
    "print(classification_report(y_test,y_pred_dt))"
   ]
  },
  {
   "cell_type": "code",
   "execution_count": 122,
   "metadata": {},
   "outputs": [
    {
     "data": {
      "text/plain": [
       "array([[6540,  318],\n",
       "       [1045, 1146]], dtype=int64)"
      ]
     },
     "execution_count": 122,
     "metadata": {},
     "output_type": "execute_result"
    }
   ],
   "source": [
    "confusion_matrix(y_test,y_pred_dt)"
   ]
  },
  {
   "cell_type": "code",
   "execution_count": 123,
   "metadata": {},
   "outputs": [
    {
     "data": {
      "text/plain": [
       "<matplotlib.axes._subplots.AxesSubplot at 0x25907482208>"
      ]
     },
     "execution_count": 123,
     "metadata": {},
     "output_type": "execute_result"
    },
    {
     "data": {
      "image/png": "[encoded data removed]",
      "text/plain": [
       "<Figure size 288x288 with 1 Axes>"
      ]
     },
     "metadata": {},
     "output_type": "display_data"
    }
   ],
   "source": [
    "plt.figure(figsize = (4,4))\n",
    "sns.heatmap(confusion_matrix(y_test,y_pred_dt),\n",
    "            annot = True,\n",
    "            cbar = False)"
   ]
  },
  {
   "cell_type": "markdown",
   "metadata": {},
   "source": [
    "## Tuning hyperparameter"
   ]
  },
  {
   "cell_type": "code",
   "execution_count": 124,
   "metadata": {},
   "outputs": [],
   "source": [
    "from sklearn.model_selection import cross_val_score,GridSearchCV"
   ]
  },
  {
   "cell_type": "code",
   "execution_count": 125,
   "metadata": {},
   "outputs": [],
   "source": [
    "param_grid = {\"max_depth\":range(5,15,5),\n",
    "              \"min_samples_leaf\":range(50,150,50),\n",
    "              \"min_samples_split\":range(50,150,50),\n",
    "              \"criterion\":[\"entropy\",\"gini\"]}"
   ]
  },
  {
   "cell_type": "code",
   "execution_count": 126,
   "metadata": {},
   "outputs": [],
   "source": [
    "dtree = DecisionTreeClassifier()\n",
    "\n",
    "grid_search = GridSearchCV(estimator = dtree,\n",
    "                           param_grid = param_grid,\n",
    "                           cv = 5,\n",
    "                           verbose = 2\n",
    "                           )"
   ]
  },
  {
   "cell_type": "code",
   "execution_count": 127,
   "metadata": {},
   "outputs": [
    {
     "name": "stdout",
     "output_type": "stream",
     "text": [
      "Fitting 5 folds for each of 16 candidates, totalling 80 fits\n",
      "[CV] criterion=entropy, max_depth=5, min_samples_leaf=50, min_samples_split=50 \n",
      "[CV]  criterion=entropy, max_depth=5, min_samples_leaf=50, min_samples_split=50, total=   0.1s\n",
      "[CV] criterion=entropy, max_depth=5, min_samples_leaf=50, min_samples_split=50 \n",
      "[CV]  criterion=entropy, max_depth=5, min_samples_leaf=50, min_samples_split=50, total=   0.0s\n",
      "[CV] criterion=entropy, max_depth=5, min_samples_leaf=50, min_samples_split=50 \n",
      "[CV]  criterion=entropy, max_depth=5, min_samples_leaf=50, min_samples_split=50, total=   0.0s\n",
      "[CV] criterion=entropy, max_depth=5, min_samples_leaf=50, min_samples_split=50 \n"
     ]
    },
    {
     "name": "stderr",
     "output_type": "stream",
     "text": [
      "[Parallel(n_jobs=1)]: Using backend SequentialBackend with 1 concurrent workers.\n",
      "[Parallel(n_jobs=1)]: Done   1 out of   1 | elapsed:    0.0s remaining:    0.0s\n"
     ]
    },
    {
     "name": "stdout",
     "output_type": "stream",
     "text": [
      "[CV]  criterion=entropy, max_depth=5, min_samples_leaf=50, min_samples_split=50, total=   0.1s\n",
      "[CV] criterion=entropy, max_depth=5, min_samples_leaf=50, min_samples_split=50 \n",
      "[CV]  criterion=entropy, max_depth=5, min_samples_leaf=50, min_samples_split=50, total=   0.1s\n",
      "[CV] criterion=entropy, max_depth=5, min_samples_leaf=50, min_samples_split=100 \n",
      "[CV]  criterion=entropy, max_depth=5, min_samples_leaf=50, min_samples_split=100, total=   0.0s\n",
      "[CV] criterion=entropy, max_depth=5, min_samples_leaf=50, min_samples_split=100 \n",
      "[CV]  criterion=entropy, max_depth=5, min_samples_leaf=50, min_samples_split=100, total=   0.1s\n",
      "[CV] criterion=entropy, max_depth=5, min_samples_leaf=50, min_samples_split=100 \n",
      "[CV]  criterion=entropy, max_depth=5, min_samples_leaf=50, min_samples_split=100, total=   0.1s\n",
      "[CV] criterion=entropy, max_depth=5, min_samples_leaf=50, min_samples_split=100 \n",
      "[CV]  criterion=entropy, max_depth=5, min_samples_leaf=50, min_samples_split=100, total=   0.1s\n",
      "[CV] criterion=entropy, max_depth=5, min_samples_leaf=50, min_samples_split=100 \n",
      "[CV]  criterion=entropy, max_depth=5, min_samples_leaf=50, min_samples_split=100, total=   0.1s\n",
      "[CV] criterion=entropy, max_depth=5, min_samples_leaf=100, min_samples_split=50 \n",
      "[CV]  criterion=entropy, max_depth=5, min_samples_leaf=100, min_samples_split=50, total=   0.0s\n",
      "[CV] criterion=entropy, max_depth=5, min_samples_leaf=100, min_samples_split=50 \n",
      "[CV]  criterion=entropy, max_depth=5, min_samples_leaf=100, min_samples_split=50, total=   0.1s\n",
      "[CV] criterion=entropy, max_depth=5, min_samples_leaf=100, min_samples_split=50 \n",
      "[CV]  criterion=entropy, max_depth=5, min_samples_leaf=100, min_samples_split=50, total=   0.1s\n",
      "[CV] criterion=entropy, max_depth=5, min_samples_leaf=100, min_samples_split=50 \n",
      "[CV]  criterion=entropy, max_depth=5, min_samples_leaf=100, min_samples_split=50, total=   0.0s\n",
      "[CV] criterion=entropy, max_depth=5, min_samples_leaf=100, min_samples_split=50 \n",
      "[CV]  criterion=entropy, max_depth=5, min_samples_leaf=100, min_samples_split=50, total=   0.1s\n",
      "[CV] criterion=entropy, max_depth=5, min_samples_leaf=100, min_samples_split=100 \n",
      "[CV]  criterion=entropy, max_depth=5, min_samples_leaf=100, min_samples_split=100, total=   0.1s\n",
      "[CV] criterion=entropy, max_depth=5, min_samples_leaf=100, min_samples_split=100 \n",
      "[CV]  criterion=entropy, max_depth=5, min_samples_leaf=100, min_samples_split=100, total=   0.1s\n",
      "[CV] criterion=entropy, max_depth=5, min_samples_leaf=100, min_samples_split=100 \n",
      "[CV]  criterion=entropy, max_depth=5, min_samples_leaf=100, min_samples_split=100, total=   0.1s\n",
      "[CV] criterion=entropy, max_depth=5, min_samples_leaf=100, min_samples_split=100 \n",
      "[CV]  criterion=entropy, max_depth=5, min_samples_leaf=100, min_samples_split=100, total=   0.0s\n",
      "[CV] criterion=entropy, max_depth=5, min_samples_leaf=100, min_samples_split=100 \n",
      "[CV]  criterion=entropy, max_depth=5, min_samples_leaf=100, min_samples_split=100, total=   0.0s\n",
      "[CV] criterion=entropy, max_depth=10, min_samples_leaf=50, min_samples_split=50 \n",
      "[CV]  criterion=entropy, max_depth=10, min_samples_leaf=50, min_samples_split=50, total=   0.1s\n",
      "[CV] criterion=entropy, max_depth=10, min_samples_leaf=50, min_samples_split=50 \n",
      "[CV]  criterion=entropy, max_depth=10, min_samples_leaf=50, min_samples_split=50, total=   0.1s\n",
      "[CV] criterion=entropy, max_depth=10, min_samples_leaf=50, min_samples_split=50 \n",
      "[CV]  criterion=entropy, max_depth=10, min_samples_leaf=50, min_samples_split=50, total=   0.1s\n",
      "[CV] criterion=entropy, max_depth=10, min_samples_leaf=50, min_samples_split=50 \n",
      "[CV]  criterion=entropy, max_depth=10, min_samples_leaf=50, min_samples_split=50, total=   0.1s\n",
      "[CV] criterion=entropy, max_depth=10, min_samples_leaf=50, min_samples_split=50 \n",
      "[CV]  criterion=entropy, max_depth=10, min_samples_leaf=50, min_samples_split=50, total=   0.1s\n",
      "[CV] criterion=entropy, max_depth=10, min_samples_leaf=50, min_samples_split=100 \n",
      "[CV]  criterion=entropy, max_depth=10, min_samples_leaf=50, min_samples_split=100, total=   0.1s\n",
      "[CV] criterion=entropy, max_depth=10, min_samples_leaf=50, min_samples_split=100 \n",
      "[CV]  criterion=entropy, max_depth=10, min_samples_leaf=50, min_samples_split=100, total=   0.1s\n",
      "[CV] criterion=entropy, max_depth=10, min_samples_leaf=50, min_samples_split=100 \n",
      "[CV]  criterion=entropy, max_depth=10, min_samples_leaf=50, min_samples_split=100, total=   0.1s\n",
      "[CV] criterion=entropy, max_depth=10, min_samples_leaf=50, min_samples_split=100 \n",
      "[CV]  criterion=entropy, max_depth=10, min_samples_leaf=50, min_samples_split=100, total=   0.1s\n",
      "[CV] criterion=entropy, max_depth=10, min_samples_leaf=50, min_samples_split=100 \n",
      "[CV]  criterion=entropy, max_depth=10, min_samples_leaf=50, min_samples_split=100, total=   0.1s\n",
      "[CV] criterion=entropy, max_depth=10, min_samples_leaf=100, min_samples_split=50 \n",
      "[CV]  criterion=entropy, max_depth=10, min_samples_leaf=100, min_samples_split=50, total=   0.1s\n",
      "[CV] criterion=entropy, max_depth=10, min_samples_leaf=100, min_samples_split=50 \n",
      "[CV]  criterion=entropy, max_depth=10, min_samples_leaf=100, min_samples_split=50, total=   0.1s\n",
      "[CV] criterion=entropy, max_depth=10, min_samples_leaf=100, min_samples_split=50 \n",
      "[CV]  criterion=entropy, max_depth=10, min_samples_leaf=100, min_samples_split=50, total=   0.1s\n",
      "[CV] criterion=entropy, max_depth=10, min_samples_leaf=100, min_samples_split=50 \n",
      "[CV]  criterion=entropy, max_depth=10, min_samples_leaf=100, min_samples_split=50, total=   0.1s\n",
      "[CV] criterion=entropy, max_depth=10, min_samples_leaf=100, min_samples_split=50 \n",
      "[CV]  criterion=entropy, max_depth=10, min_samples_leaf=100, min_samples_split=50, total=   0.1s\n",
      "[CV] criterion=entropy, max_depth=10, min_samples_leaf=100, min_samples_split=100 \n",
      "[CV]  criterion=entropy, max_depth=10, min_samples_leaf=100, min_samples_split=100, total=   0.1s\n",
      "[CV] criterion=entropy, max_depth=10, min_samples_leaf=100, min_samples_split=100 \n",
      "[CV]  criterion=entropy, max_depth=10, min_samples_leaf=100, min_samples_split=100, total=   0.1s\n",
      "[CV] criterion=entropy, max_depth=10, min_samples_leaf=100, min_samples_split=100 \n",
      "[CV]  criterion=entropy, max_depth=10, min_samples_leaf=100, min_samples_split=100, total=   0.1s\n",
      "[CV] criterion=entropy, max_depth=10, min_samples_leaf=100, min_samples_split=100 \n",
      "[CV]  criterion=entropy, max_depth=10, min_samples_leaf=100, min_samples_split=100, total=   0.1s\n",
      "[CV] criterion=entropy, max_depth=10, min_samples_leaf=100, min_samples_split=100 \n",
      "[CV]  criterion=entropy, max_depth=10, min_samples_leaf=100, min_samples_split=100, total=   0.1s\n",
      "[CV] criterion=gini, max_depth=5, min_samples_leaf=50, min_samples_split=50 \n",
      "[CV]  criterion=gini, max_depth=5, min_samples_leaf=50, min_samples_split=50, total=   0.0s\n",
      "[CV] criterion=gini, max_depth=5, min_samples_leaf=50, min_samples_split=50 \n",
      "[CV]  criterion=gini, max_depth=5, min_samples_leaf=50, min_samples_split=50, total=   0.0s\n",
      "[CV] criterion=gini, max_depth=5, min_samples_leaf=50, min_samples_split=50 \n",
      "[CV]  criterion=gini, max_depth=5, min_samples_leaf=50, min_samples_split=50, total=   0.0s\n",
      "[CV] criterion=gini, max_depth=5, min_samples_leaf=50, min_samples_split=50 \n",
      "[CV]  criterion=gini, max_depth=5, min_samples_leaf=50, min_samples_split=50, total=   0.0s\n",
      "[CV] criterion=gini, max_depth=5, min_samples_leaf=50, min_samples_split=50 \n",
      "[CV]  criterion=gini, max_depth=5, min_samples_leaf=50, min_samples_split=50, total=   0.0s\n",
      "[CV] criterion=gini, max_depth=5, min_samples_leaf=50, min_samples_split=100 \n",
      "[CV]  criterion=gini, max_depth=5, min_samples_leaf=50, min_samples_split=100, total=   0.0s\n",
      "[CV] criterion=gini, max_depth=5, min_samples_leaf=50, min_samples_split=100 \n",
      "[CV]  criterion=gini, max_depth=5, min_samples_leaf=50, min_samples_split=100, total=   0.0s\n",
      "[CV] criterion=gini, max_depth=5, min_samples_leaf=50, min_samples_split=100 \n",
      "[CV]  criterion=gini, max_depth=5, min_samples_leaf=50, min_samples_split=100, total=   0.0s\n",
      "[CV] criterion=gini, max_depth=5, min_samples_leaf=50, min_samples_split=100 \n",
      "[CV]  criterion=gini, max_depth=5, min_samples_leaf=50, min_samples_split=100, total=   0.0s\n",
      "[CV] criterion=gini, max_depth=5, min_samples_leaf=50, min_samples_split=100 \n",
      "[CV]  criterion=gini, max_depth=5, min_samples_leaf=50, min_samples_split=100, total=   0.0s\n",
      "[CV] criterion=gini, max_depth=5, min_samples_leaf=100, min_samples_split=50 \n"
     ]
    },
    {
     "name": "stdout",
     "output_type": "stream",
     "text": [
      "[CV]  criterion=gini, max_depth=5, min_samples_leaf=100, min_samples_split=50, total=   0.0s\n",
      "[CV] criterion=gini, max_depth=5, min_samples_leaf=100, min_samples_split=50 \n",
      "[CV]  criterion=gini, max_depth=5, min_samples_leaf=100, min_samples_split=50, total=   0.1s\n",
      "[CV] criterion=gini, max_depth=5, min_samples_leaf=100, min_samples_split=50 \n",
      "[CV]  criterion=gini, max_depth=5, min_samples_leaf=100, min_samples_split=50, total=   0.0s\n",
      "[CV] criterion=gini, max_depth=5, min_samples_leaf=100, min_samples_split=50 \n",
      "[CV]  criterion=gini, max_depth=5, min_samples_leaf=100, min_samples_split=50, total=   0.0s\n",
      "[CV] criterion=gini, max_depth=5, min_samples_leaf=100, min_samples_split=50 \n",
      "[CV]  criterion=gini, max_depth=5, min_samples_leaf=100, min_samples_split=50, total=   0.0s\n",
      "[CV] criterion=gini, max_depth=5, min_samples_leaf=100, min_samples_split=100 \n",
      "[CV]  criterion=gini, max_depth=5, min_samples_leaf=100, min_samples_split=100, total=   0.1s\n",
      "[CV] criterion=gini, max_depth=5, min_samples_leaf=100, min_samples_split=100 \n",
      "[CV]  criterion=gini, max_depth=5, min_samples_leaf=100, min_samples_split=100, total=   0.0s\n",
      "[CV] criterion=gini, max_depth=5, min_samples_leaf=100, min_samples_split=100 \n",
      "[CV]  criterion=gini, max_depth=5, min_samples_leaf=100, min_samples_split=100, total=   0.0s\n",
      "[CV] criterion=gini, max_depth=5, min_samples_leaf=100, min_samples_split=100 \n",
      "[CV]  criterion=gini, max_depth=5, min_samples_leaf=100, min_samples_split=100, total=   0.0s\n",
      "[CV] criterion=gini, max_depth=5, min_samples_leaf=100, min_samples_split=100 \n",
      "[CV]  criterion=gini, max_depth=5, min_samples_leaf=100, min_samples_split=100, total=   0.0s\n",
      "[CV] criterion=gini, max_depth=10, min_samples_leaf=50, min_samples_split=50 \n",
      "[CV]  criterion=gini, max_depth=10, min_samples_leaf=50, min_samples_split=50, total=   0.1s\n",
      "[CV] criterion=gini, max_depth=10, min_samples_leaf=50, min_samples_split=50 \n",
      "[CV]  criterion=gini, max_depth=10, min_samples_leaf=50, min_samples_split=50, total=   0.1s\n",
      "[CV] criterion=gini, max_depth=10, min_samples_leaf=50, min_samples_split=50 \n",
      "[CV]  criterion=gini, max_depth=10, min_samples_leaf=50, min_samples_split=50, total=   0.1s\n",
      "[CV] criterion=gini, max_depth=10, min_samples_leaf=50, min_samples_split=50 \n",
      "[CV]  criterion=gini, max_depth=10, min_samples_leaf=50, min_samples_split=50, total=   0.1s\n",
      "[CV] criterion=gini, max_depth=10, min_samples_leaf=50, min_samples_split=50 \n",
      "[CV]  criterion=gini, max_depth=10, min_samples_leaf=50, min_samples_split=50, total=   0.1s\n",
      "[CV] criterion=gini, max_depth=10, min_samples_leaf=50, min_samples_split=100 \n",
      "[CV]  criterion=gini, max_depth=10, min_samples_leaf=50, min_samples_split=100, total=   0.1s\n",
      "[CV] criterion=gini, max_depth=10, min_samples_leaf=50, min_samples_split=100 \n",
      "[CV]  criterion=gini, max_depth=10, min_samples_leaf=50, min_samples_split=100, total=   0.1s\n",
      "[CV] criterion=gini, max_depth=10, min_samples_leaf=50, min_samples_split=100 \n",
      "[CV]  criterion=gini, max_depth=10, min_samples_leaf=50, min_samples_split=100, total=   0.1s\n",
      "[CV] criterion=gini, max_depth=10, min_samples_leaf=50, min_samples_split=100 \n",
      "[CV]  criterion=gini, max_depth=10, min_samples_leaf=50, min_samples_split=100, total=   0.1s\n",
      "[CV] criterion=gini, max_depth=10, min_samples_leaf=50, min_samples_split=100 \n",
      "[CV]  criterion=gini, max_depth=10, min_samples_leaf=50, min_samples_split=100, total=   0.1s\n",
      "[CV] criterion=gini, max_depth=10, min_samples_leaf=100, min_samples_split=50 \n",
      "[CV]  criterion=gini, max_depth=10, min_samples_leaf=100, min_samples_split=50, total=   0.1s\n",
      "[CV] criterion=gini, max_depth=10, min_samples_leaf=100, min_samples_split=50 \n",
      "[CV]  criterion=gini, max_depth=10, min_samples_leaf=100, min_samples_split=50, total=   0.1s\n",
      "[CV] criterion=gini, max_depth=10, min_samples_leaf=100, min_samples_split=50 \n",
      "[CV]  criterion=gini, max_depth=10, min_samples_leaf=100, min_samples_split=50, total=   0.1s\n",
      "[CV] criterion=gini, max_depth=10, min_samples_leaf=100, min_samples_split=50 \n",
      "[CV]  criterion=gini, max_depth=10, min_samples_leaf=100, min_samples_split=50, total=   0.1s\n",
      "[CV] criterion=gini, max_depth=10, min_samples_leaf=100, min_samples_split=50 \n",
      "[CV]  criterion=gini, max_depth=10, min_samples_leaf=100, min_samples_split=50, total=   0.1s\n",
      "[CV] criterion=gini, max_depth=10, min_samples_leaf=100, min_samples_split=100 \n",
      "[CV]  criterion=gini, max_depth=10, min_samples_leaf=100, min_samples_split=100, total=   0.1s\n",
      "[CV] criterion=gini, max_depth=10, min_samples_leaf=100, min_samples_split=100 \n",
      "[CV]  criterion=gini, max_depth=10, min_samples_leaf=100, min_samples_split=100, total=   0.1s\n",
      "[CV] criterion=gini, max_depth=10, min_samples_leaf=100, min_samples_split=100 \n",
      "[CV]  criterion=gini, max_depth=10, min_samples_leaf=100, min_samples_split=100, total=   0.1s\n",
      "[CV] criterion=gini, max_depth=10, min_samples_leaf=100, min_samples_split=100 \n",
      "[CV]  criterion=gini, max_depth=10, min_samples_leaf=100, min_samples_split=100, total=   0.1s\n",
      "[CV] criterion=gini, max_depth=10, min_samples_leaf=100, min_samples_split=100 \n",
      "[CV]  criterion=gini, max_depth=10, min_samples_leaf=100, min_samples_split=100, total=   0.1s\n"
     ]
    },
    {
     "name": "stderr",
     "output_type": "stream",
     "text": [
      "[Parallel(n_jobs=1)]: Done  80 out of  80 | elapsed:    5.2s finished\n"
     ]
    },
    {
     "data": {
      "text/plain": [
       "GridSearchCV(cv=5, error_score=nan,\n",
       "             estimator=DecisionTreeClassifier(ccp_alpha=0.0, class_weight=None,\n",
       "                                              criterion='gini', max_depth=None,\n",
       "                                              max_features=None,\n",
       "                                              max_leaf_nodes=None,\n",
       "                                              min_impurity_decrease=0.0,\n",
       "                                              min_impurity_split=None,\n",
       "                                              min_samples_leaf=1,\n",
       "                                              min_samples_split=2,\n",
       "                                              min_weight_fraction_leaf=0.0,\n",
       "                                              presort='deprecated',\n",
       "                                              random_state=None,\n",
       "                                              splitter='best'),\n",
       "             iid='deprecated', n_jobs=None,\n",
       "             param_grid={'criterion': ['entropy', 'gini'],\n",
       "                         'max_depth': range(5, 15, 5),\n",
       "                         'min_samples_leaf': range(50, 150, 50),\n",
       "                         'min_samples_split': range(50, 150, 50)},\n",
       "             pre_dispatch='2*n_jobs', refit=True, return_train_score=False,\n",
       "             scoring=None, verbose=2)"
      ]
     },
     "execution_count": 127,
     "metadata": {},
     "output_type": "execute_result"
    }
   ],
   "source": [
    "grid_search.fit(X_train,y_train)"
   ]
  },
  {
   "cell_type": "code",
   "execution_count": 128,
   "metadata": {},
   "outputs": [
    {
     "data": {
      "text/html": [
       "<div>\n",
       "<style scoped>\n",
       "    .dataframe tbody tr th:only-of-type {\n",
       "        vertical-align: middle;\n",
       "    }\n",
       "\n",
       "    .dataframe tbody tr th {\n",
       "        vertical-align: top;\n",
       "    }\n",
       "\n",
       "    .dataframe thead th {\n",
       "        text-align: right;\n",
       "    }\n",
       "</style>\n",
       "<table border=\"1\" class=\"dataframe\">\n",
       "  <thead>\n",
       "    <tr style=\"text-align: right;\">\n",
       "      <th></th>\n",
       "      <th>mean_fit_time</th>\n",
       "      <th>std_fit_time</th>\n",
       "      <th>mean_score_time</th>\n",
       "      <th>std_score_time</th>\n",
       "      <th>param_criterion</th>\n",
       "      <th>param_max_depth</th>\n",
       "      <th>param_min_samples_leaf</th>\n",
       "      <th>param_min_samples_split</th>\n",
       "      <th>params</th>\n",
       "      <th>split0_test_score</th>\n",
       "      <th>split1_test_score</th>\n",
       "      <th>split2_test_score</th>\n",
       "      <th>split3_test_score</th>\n",
       "      <th>split4_test_score</th>\n",
       "      <th>mean_test_score</th>\n",
       "      <th>std_test_score</th>\n",
       "      <th>rank_test_score</th>\n",
       "    </tr>\n",
       "  </thead>\n",
       "  <tbody>\n",
       "    <tr>\n",
       "      <th>0</th>\n",
       "      <td>0.047573</td>\n",
       "      <td>0.001950</td>\n",
       "      <td>0.002604</td>\n",
       "      <td>0.000795</td>\n",
       "      <td>entropy</td>\n",
       "      <td>5</td>\n",
       "      <td>50</td>\n",
       "      <td>50</td>\n",
       "      <td>{'criterion': 'entropy', 'max_depth': 5, 'min_...</td>\n",
       "      <td>0.845844</td>\n",
       "      <td>0.839687</td>\n",
       "      <td>0.847502</td>\n",
       "      <td>0.842018</td>\n",
       "      <td>0.845334</td>\n",
       "      <td>0.844077</td>\n",
       "      <td>0.002826</td>\n",
       "      <td>13</td>\n",
       "    </tr>\n",
       "    <tr>\n",
       "      <th>1</th>\n",
       "      <td>0.050177</td>\n",
       "      <td>0.002931</td>\n",
       "      <td>0.002397</td>\n",
       "      <td>0.000486</td>\n",
       "      <td>entropy</td>\n",
       "      <td>5</td>\n",
       "      <td>50</td>\n",
       "      <td>100</td>\n",
       "      <td>{'criterion': 'entropy', 'max_depth': 5, 'min_...</td>\n",
       "      <td>0.845844</td>\n",
       "      <td>0.839687</td>\n",
       "      <td>0.847502</td>\n",
       "      <td>0.842018</td>\n",
       "      <td>0.845334</td>\n",
       "      <td>0.844077</td>\n",
       "      <td>0.002826</td>\n",
       "      <td>13</td>\n",
       "    </tr>\n",
       "    <tr>\n",
       "      <th>2</th>\n",
       "      <td>0.049979</td>\n",
       "      <td>0.002900</td>\n",
       "      <td>0.003188</td>\n",
       "      <td>0.001475</td>\n",
       "      <td>entropy</td>\n",
       "      <td>5</td>\n",
       "      <td>100</td>\n",
       "      <td>50</td>\n",
       "      <td>{'criterion': 'entropy', 'max_depth': 5, 'min_...</td>\n",
       "      <td>0.845607</td>\n",
       "      <td>0.839687</td>\n",
       "      <td>0.846791</td>\n",
       "      <td>0.842255</td>\n",
       "      <td>0.845334</td>\n",
       "      <td>0.843935</td>\n",
       "      <td>0.002599</td>\n",
       "      <td>15</td>\n",
       "    </tr>\n",
       "    <tr>\n",
       "      <th>3</th>\n",
       "      <td>0.047584</td>\n",
       "      <td>0.004665</td>\n",
       "      <td>0.002798</td>\n",
       "      <td>0.000399</td>\n",
       "      <td>entropy</td>\n",
       "      <td>5</td>\n",
       "      <td>100</td>\n",
       "      <td>100</td>\n",
       "      <td>{'criterion': 'entropy', 'max_depth': 5, 'min_...</td>\n",
       "      <td>0.845607</td>\n",
       "      <td>0.839687</td>\n",
       "      <td>0.846791</td>\n",
       "      <td>0.842255</td>\n",
       "      <td>0.845334</td>\n",
       "      <td>0.843935</td>\n",
       "      <td>0.002599</td>\n",
       "      <td>15</td>\n",
       "    </tr>\n",
       "    <tr>\n",
       "      <th>4</th>\n",
       "      <td>0.075963</td>\n",
       "      <td>0.008505</td>\n",
       "      <td>0.013390</td>\n",
       "      <td>0.022773</td>\n",
       "      <td>entropy</td>\n",
       "      <td>10</td>\n",
       "      <td>50</td>\n",
       "      <td>50</td>\n",
       "      <td>{'criterion': 'entropy', 'max_depth': 10, 'min...</td>\n",
       "      <td>0.846318</td>\n",
       "      <td>0.845607</td>\n",
       "      <td>0.848686</td>\n",
       "      <td>0.844150</td>\n",
       "      <td>0.853387</td>\n",
       "      <td>0.847630</td>\n",
       "      <td>0.003231</td>\n",
       "      <td>9</td>\n",
       "    </tr>\n",
       "    <tr>\n",
       "      <th>5</th>\n",
       "      <td>0.072001</td>\n",
       "      <td>0.005020</td>\n",
       "      <td>0.002597</td>\n",
       "      <td>0.000487</td>\n",
       "      <td>entropy</td>\n",
       "      <td>10</td>\n",
       "      <td>50</td>\n",
       "      <td>100</td>\n",
       "      <td>{'criterion': 'entropy', 'max_depth': 10, 'min...</td>\n",
       "      <td>0.846318</td>\n",
       "      <td>0.845607</td>\n",
       "      <td>0.848686</td>\n",
       "      <td>0.844150</td>\n",
       "      <td>0.853387</td>\n",
       "      <td>0.847630</td>\n",
       "      <td>0.003231</td>\n",
       "      <td>9</td>\n",
       "    </tr>\n",
       "    <tr>\n",
       "      <th>6</th>\n",
       "      <td>0.085646</td>\n",
       "      <td>0.013079</td>\n",
       "      <td>0.003409</td>\n",
       "      <td>0.001019</td>\n",
       "      <td>entropy</td>\n",
       "      <td>10</td>\n",
       "      <td>100</td>\n",
       "      <td>50</td>\n",
       "      <td>{'criterion': 'entropy', 'max_depth': 10, 'min...</td>\n",
       "      <td>0.852238</td>\n",
       "      <td>0.846791</td>\n",
       "      <td>0.849633</td>\n",
       "      <td>0.840834</td>\n",
       "      <td>0.853150</td>\n",
       "      <td>0.848529</td>\n",
       "      <td>0.004440</td>\n",
       "      <td>5</td>\n",
       "    </tr>\n",
       "    <tr>\n",
       "      <th>7</th>\n",
       "      <td>0.079762</td>\n",
       "      <td>0.009983</td>\n",
       "      <td>0.003594</td>\n",
       "      <td>0.000797</td>\n",
       "      <td>entropy</td>\n",
       "      <td>10</td>\n",
       "      <td>100</td>\n",
       "      <td>100</td>\n",
       "      <td>{'criterion': 'entropy', 'max_depth': 10, 'min...</td>\n",
       "      <td>0.852238</td>\n",
       "      <td>0.846791</td>\n",
       "      <td>0.849633</td>\n",
       "      <td>0.840834</td>\n",
       "      <td>0.853150</td>\n",
       "      <td>0.848529</td>\n",
       "      <td>0.004440</td>\n",
       "      <td>5</td>\n",
       "    </tr>\n",
       "    <tr>\n",
       "      <th>8</th>\n",
       "      <td>0.042033</td>\n",
       "      <td>0.003303</td>\n",
       "      <td>0.002403</td>\n",
       "      <td>0.000797</td>\n",
       "      <td>gini</td>\n",
       "      <td>5</td>\n",
       "      <td>50</td>\n",
       "      <td>50</td>\n",
       "      <td>{'criterion': 'gini', 'max_depth': 5, 'min_sam...</td>\n",
       "      <td>0.851764</td>\n",
       "      <td>0.845607</td>\n",
       "      <td>0.846555</td>\n",
       "      <td>0.843913</td>\n",
       "      <td>0.852676</td>\n",
       "      <td>0.848103</td>\n",
       "      <td>0.003479</td>\n",
       "      <td>7</td>\n",
       "    </tr>\n",
       "    <tr>\n",
       "      <th>9</th>\n",
       "      <td>0.041590</td>\n",
       "      <td>0.003260</td>\n",
       "      <td>0.002398</td>\n",
       "      <td>0.000488</td>\n",
       "      <td>gini</td>\n",
       "      <td>5</td>\n",
       "      <td>50</td>\n",
       "      <td>100</td>\n",
       "      <td>{'criterion': 'gini', 'max_depth': 5, 'min_sam...</td>\n",
       "      <td>0.851764</td>\n",
       "      <td>0.845607</td>\n",
       "      <td>0.846555</td>\n",
       "      <td>0.843913</td>\n",
       "      <td>0.852676</td>\n",
       "      <td>0.848103</td>\n",
       "      <td>0.003479</td>\n",
       "      <td>7</td>\n",
       "    </tr>\n",
       "    <tr>\n",
       "      <th>10</th>\n",
       "      <td>0.042781</td>\n",
       "      <td>0.002481</td>\n",
       "      <td>0.002800</td>\n",
       "      <td>0.001165</td>\n",
       "      <td>gini</td>\n",
       "      <td>5</td>\n",
       "      <td>100</td>\n",
       "      <td>50</td>\n",
       "      <td>{'criterion': 'gini', 'max_depth': 5, 'min_sam...</td>\n",
       "      <td>0.851764</td>\n",
       "      <td>0.845371</td>\n",
       "      <td>0.843950</td>\n",
       "      <td>0.842018</td>\n",
       "      <td>0.852203</td>\n",
       "      <td>0.847061</td>\n",
       "      <td>0.004160</td>\n",
       "      <td>11</td>\n",
       "    </tr>\n",
       "    <tr>\n",
       "      <th>11</th>\n",
       "      <td>0.042387</td>\n",
       "      <td>0.003833</td>\n",
       "      <td>0.002402</td>\n",
       "      <td>0.000491</td>\n",
       "      <td>gini</td>\n",
       "      <td>5</td>\n",
       "      <td>100</td>\n",
       "      <td>100</td>\n",
       "      <td>{'criterion': 'gini', 'max_depth': 5, 'min_sam...</td>\n",
       "      <td>0.851764</td>\n",
       "      <td>0.845371</td>\n",
       "      <td>0.843950</td>\n",
       "      <td>0.842018</td>\n",
       "      <td>0.852203</td>\n",
       "      <td>0.847061</td>\n",
       "      <td>0.004160</td>\n",
       "      <td>11</td>\n",
       "    </tr>\n",
       "    <tr>\n",
       "      <th>12</th>\n",
       "      <td>0.079488</td>\n",
       "      <td>0.008807</td>\n",
       "      <td>0.003202</td>\n",
       "      <td>0.001465</td>\n",
       "      <td>gini</td>\n",
       "      <td>10</td>\n",
       "      <td>50</td>\n",
       "      <td>50</td>\n",
       "      <td>{'criterion': 'gini', 'max_depth': 10, 'min_sa...</td>\n",
       "      <td>0.848686</td>\n",
       "      <td>0.845844</td>\n",
       "      <td>0.850107</td>\n",
       "      <td>0.842255</td>\n",
       "      <td>0.856940</td>\n",
       "      <td>0.848766</td>\n",
       "      <td>0.004890</td>\n",
       "      <td>3</td>\n",
       "    </tr>\n",
       "    <tr>\n",
       "      <th>13</th>\n",
       "      <td>0.071437</td>\n",
       "      <td>0.005133</td>\n",
       "      <td>0.003001</td>\n",
       "      <td>0.000893</td>\n",
       "      <td>gini</td>\n",
       "      <td>10</td>\n",
       "      <td>50</td>\n",
       "      <td>100</td>\n",
       "      <td>{'criterion': 'gini', 'max_depth': 10, 'min_sa...</td>\n",
       "      <td>0.848686</td>\n",
       "      <td>0.845844</td>\n",
       "      <td>0.850107</td>\n",
       "      <td>0.842255</td>\n",
       "      <td>0.856940</td>\n",
       "      <td>0.848766</td>\n",
       "      <td>0.004890</td>\n",
       "      <td>3</td>\n",
       "    </tr>\n",
       "    <tr>\n",
       "      <th>14</th>\n",
       "      <td>0.072153</td>\n",
       "      <td>0.006495</td>\n",
       "      <td>0.002801</td>\n",
       "      <td>0.000749</td>\n",
       "      <td>gini</td>\n",
       "      <td>10</td>\n",
       "      <td>100</td>\n",
       "      <td>50</td>\n",
       "      <td>{'criterion': 'gini', 'max_depth': 10, 'min_sa...</td>\n",
       "      <td>0.852948</td>\n",
       "      <td>0.847975</td>\n",
       "      <td>0.846791</td>\n",
       "      <td>0.843202</td>\n",
       "      <td>0.854098</td>\n",
       "      <td>0.849003</td>\n",
       "      <td>0.004028</td>\n",
       "      <td>1</td>\n",
       "    </tr>\n",
       "    <tr>\n",
       "      <th>15</th>\n",
       "      <td>0.067170</td>\n",
       "      <td>0.004618</td>\n",
       "      <td>0.003794</td>\n",
       "      <td>0.000746</td>\n",
       "      <td>gini</td>\n",
       "      <td>10</td>\n",
       "      <td>100</td>\n",
       "      <td>100</td>\n",
       "      <td>{'criterion': 'gini', 'max_depth': 10, 'min_sa...</td>\n",
       "      <td>0.852948</td>\n",
       "      <td>0.847975</td>\n",
       "      <td>0.846791</td>\n",
       "      <td>0.843202</td>\n",
       "      <td>0.854098</td>\n",
       "      <td>0.849003</td>\n",
       "      <td>0.004028</td>\n",
       "      <td>1</td>\n",
       "    </tr>\n",
       "  </tbody>\n",
       "</table>\n",
       "</div>"
      ],
      "text/plain": [
       "    mean_fit_time  std_fit_time  mean_score_time  std_score_time  \\\n",
       "0        0.047573      0.001950         0.002604        0.000795   \n",
       "1        0.050177      0.002931         0.002397        0.000486   \n",
       "2        0.049979      0.002900         0.003188        0.001475   \n",
       "3        0.047584      0.004665         0.002798        0.000399   \n",
       "4        0.075963      0.008505         0.013390        0.022773   \n",
       "5        0.072001      0.005020         0.002597        0.000487   \n",
       "6        0.085646      0.013079         0.003409        0.001019   \n",
       "7        0.079762      0.009983         0.003594        0.000797   \n",
       "8        0.042033      0.003303         0.002403        0.000797   \n",
       "9        0.041590      0.003260         0.002398        0.000488   \n",
       "10       0.042781      0.002481         0.002800        0.001165   \n",
       "11       0.042387      0.003833         0.002402        0.000491   \n",
       "12       0.079488      0.008807         0.003202        0.001465   \n",
       "13       0.071437      0.005133         0.003001        0.000893   \n",
       "14       0.072153      0.006495         0.002801        0.000749   \n",
       "15       0.067170      0.004618         0.003794        0.000746   \n",
       "\n",
       "   param_criterion param_max_depth param_min_samples_leaf  \\\n",
       "0          entropy               5                     50   \n",
       "1          entropy               5                     50   \n",
       "2          entropy               5                    100   \n",
       "3          entropy               5                    100   \n",
       "4          entropy              10                     50   \n",
       "5          entropy              10                     50   \n",
       "6          entropy              10                    100   \n",
       "7          entropy              10                    100   \n",
       "8             gini               5                     50   \n",
       "9             gini               5                     50   \n",
       "10            gini               5                    100   \n",
       "11            gini               5                    100   \n",
       "12            gini              10                     50   \n",
       "13            gini              10                     50   \n",
       "14            gini              10                    100   \n",
       "15            gini              10                    100   \n",
       "\n",
       "   param_min_samples_split                                             params  \\\n",
       "0                       50  {'criterion': 'entropy', 'max_depth': 5, 'min_...   \n",
       "1                      100  {'criterion': 'entropy', 'max_depth': 5, 'min_...   \n",
       "2                       50  {'criterion': 'entropy', 'max_depth': 5, 'min_...   \n",
       "3                      100  {'criterion': 'entropy', 'max_depth': 5, 'min_...   \n",
       "4                       50  {'criterion': 'entropy', 'max_depth': 10, 'min...   \n",
       "5                      100  {'criterion': 'entropy', 'max_depth': 10, 'min...   \n",
       "6                       50  {'criterion': 'entropy', 'max_depth': 10, 'min...   \n",
       "7                      100  {'criterion': 'entropy', 'max_depth': 10, 'min...   \n",
       "8                       50  {'criterion': 'gini', 'max_depth': 5, 'min_sam...   \n",
       "9                      100  {'criterion': 'gini', 'max_depth': 5, 'min_sam...   \n",
       "10                      50  {'criterion': 'gini', 'max_depth': 5, 'min_sam...   \n",
       "11                     100  {'criterion': 'gini', 'max_depth': 5, 'min_sam...   \n",
       "12                      50  {'criterion': 'gini', 'max_depth': 10, 'min_sa...   \n",
       "13                     100  {'criterion': 'gini', 'max_depth': 10, 'min_sa...   \n",
       "14                      50  {'criterion': 'gini', 'max_depth': 10, 'min_sa...   \n",
       "15                     100  {'criterion': 'gini', 'max_depth': 10, 'min_sa...   \n",
       "\n",
       "    split0_test_score  split1_test_score  split2_test_score  \\\n",
       "0            0.845844           0.839687           0.847502   \n",
       "1            0.845844           0.839687           0.847502   \n",
       "2            0.845607           0.839687           0.846791   \n",
       "3            0.845607           0.839687           0.846791   \n",
       "4            0.846318           0.845607           0.848686   \n",
       "5            0.846318           0.845607           0.848686   \n",
       "6            0.852238           0.846791           0.849633   \n",
       "7            0.852238           0.846791           0.849633   \n",
       "8            0.851764           0.845607           0.846555   \n",
       "9            0.851764           0.845607           0.846555   \n",
       "10           0.851764           0.845371           0.843950   \n",
       "11           0.851764           0.845371           0.843950   \n",
       "12           0.848686           0.845844           0.850107   \n",
       "13           0.848686           0.845844           0.850107   \n",
       "14           0.852948           0.847975           0.846791   \n",
       "15           0.852948           0.847975           0.846791   \n",
       "\n",
       "    split3_test_score  split4_test_score  mean_test_score  std_test_score  \\\n",
       "0            0.842018           0.845334         0.844077        0.002826   \n",
       "1            0.842018           0.845334         0.844077        0.002826   \n",
       "2            0.842255           0.845334         0.843935        0.002599   \n",
       "3            0.842255           0.845334         0.843935        0.002599   \n",
       "4            0.844150           0.853387         0.847630        0.003231   \n",
       "5            0.844150           0.853387         0.847630        0.003231   \n",
       "6            0.840834           0.853150         0.848529        0.004440   \n",
       "7            0.840834           0.853150         0.848529        0.004440   \n",
       "8            0.843913           0.852676         0.848103        0.003479   \n",
       "9            0.843913           0.852676         0.848103        0.003479   \n",
       "10           0.842018           0.852203         0.847061        0.004160   \n",
       "11           0.842018           0.852203         0.847061        0.004160   \n",
       "12           0.842255           0.856940         0.848766        0.004890   \n",
       "13           0.842255           0.856940         0.848766        0.004890   \n",
       "14           0.843202           0.854098         0.849003        0.004028   \n",
       "15           0.843202           0.854098         0.849003        0.004028   \n",
       "\n",
       "    rank_test_score  \n",
       "0                13  \n",
       "1                13  \n",
       "2                15  \n",
       "3                15  \n",
       "4                 9  \n",
       "5                 9  \n",
       "6                 5  \n",
       "7                 5  \n",
       "8                 7  \n",
       "9                 7  \n",
       "10               11  \n",
       "11               11  \n",
       "12                3  \n",
       "13                3  \n",
       "14                1  \n",
       "15                1  "
      ]
     },
     "execution_count": 128,
     "metadata": {},
     "output_type": "execute_result"
    }
   ],
   "source": [
    "scores = grid_search.cv_results_\n",
    "pd.DataFrame(scores)"
   ]
  },
  {
   "cell_type": "code",
   "execution_count": 129,
   "metadata": {},
   "outputs": [
    {
     "data": {
      "text/plain": [
       "0.8490029505023864"
      ]
     },
     "execution_count": 129,
     "metadata": {},
     "output_type": "execute_result"
    }
   ],
   "source": [
    "grid_search.best_score_"
   ]
  },
  {
   "cell_type": "code",
   "execution_count": 130,
   "metadata": {},
   "outputs": [
    {
     "data": {
      "text/plain": [
       "{'criterion': 'gini',\n",
       " 'max_depth': 10,\n",
       " 'min_samples_leaf': 100,\n",
       " 'min_samples_split': 50}"
      ]
     },
     "execution_count": 130,
     "metadata": {},
     "output_type": "execute_result"
    }
   ],
   "source": [
    "grid_search.best_params_"
   ]
  },
  {
   "cell_type": "code",
   "execution_count": 131,
   "metadata": {},
   "outputs": [
    {
     "data": {
      "text/plain": [
       "DecisionTreeClassifier(ccp_alpha=0.0, class_weight=None, criterion='gini',\n",
       "                       max_depth=10, max_features=None, max_leaf_nodes=None,\n",
       "                       min_impurity_decrease=0.0, min_impurity_split=None,\n",
       "                       min_samples_leaf=100, min_samples_split=50,\n",
       "                       min_weight_fraction_leaf=0.0, presort='deprecated',\n",
       "                       random_state=None, splitter='best')"
      ]
     },
     "execution_count": 131,
     "metadata": {},
     "output_type": "execute_result"
    }
   ],
   "source": [
    "#build a model with best parameters\n",
    "\n",
    "dt = DecisionTreeClassifier(criterion=\"gini\",\n",
    "                            max_depth=10,\n",
    "                            min_samples_leaf=100,\n",
    "                            min_samples_split=50)\n",
    "\n",
    "dt.fit(X_train,y_train)"
   ]
  },
  {
   "cell_type": "code",
   "execution_count": 132,
   "metadata": {},
   "outputs": [
    {
     "data": {
      "text/plain": [
       "0.849486131064206"
      ]
     },
     "execution_count": 132,
     "metadata": {},
     "output_type": "execute_result"
    }
   ],
   "source": [
    "dt.score(X_test,y_test)"
   ]
  },
  {
   "cell_type": "code",
   "execution_count": 133,
   "metadata": {},
   "outputs": [
    {
     "data": {
      "text/plain": [
       "DecisionTreeClassifier(ccp_alpha=0.0, class_weight=None, criterion='gini',\n",
       "                       max_depth=15, max_features=None, max_leaf_nodes=None,\n",
       "                       min_impurity_decrease=0.0, min_impurity_split=None,\n",
       "                       min_samples_leaf=100, min_samples_split=50,\n",
       "                       min_weight_fraction_leaf=0.0, presort='deprecated',\n",
       "                       random_state=None, splitter='best')"
      ]
     },
     "execution_count": 133,
     "metadata": {},
     "output_type": "execute_result"
    }
   ],
   "source": [
    "dt_1 = DecisionTreeClassifier(criterion=\"gini\",\n",
    "                            max_depth=15,\n",
    "                            min_samples_leaf=100,\n",
    "                            min_samples_split=50)\n",
    "\n",
    "dt_1.fit(X_train,y_train)"
   ]
  },
  {
   "cell_type": "code",
   "execution_count": 134,
   "metadata": {},
   "outputs": [
    {
     "data": {
      "text/plain": [
       "0.8504807161012267"
      ]
     },
     "execution_count": 134,
     "metadata": {},
     "output_type": "execute_result"
    }
   ],
   "source": [
    "dt_1.score(X_test,y_test)"
   ]
  },
  {
   "cell_type": "code",
   "execution_count": 135,
   "metadata": {},
   "outputs": [],
   "source": [
    "y_pred = dt_1.predict(X_test)"
   ]
  },
  {
   "cell_type": "code",
   "execution_count": 136,
   "metadata": {},
   "outputs": [
    {
     "name": "stdout",
     "output_type": "stream",
     "text": [
      "              precision    recall  f1-score   support\n",
      "\n",
      "           0       0.88      0.93      0.90      6858\n",
      "           1       0.74      0.60      0.66      2191\n",
      "\n",
      "    accuracy                           0.85      9049\n",
      "   macro avg       0.81      0.76      0.78      9049\n",
      "weighted avg       0.84      0.85      0.84      9049\n",
      "\n"
     ]
    }
   ],
   "source": [
    "print(classification_report(y_test,y_pred))"
   ]
  },
  {
   "cell_type": "code",
   "execution_count": 137,
   "metadata": {},
   "outputs": [
    {
     "data": {
      "text/plain": [
       "array([[6386,  472],\n",
       "       [ 881, 1310]], dtype=int64)"
      ]
     },
     "execution_count": 137,
     "metadata": {},
     "output_type": "execute_result"
    }
   ],
   "source": [
    "confusion_matrix(y_test,y_pred)"
   ]
  },
  {
   "cell_type": "code",
   "execution_count": 138,
   "metadata": {},
   "outputs": [],
   "source": [
    "from sklearn.tree import export_graphviz"
   ]
  },
  {
   "cell_type": "code",
   "execution_count": 139,
   "metadata": {},
   "outputs": [],
   "source": [
    "from sklearn.externals.six import StringIO"
   ]
  },
  {
   "cell_type": "code",
   "execution_count": 140,
   "metadata": {},
   "outputs": [],
   "source": [
    "from IPython.display import Image"
   ]
  },
  {
   "cell_type": "code",
   "execution_count": 141,
   "metadata": {},
   "outputs": [],
   "source": [
    "import graphviz,pydotplus"
   ]
  },
  {
   "cell_type": "code",
   "execution_count": 152,
   "metadata": {},
   "outputs": [],
   "source": [
    "import os\n",
    "os.environ[\"PATH\"] += os.pathsep + 'C:/Users/ROBIN/.conda/pkgs'"
   ]
  },
  {
   "cell_type": "code",
   "execution_count": 153,
   "metadata": {},
   "outputs": [
    {
     "data": {
      "text/plain": [
       "['workclass',\n",
       " 'fnlwgt',\n",
       " 'education',\n",
       " 'education.num',\n",
       " 'marital.status',\n",
       " 'occupation',\n",
       " 'relationship',\n",
       " 'race',\n",
       " 'sex',\n",
       " 'capital.gain',\n",
       " 'capital.loss',\n",
       " 'hours.per.week',\n",
       " 'native.country',\n",
       " 'income']"
      ]
     },
     "execution_count": 153,
     "metadata": {},
     "output_type": "execute_result"
    }
   ],
   "source": [
    "features = list(df.columns[1:])\n",
    "features"
   ]
  },
  {
   "cell_type": "code",
   "execution_count": 155,
   "metadata": {},
   "outputs": [],
   "source": [
    "#plotting tree with default max_depth\n",
    "\n",
    "dot_data = StringIO()\n",
    "export_graphviz(default_dt,out_file = dot_data,\n",
    "                feature_names = features,filled = True,rounded = True)\n",
    "\n",
    "graphs = pydotplus.graph_from_dot_data(dot_data.getvalue())\n",
    "Image(graphs.create_png())"
   ]
  },
  {
   "cell_type": "code",
   "execution_count": 146,
   "metadata": {},
   "outputs": [
    {
     "data": {
      "text/plain": [
       "'0.16'"
      ]
     },
     "execution_count": 146,
     "metadata": {},
     "output_type": "execute_result"
    }
   ],
   "source": [
    "graphviz.__version__"
   ]
  },
  {
   "cell_type": "code",
   "execution_count": null,
   "metadata": {},
   "outputs": [],
   "source": []
  }
 ],
 "metadata": {
  "kernelspec": {
   "display_name": "tf-gpu",
   "language": "python",
   "name": "tf-gpu"
  },
  "language_info": {
   "codemirror_mode": {
    "name": "ipython",
    "version": 3
   },
   "file_extension": ".py",
   "mimetype": "text/x-python",
   "name": "python",
   "nbconvert_exporter": "python",
   "pygments_lexer": "ipython3",
   "version": "3.7.6"
  }
 },
 "nbformat": 4,
 "nbformat_minor": 2
}

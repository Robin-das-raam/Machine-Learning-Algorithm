{
 "cells": [
  {
   "cell_type": "markdown",
   "metadata": {},
   "source": [
    "# Ridge Regression\n",
    "\n",
    "Ridge regression is a model tuning method that is used to analyse any data that suffers from multicollinearity. This method performs L2 regularization. When the issue of multicollinearity occurs, least-squares are unbiased, and variances are large, this results in predicted values to be far away from the actual values. "
   ]
  },
  {
   "cell_type": "markdown",
   "metadata": {},
   "source": [
    "# Imported libraries and understanding data"
   ]
  },
  {
   "cell_type": "code",
   "execution_count": 16,
   "metadata": {},
   "outputs": [],
   "source": [
    "import pandas as pd\n",
    "import numpy as np\n",
    "import matplotlib.pyplot as plt\n",
    "%matplotlib inline\n",
    "import seaborn as sns\n"
   ]
  },
  {
   "cell_type": "code",
   "execution_count": 17,
   "metadata": {},
   "outputs": [
    {
     "data": {
      "text/html": [
       "<div>\n",
       "<style scoped>\n",
       "    .dataframe tbody tr th:only-of-type {\n",
       "        vertical-align: middle;\n",
       "    }\n",
       "\n",
       "    .dataframe tbody tr th {\n",
       "        vertical-align: top;\n",
       "    }\n",
       "\n",
       "    .dataframe thead th {\n",
       "        text-align: right;\n",
       "    }\n",
       "</style>\n",
       "<table border=\"1\" class=\"dataframe\">\n",
       "  <thead>\n",
       "    <tr style=\"text-align: right;\">\n",
       "      <th></th>\n",
       "      <th>price</th>\n",
       "      <th>area</th>\n",
       "      <th>bedrooms</th>\n",
       "      <th>bathrooms</th>\n",
       "      <th>stories</th>\n",
       "      <th>mainroad</th>\n",
       "      <th>guestroom</th>\n",
       "      <th>basement</th>\n",
       "      <th>hotwaterheating</th>\n",
       "      <th>airconditioning</th>\n",
       "      <th>parking</th>\n",
       "      <th>prefarea</th>\n",
       "      <th>furnishingstatus</th>\n",
       "    </tr>\n",
       "  </thead>\n",
       "  <tbody>\n",
       "    <tr>\n",
       "      <th>0</th>\n",
       "      <td>13300000</td>\n",
       "      <td>7420</td>\n",
       "      <td>4</td>\n",
       "      <td>2</td>\n",
       "      <td>3</td>\n",
       "      <td>yes</td>\n",
       "      <td>no</td>\n",
       "      <td>no</td>\n",
       "      <td>no</td>\n",
       "      <td>yes</td>\n",
       "      <td>2</td>\n",
       "      <td>yes</td>\n",
       "      <td>furnished</td>\n",
       "    </tr>\n",
       "    <tr>\n",
       "      <th>1</th>\n",
       "      <td>12250000</td>\n",
       "      <td>8960</td>\n",
       "      <td>4</td>\n",
       "      <td>4</td>\n",
       "      <td>4</td>\n",
       "      <td>yes</td>\n",
       "      <td>no</td>\n",
       "      <td>no</td>\n",
       "      <td>no</td>\n",
       "      <td>yes</td>\n",
       "      <td>3</td>\n",
       "      <td>no</td>\n",
       "      <td>furnished</td>\n",
       "    </tr>\n",
       "    <tr>\n",
       "      <th>2</th>\n",
       "      <td>12250000</td>\n",
       "      <td>9960</td>\n",
       "      <td>3</td>\n",
       "      <td>2</td>\n",
       "      <td>2</td>\n",
       "      <td>yes</td>\n",
       "      <td>no</td>\n",
       "      <td>yes</td>\n",
       "      <td>no</td>\n",
       "      <td>no</td>\n",
       "      <td>2</td>\n",
       "      <td>yes</td>\n",
       "      <td>semi-furnished</td>\n",
       "    </tr>\n",
       "  </tbody>\n",
       "</table>\n",
       "</div>"
      ],
      "text/plain": [
       "      price  area  bedrooms  bathrooms  stories mainroad guestroom basement  \\\n",
       "0  13300000  7420         4          2        3      yes        no       no   \n",
       "1  12250000  8960         4          4        4      yes        no       no   \n",
       "2  12250000  9960         3          2        2      yes        no      yes   \n",
       "\n",
       "  hotwaterheating airconditioning  parking prefarea furnishingstatus  \n",
       "0              no             yes        2      yes        furnished  \n",
       "1              no             yes        3       no        furnished  \n",
       "2              no              no        2      yes   semi-furnished  "
      ]
     },
     "execution_count": 17,
     "metadata": {},
     "output_type": "execute_result"
    }
   ],
   "source": [
    "df = pd.read_csv(\"Housing.csv\")\n",
    "df.head(3)"
   ]
  },
  {
   "cell_type": "code",
   "execution_count": 18,
   "metadata": {},
   "outputs": [
    {
     "data": {
      "text/plain": [
       "price               0\n",
       "area                0\n",
       "bedrooms            0\n",
       "bathrooms           0\n",
       "stories             0\n",
       "mainroad            0\n",
       "guestroom           0\n",
       "basement            0\n",
       "hotwaterheating     0\n",
       "airconditioning     0\n",
       "parking             0\n",
       "prefarea            0\n",
       "furnishingstatus    0\n",
       "dtype: int64"
      ]
     },
     "execution_count": 18,
     "metadata": {},
     "output_type": "execute_result"
    }
   ],
   "source": [
    "df.isna().sum()"
   ]
  },
  {
   "cell_type": "code",
   "execution_count": 19,
   "metadata": {},
   "outputs": [
    {
     "name": "stdout",
     "output_type": "stream",
     "text": [
      "<class 'pandas.core.frame.DataFrame'>\n",
      "RangeIndex: 545 entries, 0 to 544\n",
      "Data columns (total 13 columns):\n",
      " #   Column            Non-Null Count  Dtype \n",
      "---  ------            --------------  ----- \n",
      " 0   price             545 non-null    int64 \n",
      " 1   area              545 non-null    int64 \n",
      " 2   bedrooms          545 non-null    int64 \n",
      " 3   bathrooms         545 non-null    int64 \n",
      " 4   stories           545 non-null    int64 \n",
      " 5   mainroad          545 non-null    object\n",
      " 6   guestroom         545 non-null    object\n",
      " 7   basement          545 non-null    object\n",
      " 8   hotwaterheating   545 non-null    object\n",
      " 9   airconditioning   545 non-null    object\n",
      " 10  parking           545 non-null    int64 \n",
      " 11  prefarea          545 non-null    object\n",
      " 12  furnishingstatus  545 non-null    object\n",
      "dtypes: int64(6), object(7)\n",
      "memory usage: 55.5+ KB\n"
     ]
    }
   ],
   "source": [
    "df.info()"
   ]
  },
  {
   "cell_type": "markdown",
   "metadata": {},
   "source": [
    "# Data Preparation\n",
    "* In this dataset there are many column with yes no value\n",
    "* we need to convert this data into numerical value"
   ]
  },
  {
   "cell_type": "code",
   "execution_count": 20,
   "metadata": {},
   "outputs": [
    {
     "data": {
      "text/html": [
       "<div>\n",
       "<style scoped>\n",
       "    .dataframe tbody tr th:only-of-type {\n",
       "        vertical-align: middle;\n",
       "    }\n",
       "\n",
       "    .dataframe tbody tr th {\n",
       "        vertical-align: top;\n",
       "    }\n",
       "\n",
       "    .dataframe thead th {\n",
       "        text-align: right;\n",
       "    }\n",
       "</style>\n",
       "<table border=\"1\" class=\"dataframe\">\n",
       "  <thead>\n",
       "    <tr style=\"text-align: right;\">\n",
       "      <th></th>\n",
       "      <th>price</th>\n",
       "      <th>area</th>\n",
       "      <th>bedrooms</th>\n",
       "      <th>bathrooms</th>\n",
       "      <th>stories</th>\n",
       "      <th>mainroad</th>\n",
       "      <th>guestroom</th>\n",
       "      <th>basement</th>\n",
       "      <th>hotwaterheating</th>\n",
       "      <th>airconditioning</th>\n",
       "      <th>parking</th>\n",
       "      <th>prefarea</th>\n",
       "      <th>furnishingstatus</th>\n",
       "    </tr>\n",
       "  </thead>\n",
       "  <tbody>\n",
       "    <tr>\n",
       "      <th>0</th>\n",
       "      <td>13300000</td>\n",
       "      <td>7420</td>\n",
       "      <td>4</td>\n",
       "      <td>2</td>\n",
       "      <td>3</td>\n",
       "      <td>yes</td>\n",
       "      <td>no</td>\n",
       "      <td>no</td>\n",
       "      <td>no</td>\n",
       "      <td>yes</td>\n",
       "      <td>2</td>\n",
       "      <td>yes</td>\n",
       "      <td>furnished</td>\n",
       "    </tr>\n",
       "    <tr>\n",
       "      <th>1</th>\n",
       "      <td>12250000</td>\n",
       "      <td>8960</td>\n",
       "      <td>4</td>\n",
       "      <td>4</td>\n",
       "      <td>4</td>\n",
       "      <td>yes</td>\n",
       "      <td>no</td>\n",
       "      <td>no</td>\n",
       "      <td>no</td>\n",
       "      <td>yes</td>\n",
       "      <td>3</td>\n",
       "      <td>no</td>\n",
       "      <td>furnished</td>\n",
       "    </tr>\n",
       "    <tr>\n",
       "      <th>2</th>\n",
       "      <td>12250000</td>\n",
       "      <td>9960</td>\n",
       "      <td>3</td>\n",
       "      <td>2</td>\n",
       "      <td>2</td>\n",
       "      <td>yes</td>\n",
       "      <td>no</td>\n",
       "      <td>yes</td>\n",
       "      <td>no</td>\n",
       "      <td>no</td>\n",
       "      <td>2</td>\n",
       "      <td>yes</td>\n",
       "      <td>semi-furnished</td>\n",
       "    </tr>\n",
       "  </tbody>\n",
       "</table>\n",
       "</div>"
      ],
      "text/plain": [
       "      price  area  bedrooms  bathrooms  stories mainroad guestroom basement  \\\n",
       "0  13300000  7420         4          2        3      yes        no       no   \n",
       "1  12250000  8960         4          4        4      yes        no       no   \n",
       "2  12250000  9960         3          2        2      yes        no      yes   \n",
       "\n",
       "  hotwaterheating airconditioning  parking prefarea furnishingstatus  \n",
       "0              no             yes        2      yes        furnished  \n",
       "1              no             yes        3       no        furnished  \n",
       "2              no              no        2      yes   semi-furnished  "
      ]
     },
     "execution_count": 20,
     "metadata": {},
     "output_type": "execute_result"
    }
   ],
   "source": [
    "df.head(3)"
   ]
  },
  {
   "cell_type": "code",
   "execution_count": 21,
   "metadata": {},
   "outputs": [],
   "source": [
    "df[\"mainroad\"] = df[\"mainroad\"].map({\"yes\":1,\"no\":0})\n",
    "df[\"guestroom\"] = df[\"guestroom\"].map({\"yes\":1,\"no\":0})\n",
    "df[\"basement\"] = df[\"basement\"].map({\"yes\":1,\"no\":0})\n",
    "df[\"hotwaterheating\"] = df[\"hotwaterheating\"].map({\"yes\":1,\"no\":0})\n",
    "df[\"airconditioning\"] = df[\"airconditioning\"].map({\"yes\":1,\"no\":0})\n",
    "df[\"prefarea\"] = df[\"prefarea\"].map({\"yes\":1,\"no\":0})"
   ]
  },
  {
   "cell_type": "code",
   "execution_count": 22,
   "metadata": {},
   "outputs": [
    {
     "data": {
      "text/html": [
       "<div>\n",
       "<style scoped>\n",
       "    .dataframe tbody tr th:only-of-type {\n",
       "        vertical-align: middle;\n",
       "    }\n",
       "\n",
       "    .dataframe tbody tr th {\n",
       "        vertical-align: top;\n",
       "    }\n",
       "\n",
       "    .dataframe thead th {\n",
       "        text-align: right;\n",
       "    }\n",
       "</style>\n",
       "<table border=\"1\" class=\"dataframe\">\n",
       "  <thead>\n",
       "    <tr style=\"text-align: right;\">\n",
       "      <th></th>\n",
       "      <th>semi-furnished</th>\n",
       "      <th>unfurnished</th>\n",
       "    </tr>\n",
       "  </thead>\n",
       "  <tbody>\n",
       "    <tr>\n",
       "      <th>0</th>\n",
       "      <td>0</td>\n",
       "      <td>0</td>\n",
       "    </tr>\n",
       "    <tr>\n",
       "      <th>1</th>\n",
       "      <td>0</td>\n",
       "      <td>0</td>\n",
       "    </tr>\n",
       "  </tbody>\n",
       "</table>\n",
       "</div>"
      ],
      "text/plain": [
       "   semi-furnished  unfurnished\n",
       "0               0            0\n",
       "1               0            0"
      ]
     },
     "execution_count": 22,
     "metadata": {},
     "output_type": "execute_result"
    }
   ],
   "source": [
    "status = pd.get_dummies(df[\"furnishingstatus\"],drop_first = True)\n",
    "status.head(2)"
   ]
  },
  {
   "cell_type": "code",
   "execution_count": 23,
   "metadata": {},
   "outputs": [],
   "source": [
    "df = pd.concat([df,status],axis = 1)"
   ]
  },
  {
   "cell_type": "code",
   "execution_count": 24,
   "metadata": {},
   "outputs": [],
   "source": [
    "df.drop([\"furnishingstatus\"],axis = 1,inplace = True)"
   ]
  },
  {
   "cell_type": "markdown",
   "metadata": {},
   "source": [
    "# Normalize the data"
   ]
  },
  {
   "cell_type": "code",
   "execution_count": 25,
   "metadata": {},
   "outputs": [],
   "source": [
    "def norm(x):\n",
    "    return (x- np.min(x))/((max(x)-min(x)))\n",
    "\n",
    "df = df.apply(norm)"
   ]
  },
  {
   "cell_type": "markdown",
   "metadata": {},
   "source": [
    "# split the data "
   ]
  },
  {
   "cell_type": "code",
   "execution_count": 26,
   "metadata": {},
   "outputs": [],
   "source": [
    "X = df.drop([\"price\"],axis = 1)\n",
    "y = df[\"price\"]"
   ]
  },
  {
   "cell_type": "code",
   "execution_count": 27,
   "metadata": {},
   "outputs": [],
   "source": [
    "from sklearn.model_selection import train_test_split\n",
    "X_train,X_test,y_train,y_test = train_test_split(X,y,test_size = 0.3,random_state = 22)"
   ]
  },
  {
   "cell_type": "code",
   "execution_count": 28,
   "metadata": {},
   "outputs": [],
   "source": [
    "from sklearn.linear_model import LinearRegression\n",
    "from sklearn.linear_model import Ridge\n",
    "from sklearn.model_selection import GridSearchCV"
   ]
  },
  {
   "cell_type": "code",
   "execution_count": 29,
   "metadata": {},
   "outputs": [
    {
     "data": {
      "text/plain": [
       "LinearRegression(copy_X=True, fit_intercept=True, n_jobs=None, normalize=False)"
      ]
     },
     "execution_count": 29,
     "metadata": {},
     "output_type": "execute_result"
    }
   ],
   "source": [
    "reg_model = LinearRegression()\n",
    "reg_model.fit(X_train,y_train)"
   ]
  },
  {
   "cell_type": "code",
   "execution_count": 30,
   "metadata": {},
   "outputs": [
    {
     "data": {
      "text/plain": [
       "0.6297454171116068"
      ]
     },
     "execution_count": 30,
     "metadata": {},
     "output_type": "execute_result"
    }
   ],
   "source": [
    "reg_model.score(X_test,y_test)"
   ]
  },
  {
   "cell_type": "code",
   "execution_count": 31,
   "metadata": {},
   "outputs": [],
   "source": [
    "#check the coeffient for independent variable\n",
    "\n",
    "reg_pred = reg_model.predict(X_test)"
   ]
  },
  {
   "cell_type": "code",
   "execution_count": 43,
   "metadata": {},
   "outputs": [
    {
     "data": {
      "text/plain": [
       "Index(['area', 'bedrooms', 'bathrooms', 'stories', 'mainroad', 'guestroom',\n",
       "       'basement', 'hotwaterheating', 'airconditioning', 'parking', 'prefarea',\n",
       "       'semi-furnished', 'unfurnished'],\n",
       "      dtype='object')"
      ]
     },
     "execution_count": 43,
     "metadata": {},
     "output_type": "execute_result"
    }
   ],
   "source": [
    "var = df.drop([\"price\"],axis = 1)\n",
    "var.columns"
   ]
  },
  {
   "cell_type": "code",
   "execution_count": 52,
   "metadata": {},
   "outputs": [
    {
     "data": {
      "text/html": [
       "<div>\n",
       "<style scoped>\n",
       "    .dataframe tbody tr th:only-of-type {\n",
       "        vertical-align: middle;\n",
       "    }\n",
       "\n",
       "    .dataframe tbody tr th {\n",
       "        vertical-align: top;\n",
       "    }\n",
       "\n",
       "    .dataframe thead th {\n",
       "        text-align: right;\n",
       "    }\n",
       "</style>\n",
       "<table border=\"1\" class=\"dataframe\">\n",
       "  <thead>\n",
       "    <tr style=\"text-align: right;\">\n",
       "      <th></th>\n",
       "      <th>variable</th>\n",
       "      <th>coefficient</th>\n",
       "    </tr>\n",
       "  </thead>\n",
       "  <tbody>\n",
       "    <tr>\n",
       "      <th>0</th>\n",
       "      <td>area</td>\n",
       "      <td>0.287359</td>\n",
       "    </tr>\n",
       "    <tr>\n",
       "      <th>1</th>\n",
       "      <td>bedrooms</td>\n",
       "      <td>0.029848</td>\n",
       "    </tr>\n",
       "    <tr>\n",
       "      <th>2</th>\n",
       "      <td>bathrooms</td>\n",
       "      <td>0.267501</td>\n",
       "    </tr>\n",
       "    <tr>\n",
       "      <th>3</th>\n",
       "      <td>stories</td>\n",
       "      <td>0.117395</td>\n",
       "    </tr>\n",
       "    <tr>\n",
       "      <th>4</th>\n",
       "      <td>mainroad</td>\n",
       "      <td>0.036826</td>\n",
       "    </tr>\n",
       "    <tr>\n",
       "      <th>5</th>\n",
       "      <td>guestroom</td>\n",
       "      <td>0.032053</td>\n",
       "    </tr>\n",
       "    <tr>\n",
       "      <th>6</th>\n",
       "      <td>basement</td>\n",
       "      <td>0.023709</td>\n",
       "    </tr>\n",
       "    <tr>\n",
       "      <th>7</th>\n",
       "      <td>hotwaterheating</td>\n",
       "      <td>0.080477</td>\n",
       "    </tr>\n",
       "    <tr>\n",
       "      <th>8</th>\n",
       "      <td>airconditioning</td>\n",
       "      <td>0.083666</td>\n",
       "    </tr>\n",
       "    <tr>\n",
       "      <th>9</th>\n",
       "      <td>parking</td>\n",
       "      <td>0.070080</td>\n",
       "    </tr>\n",
       "    <tr>\n",
       "      <th>10</th>\n",
       "      <td>prefarea</td>\n",
       "      <td>0.064605</td>\n",
       "    </tr>\n",
       "    <tr>\n",
       "      <th>11</th>\n",
       "      <td>semi-furnished</td>\n",
       "      <td>-0.004788</td>\n",
       "    </tr>\n",
       "    <tr>\n",
       "      <th>12</th>\n",
       "      <td>unfurnished</td>\n",
       "      <td>-0.030837</td>\n",
       "    </tr>\n",
       "  </tbody>\n",
       "</table>\n",
       "</div>"
      ],
      "text/plain": [
       "           variable  coefficient\n",
       "0              area     0.287359\n",
       "1          bedrooms     0.029848\n",
       "2         bathrooms     0.267501\n",
       "3           stories     0.117395\n",
       "4          mainroad     0.036826\n",
       "5         guestroom     0.032053\n",
       "6          basement     0.023709\n",
       "7   hotwaterheating     0.080477\n",
       "8   airconditioning     0.083666\n",
       "9           parking     0.070080\n",
       "10         prefarea     0.064605\n",
       "11   semi-furnished    -0.004788\n",
       "12      unfurnished    -0.030837"
      ]
     },
     "execution_count": 52,
     "metadata": {},
     "output_type": "execute_result"
    }
   ],
   "source": [
    "ds_co = pd.DataFrame({\"variable\":var.columns,\"coefficient\":reg_model.coef_})\n",
    "ds_co"
   ]
  },
  {
   "cell_type": "code",
   "execution_count": 55,
   "metadata": {},
   "outputs": [
    {
     "data": {
      "text/plain": [
       "<Figure size 720x576 with 0 Axes>"
      ]
     },
     "metadata": {},
     "output_type": "display_data"
    },
    {
     "data": {
      "image/png": "[encoded data removed]",
      "text/plain": [
       "<Figure size 432x288 with 1 Axes>"
      ]
     },
     "metadata": {
      "needs_background": "light"
     },
     "output_type": "display_data"
    }
   ],
   "source": [
    "##checking the magnitude of coefficients\n",
    "plt.figure(figsize=(10,8))\n",
    " \n",
    "ds_co.plot(kind='bar', title='Model Coefficients')\n",
    "plt.show()\n"
   ]
  },
  {
   "cell_type": "code",
   "execution_count": 57,
   "metadata": {},
   "outputs": [
    {
     "data": {
      "image/png": "[encoded data removed]",
      "text/plain": [
       "<Figure size 720x576 with 1 Axes>"
      ]
     },
     "metadata": {
      "needs_background": "light"
     },
     "output_type": "display_data"
    }
   ],
   "source": [
    "from pandas import Series\n",
    "predictors = var.columns\n",
    " \n",
    "coef = Series(reg_model.coef_.flatten(), predictors).sort_values()\n",
    "plt.figure(figsize=(10,8))\n",
    " \n",
    "coef.plot(kind='bar', title='Model Coefficients')\n",
    "plt.show()"
   ]
  },
  {
   "cell_type": "markdown",
   "metadata": {},
   "source": [
    "* Variables showing positive effect on regression model are area,bathrooms,stories,airconditioning,hotwaterheating,parking,prefarea,mainroad,guestroom,bedrooms,basement.\n",
    "\n",
    "* Higher the value of beta coefficient, higher is the impact.\n",
    "* Variable showing Negative effect on regression model are semi-furnished,unfurnished"
   ]
  },
  {
   "cell_type": "markdown",
   "metadata": {},
   "source": [
    "# Ridge Model"
   ]
  },
  {
   "cell_type": "code",
   "execution_count": 58,
   "metadata": {},
   "outputs": [
    {
     "data": {
      "text/plain": [
       "Ridge(alpha=1.0, copy_X=True, fit_intercept=True, max_iter=None,\n",
       "      normalize=False, random_state=None, solver='auto', tol=0.001)"
      ]
     },
     "execution_count": 58,
     "metadata": {},
     "output_type": "execute_result"
    }
   ],
   "source": [
    "ridge_model = Ridge()\n",
    "ridge_model.fit(X_train,y_train)"
   ]
  },
  {
   "cell_type": "code",
   "execution_count": 59,
   "metadata": {},
   "outputs": [
    {
     "data": {
      "text/plain": [
       "0.6271571478024807"
      ]
     },
     "execution_count": 59,
     "metadata": {},
     "output_type": "execute_result"
    }
   ],
   "source": [
    "ridge_model.score(X_test,y_test)"
   ]
  },
  {
   "cell_type": "code",
   "execution_count": 61,
   "metadata": {},
   "outputs": [],
   "source": [
    "#initialize\n",
    "ridge_reg = Ridge()\n",
    "ridge_reg.fit(X_train,y_train)\n",
    "ridge_df = pd.DataFrame({\"variable\":var.columns,\"estimate\":ridge_reg.coef_})\n",
    "ridge_train_pred = []\n",
    "ridge_test_pred = []\n",
    "\n",
    "alphas = np.arange(0,200,1)\n",
    "\n",
    "for alpha in alphas:\n",
    "    ridge_reg = Ridge(alpha = alpha)\n",
    "    ridge_reg.fit(X_train,y_train)\n",
    "    var_name = \"estimate\" + str(alpha)\n",
    "    ridge_df[var_name] = ridge_reg.coef_\n",
    "    \n",
    "    #prediction\n",
    "    ridge_train_pred.append(ridge_reg.predict(X_train))\n",
    "    ridge_test_pred.append(ridge_reg.predict(X_test))\n",
    "    \n",
    "    \n",
    "#ridge_df = ridge_df.set_index('variable').T.rename_axis('estimate').rename_axis(None, 1).reset_index()"
   ]
  },
  {
   "cell_type": "code",
   "execution_count": 62,
   "metadata": {},
   "outputs": [
    {
     "data": {
      "text/html": [
       "<div>\n",
       "<style scoped>\n",
       "    .dataframe tbody tr th:only-of-type {\n",
       "        vertical-align: middle;\n",
       "    }\n",
       "\n",
       "    .dataframe tbody tr th {\n",
       "        vertical-align: top;\n",
       "    }\n",
       "\n",
       "    .dataframe thead th {\n",
       "        text-align: right;\n",
       "    }\n",
       "</style>\n",
       "<table border=\"1\" class=\"dataframe\">\n",
       "  <thead>\n",
       "    <tr style=\"text-align: right;\">\n",
       "      <th></th>\n",
       "      <th>variable</th>\n",
       "      <th>estimate</th>\n",
       "      <th>estimate0</th>\n",
       "      <th>estimate1</th>\n",
       "      <th>estimate2</th>\n",
       "      <th>estimate3</th>\n",
       "      <th>estimate4</th>\n",
       "      <th>estimate5</th>\n",
       "      <th>estimate6</th>\n",
       "      <th>estimate7</th>\n",
       "      <th>...</th>\n",
       "      <th>estimate190</th>\n",
       "      <th>estimate191</th>\n",
       "      <th>estimate192</th>\n",
       "      <th>estimate193</th>\n",
       "      <th>estimate194</th>\n",
       "      <th>estimate195</th>\n",
       "      <th>estimate196</th>\n",
       "      <th>estimate197</th>\n",
       "      <th>estimate198</th>\n",
       "      <th>estimate199</th>\n",
       "    </tr>\n",
       "  </thead>\n",
       "  <tbody>\n",
       "    <tr>\n",
       "      <th>0</th>\n",
       "      <td>area</td>\n",
       "      <td>0.254756</td>\n",
       "      <td>0.287359</td>\n",
       "      <td>0.254756</td>\n",
       "      <td>0.229641</td>\n",
       "      <td>0.209632</td>\n",
       "      <td>0.193274</td>\n",
       "      <td>0.179623</td>\n",
       "      <td>0.168041</td>\n",
       "      <td>0.158075</td>\n",
       "      <td>...</td>\n",
       "      <td>0.020107</td>\n",
       "      <td>0.020023</td>\n",
       "      <td>0.019940</td>\n",
       "      <td>0.019857</td>\n",
       "      <td>0.019775</td>\n",
       "      <td>0.019694</td>\n",
       "      <td>0.019613</td>\n",
       "      <td>0.019533</td>\n",
       "      <td>0.019454</td>\n",
       "      <td>0.019375</td>\n",
       "    </tr>\n",
       "    <tr>\n",
       "      <th>1</th>\n",
       "      <td>bedrooms</td>\n",
       "      <td>0.038962</td>\n",
       "      <td>0.029848</td>\n",
       "      <td>0.038962</td>\n",
       "      <td>0.044332</td>\n",
       "      <td>0.047541</td>\n",
       "      <td>0.049432</td>\n",
       "      <td>0.050482</td>\n",
       "      <td>0.050979</td>\n",
       "      <td>0.051104</td>\n",
       "      <td>...</td>\n",
       "      <td>0.013017</td>\n",
       "      <td>0.012965</td>\n",
       "      <td>0.012914</td>\n",
       "      <td>0.012863</td>\n",
       "      <td>0.012812</td>\n",
       "      <td>0.012762</td>\n",
       "      <td>0.012713</td>\n",
       "      <td>0.012664</td>\n",
       "      <td>0.012615</td>\n",
       "      <td>0.012566</td>\n",
       "    </tr>\n",
       "    <tr>\n",
       "      <th>2</th>\n",
       "      <td>bathrooms</td>\n",
       "      <td>0.246502</td>\n",
       "      <td>0.267501</td>\n",
       "      <td>0.246502</td>\n",
       "      <td>0.229107</td>\n",
       "      <td>0.214397</td>\n",
       "      <td>0.201754</td>\n",
       "      <td>0.190747</td>\n",
       "      <td>0.181059</td>\n",
       "      <td>0.172455</td>\n",
       "      <td>...</td>\n",
       "      <td>0.023594</td>\n",
       "      <td>0.023492</td>\n",
       "      <td>0.023392</td>\n",
       "      <td>0.023292</td>\n",
       "      <td>0.023194</td>\n",
       "      <td>0.023096</td>\n",
       "      <td>0.022999</td>\n",
       "      <td>0.022902</td>\n",
       "      <td>0.022807</td>\n",
       "      <td>0.022712</td>\n",
       "    </tr>\n",
       "    <tr>\n",
       "      <th>3</th>\n",
       "      <td>stories</td>\n",
       "      <td>0.115445</td>\n",
       "      <td>0.117395</td>\n",
       "      <td>0.115445</td>\n",
       "      <td>0.113922</td>\n",
       "      <td>0.112564</td>\n",
       "      <td>0.111263</td>\n",
       "      <td>0.109974</td>\n",
       "      <td>0.108682</td>\n",
       "      <td>0.107382</td>\n",
       "      <td>...</td>\n",
       "      <td>0.029692</td>\n",
       "      <td>0.029577</td>\n",
       "      <td>0.029463</td>\n",
       "      <td>0.029350</td>\n",
       "      <td>0.029238</td>\n",
       "      <td>0.029127</td>\n",
       "      <td>0.029017</td>\n",
       "      <td>0.028907</td>\n",
       "      <td>0.028799</td>\n",
       "      <td>0.028691</td>\n",
       "    </tr>\n",
       "    <tr>\n",
       "      <th>4</th>\n",
       "      <td>mainroad</td>\n",
       "      <td>0.039133</td>\n",
       "      <td>0.036826</td>\n",
       "      <td>0.039133</td>\n",
       "      <td>0.040734</td>\n",
       "      <td>0.041885</td>\n",
       "      <td>0.042732</td>\n",
       "      <td>0.043362</td>\n",
       "      <td>0.043833</td>\n",
       "      <td>0.044182</td>\n",
       "      <td>...</td>\n",
       "      <td>0.020934</td>\n",
       "      <td>0.020865</td>\n",
       "      <td>0.020797</td>\n",
       "      <td>0.020729</td>\n",
       "      <td>0.020662</td>\n",
       "      <td>0.020595</td>\n",
       "      <td>0.020528</td>\n",
       "      <td>0.020462</td>\n",
       "      <td>0.020397</td>\n",
       "      <td>0.020332</td>\n",
       "    </tr>\n",
       "    <tr>\n",
       "      <th>5</th>\n",
       "      <td>guestroom</td>\n",
       "      <td>0.033998</td>\n",
       "      <td>0.032053</td>\n",
       "      <td>0.033998</td>\n",
       "      <td>0.035489</td>\n",
       "      <td>0.036659</td>\n",
       "      <td>0.037592</td>\n",
       "      <td>0.038345</td>\n",
       "      <td>0.038955</td>\n",
       "      <td>0.039451</td>\n",
       "      <td>...</td>\n",
       "      <td>0.021643</td>\n",
       "      <td>0.021578</td>\n",
       "      <td>0.021512</td>\n",
       "      <td>0.021447</td>\n",
       "      <td>0.021382</td>\n",
       "      <td>0.021318</td>\n",
       "      <td>0.021254</td>\n",
       "      <td>0.021191</td>\n",
       "      <td>0.021127</td>\n",
       "      <td>0.021065</td>\n",
       "    </tr>\n",
       "    <tr>\n",
       "      <th>6</th>\n",
       "      <td>basement</td>\n",
       "      <td>0.022514</td>\n",
       "      <td>0.023709</td>\n",
       "      <td>0.022514</td>\n",
       "      <td>0.021687</td>\n",
       "      <td>0.021083</td>\n",
       "      <td>0.020621</td>\n",
       "      <td>0.020257</td>\n",
       "      <td>0.019962</td>\n",
       "      <td>0.019716</td>\n",
       "      <td>...</td>\n",
       "      <td>0.012224</td>\n",
       "      <td>0.012196</td>\n",
       "      <td>0.012168</td>\n",
       "      <td>0.012140</td>\n",
       "      <td>0.012112</td>\n",
       "      <td>0.012085</td>\n",
       "      <td>0.012057</td>\n",
       "      <td>0.012030</td>\n",
       "      <td>0.012002</td>\n",
       "      <td>0.011975</td>\n",
       "    </tr>\n",
       "    <tr>\n",
       "      <th>7</th>\n",
       "      <td>hotwaterheating</td>\n",
       "      <td>0.076438</td>\n",
       "      <td>0.080477</td>\n",
       "      <td>0.076438</td>\n",
       "      <td>0.072830</td>\n",
       "      <td>0.069569</td>\n",
       "      <td>0.066597</td>\n",
       "      <td>0.063873</td>\n",
       "      <td>0.061363</td>\n",
       "      <td>0.059042</td>\n",
       "      <td>...</td>\n",
       "      <td>0.006608</td>\n",
       "      <td>0.006574</td>\n",
       "      <td>0.006540</td>\n",
       "      <td>0.006507</td>\n",
       "      <td>0.006474</td>\n",
       "      <td>0.006441</td>\n",
       "      <td>0.006409</td>\n",
       "      <td>0.006377</td>\n",
       "      <td>0.006345</td>\n",
       "      <td>0.006314</td>\n",
       "    </tr>\n",
       "    <tr>\n",
       "      <th>8</th>\n",
       "      <td>airconditioning</td>\n",
       "      <td>0.085165</td>\n",
       "      <td>0.083666</td>\n",
       "      <td>0.085165</td>\n",
       "      <td>0.086253</td>\n",
       "      <td>0.087055</td>\n",
       "      <td>0.087648</td>\n",
       "      <td>0.088081</td>\n",
       "      <td>0.088388</td>\n",
       "      <td>0.088596</td>\n",
       "      <td>...</td>\n",
       "      <td>0.044076</td>\n",
       "      <td>0.043939</td>\n",
       "      <td>0.043802</td>\n",
       "      <td>0.043667</td>\n",
       "      <td>0.043532</td>\n",
       "      <td>0.043399</td>\n",
       "      <td>0.043266</td>\n",
       "      <td>0.043133</td>\n",
       "      <td>0.043002</td>\n",
       "      <td>0.042872</td>\n",
       "    </tr>\n",
       "    <tr>\n",
       "      <th>9</th>\n",
       "      <td>parking</td>\n",
       "      <td>0.073367</td>\n",
       "      <td>0.070080</td>\n",
       "      <td>0.073367</td>\n",
       "      <td>0.075538</td>\n",
       "      <td>0.076930</td>\n",
       "      <td>0.077768</td>\n",
       "      <td>0.078200</td>\n",
       "      <td>0.078332</td>\n",
       "      <td>0.078240</td>\n",
       "      <td>...</td>\n",
       "      <td>0.024303</td>\n",
       "      <td>0.024212</td>\n",
       "      <td>0.024122</td>\n",
       "      <td>0.024032</td>\n",
       "      <td>0.023944</td>\n",
       "      <td>0.023856</td>\n",
       "      <td>0.023768</td>\n",
       "      <td>0.023681</td>\n",
       "      <td>0.023595</td>\n",
       "      <td>0.023510</td>\n",
       "    </tr>\n",
       "    <tr>\n",
       "      <th>10</th>\n",
       "      <td>prefarea</td>\n",
       "      <td>0.065959</td>\n",
       "      <td>0.064605</td>\n",
       "      <td>0.065959</td>\n",
       "      <td>0.066838</td>\n",
       "      <td>0.067398</td>\n",
       "      <td>0.067734</td>\n",
       "      <td>0.067908</td>\n",
       "      <td>0.067960</td>\n",
       "      <td>0.067921</td>\n",
       "      <td>...</td>\n",
       "      <td>0.029532</td>\n",
       "      <td>0.029436</td>\n",
       "      <td>0.029342</td>\n",
       "      <td>0.029248</td>\n",
       "      <td>0.029154</td>\n",
       "      <td>0.029062</td>\n",
       "      <td>0.028969</td>\n",
       "      <td>0.028878</td>\n",
       "      <td>0.028786</td>\n",
       "      <td>0.028696</td>\n",
       "    </tr>\n",
       "    <tr>\n",
       "      <th>11</th>\n",
       "      <td>semi-furnished</td>\n",
       "      <td>-0.004982</td>\n",
       "      <td>-0.004788</td>\n",
       "      <td>-0.004982</td>\n",
       "      <td>-0.005096</td>\n",
       "      <td>-0.005157</td>\n",
       "      <td>-0.005177</td>\n",
       "      <td>-0.005168</td>\n",
       "      <td>-0.005137</td>\n",
       "      <td>-0.005088</td>\n",
       "      <td>...</td>\n",
       "      <td>0.002428</td>\n",
       "      <td>0.002432</td>\n",
       "      <td>0.002436</td>\n",
       "      <td>0.002440</td>\n",
       "      <td>0.002444</td>\n",
       "      <td>0.002448</td>\n",
       "      <td>0.002452</td>\n",
       "      <td>0.002456</td>\n",
       "      <td>0.002459</td>\n",
       "      <td>0.002463</td>\n",
       "    </tr>\n",
       "    <tr>\n",
       "      <th>12</th>\n",
       "      <td>unfurnished</td>\n",
       "      <td>-0.032415</td>\n",
       "      <td>-0.030837</td>\n",
       "      <td>-0.032415</td>\n",
       "      <td>-0.033717</td>\n",
       "      <td>-0.034810</td>\n",
       "      <td>-0.035737</td>\n",
       "      <td>-0.036529</td>\n",
       "      <td>-0.037211</td>\n",
       "      <td>-0.037799</td>\n",
       "      <td>...</td>\n",
       "      <td>-0.024809</td>\n",
       "      <td>-0.024740</td>\n",
       "      <td>-0.024672</td>\n",
       "      <td>-0.024605</td>\n",
       "      <td>-0.024538</td>\n",
       "      <td>-0.024471</td>\n",
       "      <td>-0.024404</td>\n",
       "      <td>-0.024338</td>\n",
       "      <td>-0.024272</td>\n",
       "      <td>-0.024207</td>\n",
       "    </tr>\n",
       "  </tbody>\n",
       "</table>\n",
       "<p>13 rows × 202 columns</p>\n",
       "</div>"
      ],
      "text/plain": [
       "           variable  estimate  estimate0  estimate1  estimate2  estimate3  \\\n",
       "0              area  0.254756   0.287359   0.254756   0.229641   0.209632   \n",
       "1          bedrooms  0.038962   0.029848   0.038962   0.044332   0.047541   \n",
       "2         bathrooms  0.246502   0.267501   0.246502   0.229107   0.214397   \n",
       "3           stories  0.115445   0.117395   0.115445   0.113922   0.112564   \n",
       "4          mainroad  0.039133   0.036826   0.039133   0.040734   0.041885   \n",
       "5         guestroom  0.033998   0.032053   0.033998   0.035489   0.036659   \n",
       "6          basement  0.022514   0.023709   0.022514   0.021687   0.021083   \n",
       "7   hotwaterheating  0.076438   0.080477   0.076438   0.072830   0.069569   \n",
       "8   airconditioning  0.085165   0.083666   0.085165   0.086253   0.087055   \n",
       "9           parking  0.073367   0.070080   0.073367   0.075538   0.076930   \n",
       "10         prefarea  0.065959   0.064605   0.065959   0.066838   0.067398   \n",
       "11   semi-furnished -0.004982  -0.004788  -0.004982  -0.005096  -0.005157   \n",
       "12      unfurnished -0.032415  -0.030837  -0.032415  -0.033717  -0.034810   \n",
       "\n",
       "    estimate4  estimate5  estimate6  estimate7  ...  estimate190  estimate191  \\\n",
       "0    0.193274   0.179623   0.168041   0.158075  ...     0.020107     0.020023   \n",
       "1    0.049432   0.050482   0.050979   0.051104  ...     0.013017     0.012965   \n",
       "2    0.201754   0.190747   0.181059   0.172455  ...     0.023594     0.023492   \n",
       "3    0.111263   0.109974   0.108682   0.107382  ...     0.029692     0.029577   \n",
       "4    0.042732   0.043362   0.043833   0.044182  ...     0.020934     0.020865   \n",
       "5    0.037592   0.038345   0.038955   0.039451  ...     0.021643     0.021578   \n",
       "6    0.020621   0.020257   0.019962   0.019716  ...     0.012224     0.012196   \n",
       "7    0.066597   0.063873   0.061363   0.059042  ...     0.006608     0.006574   \n",
       "8    0.087648   0.088081   0.088388   0.088596  ...     0.044076     0.043939   \n",
       "9    0.077768   0.078200   0.078332   0.078240  ...     0.024303     0.024212   \n",
       "10   0.067734   0.067908   0.067960   0.067921  ...     0.029532     0.029436   \n",
       "11  -0.005177  -0.005168  -0.005137  -0.005088  ...     0.002428     0.002432   \n",
       "12  -0.035737  -0.036529  -0.037211  -0.037799  ...    -0.024809    -0.024740   \n",
       "\n",
       "    estimate192  estimate193  estimate194  estimate195  estimate196  \\\n",
       "0      0.019940     0.019857     0.019775     0.019694     0.019613   \n",
       "1      0.012914     0.012863     0.012812     0.012762     0.012713   \n",
       "2      0.023392     0.023292     0.023194     0.023096     0.022999   \n",
       "3      0.029463     0.029350     0.029238     0.029127     0.029017   \n",
       "4      0.020797     0.020729     0.020662     0.020595     0.020528   \n",
       "5      0.021512     0.021447     0.021382     0.021318     0.021254   \n",
       "6      0.012168     0.012140     0.012112     0.012085     0.012057   \n",
       "7      0.006540     0.006507     0.006474     0.006441     0.006409   \n",
       "8      0.043802     0.043667     0.043532     0.043399     0.043266   \n",
       "9      0.024122     0.024032     0.023944     0.023856     0.023768   \n",
       "10     0.029342     0.029248     0.029154     0.029062     0.028969   \n",
       "11     0.002436     0.002440     0.002444     0.002448     0.002452   \n",
       "12    -0.024672    -0.024605    -0.024538    -0.024471    -0.024404   \n",
       "\n",
       "    estimate197  estimate198  estimate199  \n",
       "0      0.019533     0.019454     0.019375  \n",
       "1      0.012664     0.012615     0.012566  \n",
       "2      0.022902     0.022807     0.022712  \n",
       "3      0.028907     0.028799     0.028691  \n",
       "4      0.020462     0.020397     0.020332  \n",
       "5      0.021191     0.021127     0.021065  \n",
       "6      0.012030     0.012002     0.011975  \n",
       "7      0.006377     0.006345     0.006314  \n",
       "8      0.043133     0.043002     0.042872  \n",
       "9      0.023681     0.023595     0.023510  \n",
       "10     0.028878     0.028786     0.028696  \n",
       "11     0.002456     0.002459     0.002463  \n",
       "12    -0.024338    -0.024272    -0.024207  \n",
       "\n",
       "[13 rows x 202 columns]"
      ]
     },
     "execution_count": 62,
     "metadata": {},
     "output_type": "execute_result"
    }
   ],
   "source": [
    "ridge_df"
   ]
  },
  {
   "cell_type": "markdown",
   "metadata": {},
   "source": [
    "# Analysis"
   ]
  },
  {
   "cell_type": "code",
   "execution_count": 66,
   "metadata": {},
   "outputs": [],
   "source": [
    "from sklearn.metrics import r2_score, mean_squared_error\n",
    "\n",
    "#r_squared for training set\n",
    "ridge_r2_train = [r2_score(y_train,p) for p in ridge_train_pred]\n",
    "\n",
    "#r_squared for testing set\n",
    "ridge_r2_test = [r2_score(y_test,p) for p in ridge_test_pred]\n",
    "\n",
    "#lin reg r2 score\n",
    "reg_r2 = r2_score(y_test,reg_pred)"
   ]
  },
  {
   "cell_type": "code",
   "execution_count": 76,
   "metadata": {},
   "outputs": [
    {
     "data": {
      "text/plain": [
       "Text(0, 0.5, 'R_square')"
      ]
     },
     "execution_count": 76,
     "metadata": {},
     "output_type": "execute_result"
    },
    {
     "data": {
      "image/png": "[encoded data removed]",
      "text/plain": [
       "<Figure size 432x288 with 1 Axes>"
      ]
     },
     "metadata": {
      "needs_background": "light"
     },
     "output_type": "display_data"
    }
   ],
   "source": [
    "fig = plt.figure()\n",
    "plt.plot(ridge_r2_train,\"b\",ridge_r2_test,\"r\",linewidth = 2.5,linestyle = \"-\")\n",
    "plt.title(\"Ridge Regression R-squared\", fontsize=16)\n",
    "plt.ylabel(\"R_square\",fontsize = 16)"
   ]
  },
  {
   "cell_type": "code",
   "execution_count": 77,
   "metadata": {},
   "outputs": [],
   "source": [
    "# MSE for traing set\n",
    "ridge_mse_train = [mean_squared_error(y_train, p) for p in ridge_train_pred]\n",
    "\n",
    "#MSE for testing set\n",
    "ridge_mse_test = [mean_squared_error(y_train, p) for p in ridge_train_pred]\n"
   ]
  },
  {
   "cell_type": "code",
   "execution_count": 79,
   "metadata": {},
   "outputs": [
    {
     "data": {
      "text/plain": [
       "Text(0, 0.5, 'MSE')"
      ]
     },
     "execution_count": 79,
     "metadata": {},
     "output_type": "execute_result"
    },
    {
     "data": {
      "image/png": "[encoded data removed]",
      "text/plain": [
       "<Figure size 432x288 with 1 Axes>"
      ]
     },
     "metadata": {
      "needs_background": "light"
     },
     "output_type": "display_data"
    }
   ],
   "source": [
    "fig = plt.figure()\n",
    "plt.plot(ridge_mse_train,\"b\",ridge_mse_test,\"r\",linewidth = 2.5,linestyle = \"-\")\n",
    "plt.title(\"Ridge Regression MSE\", fontsize=16)\n",
    "plt.ylabel(\"MSE\",fontsize = 16)"
   ]
  },
  {
   "cell_type": "markdown",
   "metadata": {},
   "source": [
    "# Finding Best Fit Lambda\n",
    "* Since we now understand how it works, it would be wise to use libraries already built. We can think of GridSearchCV, judging from the pattern of problem that we should change values for a certain parameter, lambda here. In addition, there is another library called RidgeCV"
   ]
  },
  {
   "cell_type": "markdown",
   "metadata": {},
   "source": [
    "# GridSearchCV"
   ]
  },
  {
   "cell_type": "code",
   "execution_count": 80,
   "metadata": {},
   "outputs": [],
   "source": [
    "from sklearn.model_selection import GridSearchCV"
   ]
  },
  {
   "cell_type": "code",
   "execution_count": 83,
   "metadata": {},
   "outputs": [
    {
     "name": "stdout",
     "output_type": "stream",
     "text": [
      "Ridge(alpha=0.5800000000000001, copy_X=True, fit_intercept=True, max_iter=None,\n",
      "      normalize=False, random_state=None, solver='auto', tol=0.001)\n",
      "\n",
      "R2 score : 0.6284606400167729\n",
      "MSE : 0.009232342576132842\n"
     ]
    }
   ],
   "source": [
    "# Parameter setup\n",
    "\n",
    "param = {\"alpha\":np.arange(0.01,10,0.01)}\n",
    "\n",
    "ridge_grid = GridSearchCV(Ridge(),param)\n",
    "ridge_grid.fit(X_train,y_train)\n",
    "ridge_grid_pred = ridge_grid.predict(X_test)\n",
    "\n",
    "print(ridge_grid.best_estimator_)\n",
    "print(\"\\nR2 score :\",r2_score(y_test,ridge_grid_pred))\n",
    "print(\"MSE :\",mean_squared_error(y_test,ridge_grid_pred))"
   ]
  },
  {
   "cell_type": "code",
   "execution_count": 84,
   "metadata": {},
   "outputs": [
    {
     "name": "stdout",
     "output_type": "stream",
     "text": [
      "0.661214468245757\n"
     ]
    }
   ],
   "source": [
    "print(ridge_grid.best_score_)"
   ]
  },
  {
   "cell_type": "code",
   "execution_count": null,
   "metadata": {},
   "outputs": [],
   "source": []
  }
 ],
 "metadata": {
  "kernelspec": {
   "display_name": "tf-gpu",
   "language": "python",
   "name": "tf-gpu"
  },
  "language_info": {
   "codemirror_mode": {
    "name": "ipython",
    "version": 3
   },
   "file_extension": ".py",
   "mimetype": "text/x-python",
   "name": "python",
   "nbconvert_exporter": "python",
   "pygments_lexer": "ipython3",
   "version": "3.7.6"
  }
 },
 "nbformat": 4,
 "nbformat_minor": 2
}
